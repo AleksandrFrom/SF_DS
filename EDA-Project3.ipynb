{
 "cells": [
  {
   "cell_type": "markdown",
   "metadata": {},
   "source": [
    "### КЕЙС\n",
    "\n",
    "Представим, что работаем дата-сайентистом в компании Booking. Одна из проблем компании — это нечестные отели, которые накручивают себе рейтинг. Одним из способов обнаружения таких отелей является построение модели, которая предсказывает рейтинг отеля. Если предсказания модели сильно отличаются от фактического результата, то, возможно, отель ведёт себя нечестно, и его стоит проверить."
   ]
  },
  {
   "cell_type": "code",
   "execution_count": 114,
   "metadata": {},
   "outputs": [],
   "source": [
    "import pandas as pd\n",
    "import numpy as np\n",
    "import matplotlib.pyplot as plt  \n",
    "import seaborn as sns  \n",
    "import plotly.express as px"
   ]
  },
  {
   "cell_type": "markdown",
   "metadata": {},
   "source": [
    "### Исходные данные"
   ]
  },
  {
   "cell_type": "code",
   "execution_count": 115,
   "metadata": {},
   "outputs": [],
   "source": [
    "#импорт данных\n",
    "\n",
    "df_train = pd.read_csv('data/hotels_train.csv') \n",
    "df_test = pd.read_csv('data/hotels_test.csv') "
   ]
  },
  {
   "cell_type": "code",
   "execution_count": 116,
   "metadata": {},
   "outputs": [
    {
     "name": "stdout",
     "output_type": "stream",
     "text": [
      "<class 'pandas.core.frame.DataFrame'>\n",
      "RangeIndex: 386803 entries, 0 to 386802\n",
      "Data columns (total 17 columns):\n",
      " #   Column                                      Non-Null Count   Dtype  \n",
      "---  ------                                      --------------   -----  \n",
      " 0   hotel_address                               386803 non-null  object \n",
      " 1   additional_number_of_scoring                386803 non-null  int64  \n",
      " 2   review_date                                 386803 non-null  object \n",
      " 3   average_score                               386803 non-null  float64\n",
      " 4   hotel_name                                  386803 non-null  object \n",
      " 5   reviewer_nationality                        386803 non-null  object \n",
      " 6   negative_review                             386803 non-null  object \n",
      " 7   review_total_negative_word_counts           386803 non-null  int64  \n",
      " 8   total_number_of_reviews                     386803 non-null  int64  \n",
      " 9   positive_review                             386803 non-null  object \n",
      " 10  review_total_positive_word_counts           386803 non-null  int64  \n",
      " 11  total_number_of_reviews_reviewer_has_given  386803 non-null  int64  \n",
      " 12  reviewer_score                              386803 non-null  float64\n",
      " 13  tags                                        386803 non-null  object \n",
      " 14  days_since_review                           386803 non-null  object \n",
      " 15  lat                                         384355 non-null  float64\n",
      " 16  lng                                         384355 non-null  float64\n",
      "dtypes: float64(4), int64(5), object(8)\n",
      "memory usage: 50.2+ MB\n"
     ]
    }
   ],
   "source": [
    "df_train.info()"
   ]
  },
  {
   "cell_type": "code",
   "execution_count": 117,
   "metadata": {},
   "outputs": [
    {
     "data": {
      "text/html": [
       "<div>\n",
       "<style scoped>\n",
       "    .dataframe tbody tr th:only-of-type {\n",
       "        vertical-align: middle;\n",
       "    }\n",
       "\n",
       "    .dataframe tbody tr th {\n",
       "        vertical-align: top;\n",
       "    }\n",
       "\n",
       "    .dataframe thead th {\n",
       "        text-align: right;\n",
       "    }\n",
       "</style>\n",
       "<table border=\"1\" class=\"dataframe\">\n",
       "  <thead>\n",
       "    <tr style=\"text-align: right;\">\n",
       "      <th></th>\n",
       "      <th>hotel_address</th>\n",
       "      <th>additional_number_of_scoring</th>\n",
       "      <th>review_date</th>\n",
       "      <th>average_score</th>\n",
       "      <th>hotel_name</th>\n",
       "      <th>reviewer_nationality</th>\n",
       "      <th>negative_review</th>\n",
       "      <th>review_total_negative_word_counts</th>\n",
       "      <th>total_number_of_reviews</th>\n",
       "      <th>positive_review</th>\n",
       "      <th>review_total_positive_word_counts</th>\n",
       "      <th>total_number_of_reviews_reviewer_has_given</th>\n",
       "      <th>reviewer_score</th>\n",
       "      <th>tags</th>\n",
       "      <th>days_since_review</th>\n",
       "      <th>lat</th>\n",
       "      <th>lng</th>\n",
       "    </tr>\n",
       "  </thead>\n",
       "  <tbody>\n",
       "    <tr>\n",
       "      <th>0</th>\n",
       "      <td>Stratton Street Mayfair Westminster Borough Lo...</td>\n",
       "      <td>581</td>\n",
       "      <td>2/19/2016</td>\n",
       "      <td>8.4</td>\n",
       "      <td>The May Fair Hotel</td>\n",
       "      <td>United Kingdom</td>\n",
       "      <td>Leaving</td>\n",
       "      <td>3</td>\n",
       "      <td>1994</td>\n",
       "      <td>Staff were amazing</td>\n",
       "      <td>4</td>\n",
       "      <td>7</td>\n",
       "      <td>10.0</td>\n",
       "      <td>[' Leisure trip ', ' Couple ', ' Studio Suite ...</td>\n",
       "      <td>531 day</td>\n",
       "      <td>51.507894</td>\n",
       "      <td>-0.143671</td>\n",
       "    </tr>\n",
       "    <tr>\n",
       "      <th>1</th>\n",
       "      <td>130 134 Southampton Row Camden London WC1B 5AF...</td>\n",
       "      <td>299</td>\n",
       "      <td>1/12/2017</td>\n",
       "      <td>8.3</td>\n",
       "      <td>Mercure London Bloomsbury Hotel</td>\n",
       "      <td>United Kingdom</td>\n",
       "      <td>poor breakfast</td>\n",
       "      <td>3</td>\n",
       "      <td>1361</td>\n",
       "      <td>location</td>\n",
       "      <td>2</td>\n",
       "      <td>14</td>\n",
       "      <td>6.3</td>\n",
       "      <td>[' Business trip ', ' Couple ', ' Standard Dou...</td>\n",
       "      <td>203 day</td>\n",
       "      <td>51.521009</td>\n",
       "      <td>-0.123097</td>\n",
       "    </tr>\n",
       "    <tr>\n",
       "      <th>2</th>\n",
       "      <td>151 bis Rue de Rennes 6th arr 75006 Paris France</td>\n",
       "      <td>32</td>\n",
       "      <td>10/18/2016</td>\n",
       "      <td>8.9</td>\n",
       "      <td>Legend Saint Germain by Elegancia</td>\n",
       "      <td>China</td>\n",
       "      <td>No kettle in room</td>\n",
       "      <td>6</td>\n",
       "      <td>406</td>\n",
       "      <td>No Positive</td>\n",
       "      <td>0</td>\n",
       "      <td>14</td>\n",
       "      <td>7.5</td>\n",
       "      <td>[' Leisure trip ', ' Solo traveler ', ' Modern...</td>\n",
       "      <td>289 day</td>\n",
       "      <td>48.845377</td>\n",
       "      <td>2.325643</td>\n",
       "    </tr>\n",
       "  </tbody>\n",
       "</table>\n",
       "</div>"
      ],
      "text/plain": [
       "                                       hotel_address  \\\n",
       "0  Stratton Street Mayfair Westminster Borough Lo...   \n",
       "1  130 134 Southampton Row Camden London WC1B 5AF...   \n",
       "2   151 bis Rue de Rennes 6th arr 75006 Paris France   \n",
       "\n",
       "   additional_number_of_scoring review_date  average_score  \\\n",
       "0                           581   2/19/2016            8.4   \n",
       "1                           299   1/12/2017            8.3   \n",
       "2                            32  10/18/2016            8.9   \n",
       "\n",
       "                          hotel_name reviewer_nationality  \\\n",
       "0                 The May Fair Hotel      United Kingdom    \n",
       "1    Mercure London Bloomsbury Hotel      United Kingdom    \n",
       "2  Legend Saint Germain by Elegancia               China    \n",
       "\n",
       "       negative_review  review_total_negative_word_counts  \\\n",
       "0             Leaving                                   3   \n",
       "1       poor breakfast                                  3   \n",
       "2   No kettle in room                                   6   \n",
       "\n",
       "   total_number_of_reviews      positive_review  \\\n",
       "0                     1994   Staff were amazing   \n",
       "1                     1361             location   \n",
       "2                      406          No Positive   \n",
       "\n",
       "   review_total_positive_word_counts  \\\n",
       "0                                  4   \n",
       "1                                  2   \n",
       "2                                  0   \n",
       "\n",
       "   total_number_of_reviews_reviewer_has_given  reviewer_score  \\\n",
       "0                                           7            10.0   \n",
       "1                                          14             6.3   \n",
       "2                                          14             7.5   \n",
       "\n",
       "                                                tags days_since_review  \\\n",
       "0  [' Leisure trip ', ' Couple ', ' Studio Suite ...           531 day   \n",
       "1  [' Business trip ', ' Couple ', ' Standard Dou...           203 day   \n",
       "2  [' Leisure trip ', ' Solo traveler ', ' Modern...           289 day   \n",
       "\n",
       "         lat       lng  \n",
       "0  51.507894 -0.143671  \n",
       "1  51.521009 -0.123097  \n",
       "2  48.845377  2.325643  "
      ]
     },
     "execution_count": 117,
     "metadata": {},
     "output_type": "execute_result"
    }
   ],
   "source": [
    "df_train.head(3)"
   ]
  },
  {
   "cell_type": "code",
   "execution_count": 118,
   "metadata": {},
   "outputs": [
    {
     "name": "stdout",
     "output_type": "stream",
     "text": [
      "\n",
      "Столбцы с явными пропусками данных:\n",
      "lat    2448\n",
      "lng    2448\n",
      "dtype: int64\n"
     ]
    }
   ],
   "source": [
    "#поиск пропусков в данных\n",
    "\n",
    "null_data = df_train.isnull().sum()\n",
    "\n",
    "print(f'\\nСтолбцы с явными пропусками данных:\\n{null_data[null_data > 0]}')"
   ]
  },
  {
   "cell_type": "code",
   "execution_count": 119,
   "metadata": {},
   "outputs": [],
   "source": [
    "#заполнение пропусокв\n",
    "\n",
    "df_train = df_train.fillna(0)"
   ]
  },
  {
   "cell_type": "markdown",
   "metadata": {},
   "source": [
    "### Оценим влияние расположения отеля на отзыв. Возможно в какой-либо стране отели оценивают по разному."
   ]
  },
  {
   "cell_type": "code",
   "execution_count": 120,
   "metadata": {},
   "outputs": [
    {
     "name": "stdout",
     "output_type": "stream",
     "text": [
      "\n",
      "Рассмотрим структуру строк с данными адреса:\n"
     ]
    },
    {
     "data": {
      "text/plain": [
       "0       Stratton Street Mayfair Westminster Borough Lo...\n",
       "1       130 134 Southampton Row Camden London WC1B 5AF...\n",
       "2        151 bis Rue de Rennes 6th arr 75006 Paris France\n",
       "3       216 Avenue Jean Jaures 19th arr 75019 Paris Fr...\n",
       "4               Molenwerf 1 1014 AG Amsterdam Netherlands\n",
       "                              ...                        \n",
       "1488      Viriotgasse 5 09 Alsergrund 1090 Vienna Austria\n",
       "1489             8 rue d Anjou 8th arr 75008 Paris France\n",
       "1490    Prinsengracht 717 Amsterdam City Center 1017 J...\n",
       "1491    43 Rue De l Abb Gr goire 6th arr 75006 Paris F...\n",
       "1492    Johann Staud Stra e 32 16 Ottakring 1160 Vienn...\n",
       "Length: 1493, dtype: object"
      ]
     },
     "metadata": {},
     "output_type": "display_data"
    }
   ],
   "source": [
    "addresses = pd.Series(df_train['hotel_address'].unique())\n",
    "\n",
    "print('\\nРассмотрим структуру строк с данными адреса:')\n",
    "display(addresses)"
   ]
  },
  {
   "cell_type": "code",
   "execution_count": 121,
   "metadata": {},
   "outputs": [],
   "source": [
    "#выбираем страну из адреса отеля\n",
    "df_train['hotel_country'] = df_train['hotel_address'].apply(\n",
    "    lambda x: 'United Kingdom' if x.split()[-1] == 'Kingdom' else x.split()[-1])"
   ]
  },
  {
   "cell_type": "markdown",
   "metadata": {},
   "source": [
    "### Визуализируем зависимость оценки от страны"
   ]
  },
  {
   "cell_type": "code",
   "execution_count": 122,
   "metadata": {},
   "outputs": [
    {
     "data": {
      "text/plain": [
       "Text(0.5, 1.0, 'Зависимость средней оценки\\nот страны отеля')"
      ]
     },
     "execution_count": 122,
     "metadata": {},
     "output_type": "execute_result"
    },
    {
     "data": {
      "image/png": "[encoded data removed]",
      "text/plain": [
       "<Figure size 1080x432 with 1 Axes>"
      ]
     },
     "metadata": {},
     "output_type": "display_data"
    }
   ],
   "source": [
    "pivot_country_score = df_train.groupby(['hotel_country'])['reviewer_score'].mean()\n",
    "\n",
    "fig1, ax1 = plt.subplots(figsize=(15, 6))\n",
    "sns.set_style('whitegrid')\n",
    "district_type_plot = pivot_country_score.plot(\n",
    "    ax=ax1, \n",
    "    kind='bar', \n",
    "    width=0.85, \n",
    "    color=['indianred', 'darksalmon', 'cadetblue', 'slateblue'],\n",
    "    rot=0)\n",
    "\n",
    "ax1.set_title('Зависимость средней оценки\\nот страны отеля')"
   ]
  },
  {
   "cell_type": "markdown",
   "metadata": {},
   "source": [
    "Средний бал во всех странах примерно одинаковый, можно сделать вывод, что страна, где находится отель не влияет на средний бал."
   ]
  },
  {
   "cell_type": "markdown",
   "metadata": {},
   "source": [
    "### Рассмотрим временной период опубликования оценок"
   ]
  },
  {
   "cell_type": "code",
   "execution_count": 123,
   "metadata": {},
   "outputs": [],
   "source": [
    "#изменим формат даты, оставим месяц опубликования\n",
    "df_train['month'] = pd.to_datetime(df_train['review_date']).dt.month"
   ]
  },
  {
   "cell_type": "code",
   "execution_count": 124,
   "metadata": {},
   "outputs": [
    {
     "data": {
      "text/html": [
       "<div>\n",
       "<style scoped>\n",
       "    .dataframe tbody tr th:only-of-type {\n",
       "        vertical-align: middle;\n",
       "    }\n",
       "\n",
       "    .dataframe tbody tr th {\n",
       "        vertical-align: top;\n",
       "    }\n",
       "\n",
       "    .dataframe thead th {\n",
       "        text-align: right;\n",
       "    }\n",
       "</style>\n",
       "<table border=\"1\" class=\"dataframe\">\n",
       "  <thead>\n",
       "    <tr style=\"text-align: right;\">\n",
       "      <th></th>\n",
       "      <th>month</th>\n",
       "      <th>count</th>\n",
       "    </tr>\n",
       "  </thead>\n",
       "  <tbody>\n",
       "    <tr>\n",
       "      <th>0</th>\n",
       "      <td>1</td>\n",
       "      <td>31512</td>\n",
       "    </tr>\n",
       "    <tr>\n",
       "      <th>1</th>\n",
       "      <td>2</td>\n",
       "      <td>28735</td>\n",
       "    </tr>\n",
       "    <tr>\n",
       "      <th>2</th>\n",
       "      <td>3</td>\n",
       "      <td>30901</td>\n",
       "    </tr>\n",
       "    <tr>\n",
       "      <th>3</th>\n",
       "      <td>4</td>\n",
       "      <td>32213</td>\n",
       "    </tr>\n",
       "    <tr>\n",
       "      <th>4</th>\n",
       "      <td>5</td>\n",
       "      <td>34684</td>\n",
       "    </tr>\n",
       "  </tbody>\n",
       "</table>\n",
       "</div>"
      ],
      "text/plain": [
       "   month  count\n",
       "0      1  31512\n",
       "1      2  28735\n",
       "2      3  30901\n",
       "3      4  32213\n",
       "4      5  34684"
      ]
     },
     "execution_count": 124,
     "metadata": {},
     "output_type": "execute_result"
    }
   ],
   "source": [
    "# Готовим данные для графика в виде сводной таблицы\n",
    "\n",
    "data = df_train.groupby('month')['reviewer_score'].agg(count='count').reset_index().sort_values(by='month')\n",
    "data.head()"
   ]
  },
  {
   "cell_type": "code",
   "execution_count": 125,
   "metadata": {},
   "outputs": [
    {
     "data": {
      "text/html": [
       "<div>\n",
       "<style scoped>\n",
       "    .dataframe tbody tr th:only-of-type {\n",
       "        vertical-align: middle;\n",
       "    }\n",
       "\n",
       "    .dataframe tbody tr th {\n",
       "        vertical-align: top;\n",
       "    }\n",
       "\n",
       "    .dataframe thead th {\n",
       "        text-align: right;\n",
       "    }\n",
       "</style>\n",
       "<table border=\"1\" class=\"dataframe\">\n",
       "  <thead>\n",
       "    <tr style=\"text-align: right;\">\n",
       "      <th></th>\n",
       "      <th>month</th>\n",
       "      <th>count</th>\n",
       "    </tr>\n",
       "  </thead>\n",
       "  <tbody>\n",
       "    <tr>\n",
       "      <th>0</th>\n",
       "      <td>1</td>\n",
       "      <td>21176</td>\n",
       "    </tr>\n",
       "    <tr>\n",
       "      <th>1</th>\n",
       "      <td>2</td>\n",
       "      <td>19673</td>\n",
       "    </tr>\n",
       "    <tr>\n",
       "      <th>2</th>\n",
       "      <td>3</td>\n",
       "      <td>20742</td>\n",
       "    </tr>\n",
       "    <tr>\n",
       "      <th>3</th>\n",
       "      <td>4</td>\n",
       "      <td>21268</td>\n",
       "    </tr>\n",
       "    <tr>\n",
       "      <th>4</th>\n",
       "      <td>5</td>\n",
       "      <td>22571</td>\n",
       "    </tr>\n",
       "  </tbody>\n",
       "</table>\n",
       "</div>"
      ],
      "text/plain": [
       "   month  count\n",
       "0      1  21176\n",
       "1      2  19673\n",
       "2      3  20742\n",
       "3      4  21268\n",
       "4      5  22571"
      ]
     },
     "execution_count": 125,
     "metadata": {},
     "output_type": "execute_result"
    }
   ],
   "source": [
    "# Фильтруем и готовим данные по влиянию времени на оценку\n",
    "\n",
    "data1 = df_train[df_train['reviewer_score'] >=8].groupby('month')['reviewer_score'] \\\n",
    "             .agg(count='count').reset_index().sort_values(by='month')\n",
    "\n",
    "data2 = df_train[df_train['reviewer_score'] <8].groupby('month')['reviewer_score'] \\\n",
    "             .agg(count='count').reset_index().sort_values(by='month')\n",
    "             \n",
    "data1.head()"
   ]
  },
  {
   "cell_type": "code",
   "execution_count": 126,
   "metadata": {},
   "outputs": [
    {
     "data": {
      "image/png": "[encoded data removed]",
      "text/plain": [
       "<Figure size 720x504 with 1 Axes>"
      ]
     },
     "metadata": {},
     "output_type": "display_data"
    }
   ],
   "source": [
    "# Строим линейный график с отфильтрованными данными\n",
    "\n",
    "plt.figure(figsize=(10, 7))\n",
    "\n",
    "plt.plot(data1['month'], data1['count'])\n",
    "plt.plot(data2['month'], data2['count'])\n",
    "\n",
    "plt.title('Выставление оценок в зависимости от месяца')\n",
    "plt.xlabel('Месяц')\n",
    "plt.ylabel('Кол-во оценок')\n",
    "plt.legend(['Оценки выше 8 баллов', 'Оценки ниже 8 баллов'])\n",
    "\n",
    "plt.show()"
   ]
  },
  {
   "cell_type": "markdown",
   "metadata": {},
   "source": [
    "#### Здесь очевидный вывод, что с 6 по 8 месяц - сезон отпусков и путешествий, соответственно и увеличение оценок.\n",
    "Возможно данный параметр имеет смысл учитывать при обучении модели"
   ]
  },
  {
   "cell_type": "markdown",
   "metadata": {},
   "source": [
    "### Рассмотрим Теги для оценки свзя между оценкой и поставленными тегами"
   ]
  },
  {
   "cell_type": "code",
   "execution_count": 127,
   "metadata": {},
   "outputs": [
    {
     "data": {
      "text/plain": [
       "Leisure trip                                                   313593\n",
       "Submitted from a mobile device                                 230778\n",
       "Couple                                                         189212\n",
       "Stayed 1 night                                                 145373\n",
       "Stayed 2 nights                                                100263\n",
       "                                                                ...  \n",
       "Deluxe Family Room with 1 Double and 2 Single Beds                  1\n",
       "One Bedroom Executive Suite with Lounge Access                      1\n",
       "Oscar Wilde Room                                                    1\n",
       "Twin Junior Suite City View with Access to Executive Lounge         1\n",
       "Executive Premium Queen Room with Sofa Bed                          1\n",
       "Name: tags_n, Length: 2368, dtype: int64"
      ]
     },
     "execution_count": 127,
     "metadata": {},
     "output_type": "execute_result"
    }
   ],
   "source": [
    "# поиск регулярных выражений\n",
    "\n",
    "import re\n",
    "\n",
    "def re_func(num_tags):\n",
    "    found = re.findall(\"'[^\\'](.+?)[^\\']'\", num_tags)\n",
    "    return found\n",
    "\n",
    "\n",
    "df_train['tags_n'] = df_train['tags'].apply(re_func)\n",
    "df_train = df_train.explode('tags_n')\n",
    "\n",
    "df_train['tags_n'].unique()\n",
    "df_train['tags_n'].value_counts()"
   ]
  },
  {
   "cell_type": "code",
   "execution_count": 128,
   "metadata": {},
   "outputs": [
    {
     "data": {
      "text/html": [
       "<div>\n",
       "<style scoped>\n",
       "    .dataframe tbody tr th:only-of-type {\n",
       "        vertical-align: middle;\n",
       "    }\n",
       "\n",
       "    .dataframe tbody tr th {\n",
       "        vertical-align: top;\n",
       "    }\n",
       "\n",
       "    .dataframe thead th {\n",
       "        text-align: right;\n",
       "    }\n",
       "</style>\n",
       "<table border=\"1\" class=\"dataframe\">\n",
       "  <thead>\n",
       "    <tr style=\"text-align: right;\">\n",
       "      <th>hotel_country</th>\n",
       "      <th>Austria</th>\n",
       "      <th>France</th>\n",
       "      <th>Italy</th>\n",
       "      <th>Netherlands</th>\n",
       "      <th>Spain</th>\n",
       "      <th>United Kingdom</th>\n",
       "    </tr>\n",
       "    <tr>\n",
       "      <th>reviewer_score</th>\n",
       "      <th></th>\n",
       "      <th></th>\n",
       "      <th></th>\n",
       "      <th></th>\n",
       "      <th></th>\n",
       "      <th></th>\n",
       "    </tr>\n",
       "  </thead>\n",
       "  <tbody>\n",
       "    <tr>\n",
       "      <th>2.5</th>\n",
       "      <td>2 rooms</td>\n",
       "      <td>2 Connecting Rooms 4 people</td>\n",
       "      <td>2 rooms</td>\n",
       "      <td>2 rooms</td>\n",
       "      <td>2 rooms</td>\n",
       "      <td>2 rooms</td>\n",
       "    </tr>\n",
       "    <tr>\n",
       "      <th>2.9</th>\n",
       "      <td>Business trip</td>\n",
       "      <td>2 rooms</td>\n",
       "      <td>2 rooms</td>\n",
       "      <td>2 rooms</td>\n",
       "      <td>2 rooms</td>\n",
       "      <td>2 rooms</td>\n",
       "    </tr>\n",
       "    <tr>\n",
       "      <th>3.0</th>\n",
       "      <td>NaN</td>\n",
       "      <td>2 Adjacent Non Communicating Rooms</td>\n",
       "      <td>Comfort Quadruple Room</td>\n",
       "      <td>Business trip</td>\n",
       "      <td>NaN</td>\n",
       "      <td>Business trip</td>\n",
       "    </tr>\n",
       "    <tr>\n",
       "      <th>3.1</th>\n",
       "      <td>NaN</td>\n",
       "      <td>NaN</td>\n",
       "      <td>NaN</td>\n",
       "      <td>Business trip</td>\n",
       "      <td>NaN</td>\n",
       "      <td>Business trip</td>\n",
       "    </tr>\n",
       "    <tr>\n",
       "      <th>3.3</th>\n",
       "      <td>2 rooms</td>\n",
       "      <td>2 Connecting Deluxe Rooms with VIP Service for...</td>\n",
       "      <td>2 rooms</td>\n",
       "      <td>2 rooms</td>\n",
       "      <td>2 rooms</td>\n",
       "      <td>2 rooms</td>\n",
       "    </tr>\n",
       "    <tr>\n",
       "      <th>3.5</th>\n",
       "      <td>2 rooms</td>\n",
       "      <td>Business trip</td>\n",
       "      <td>Business trip</td>\n",
       "      <td>Business trip</td>\n",
       "      <td>Couple</td>\n",
       "      <td>Basic Double Room</td>\n",
       "    </tr>\n",
       "    <tr>\n",
       "      <th>3.8</th>\n",
       "      <td>2 rooms</td>\n",
       "      <td>2 rooms</td>\n",
       "      <td>2 rooms</td>\n",
       "      <td>2 rooms</td>\n",
       "      <td>2 rooms</td>\n",
       "      <td>2 rooms</td>\n",
       "    </tr>\n",
       "    <tr>\n",
       "      <th>4.0</th>\n",
       "      <td>2 rooms</td>\n",
       "      <td>Business trip</td>\n",
       "      <td>Business trip</td>\n",
       "      <td>Couple</td>\n",
       "      <td>Business trip</td>\n",
       "      <td>2 rooms</td>\n",
       "    </tr>\n",
       "    <tr>\n",
       "      <th>4.2</th>\n",
       "      <td>2 rooms</td>\n",
       "      <td>2 Connecting Deluxe Rooms with VIP Service for...</td>\n",
       "      <td>1 King Bed Guest Room</td>\n",
       "      <td>2 rooms</td>\n",
       "      <td>2 rooms</td>\n",
       "      <td>2 rooms</td>\n",
       "    </tr>\n",
       "    <tr>\n",
       "      <th>4.4</th>\n",
       "      <td>Couple</td>\n",
       "      <td>Double Room</td>\n",
       "      <td>NaN</td>\n",
       "      <td>NaN</td>\n",
       "      <td>Deluxe Double or Twin Room</td>\n",
       "      <td>Business trip</td>\n",
       "    </tr>\n",
       "    <tr>\n",
       "      <th>4.5</th>\n",
       "      <td>2 rooms</td>\n",
       "      <td>Business trip</td>\n",
       "      <td>Business trip</td>\n",
       "      <td>Business trip</td>\n",
       "      <td>Business trip</td>\n",
       "      <td>2 rooms</td>\n",
       "    </tr>\n",
       "    <tr>\n",
       "      <th>4.6</th>\n",
       "      <td>2 rooms</td>\n",
       "      <td>2 Double Rooms next to each other</td>\n",
       "      <td>1 King Bed Guest Room</td>\n",
       "      <td>2 rooms</td>\n",
       "      <td>2 rooms</td>\n",
       "      <td>2 rooms</td>\n",
       "    </tr>\n",
       "    <tr>\n",
       "      <th>5.0</th>\n",
       "      <td>2 rooms</td>\n",
       "      <td>2 rooms</td>\n",
       "      <td>1 King Bed Guest Room</td>\n",
       "      <td>2 rooms</td>\n",
       "      <td>2 rooms</td>\n",
       "      <td>2 rooms</td>\n",
       "    </tr>\n",
       "    <tr>\n",
       "      <th>5.4</th>\n",
       "      <td>2 rooms</td>\n",
       "      <td>2 Adjacent Non Communicating Rooms</td>\n",
       "      <td>2 rooms</td>\n",
       "      <td>2 rooms</td>\n",
       "      <td>2 rooms</td>\n",
       "      <td>2 rooms</td>\n",
       "    </tr>\n",
       "    <tr>\n",
       "      <th>5.5</th>\n",
       "      <td>Business trip</td>\n",
       "      <td>2 rooms</td>\n",
       "      <td>Business Double or Twin Room</td>\n",
       "      <td>2 rooms</td>\n",
       "      <td>Business trip</td>\n",
       "      <td>Basic Double Room</td>\n",
       "    </tr>\n",
       "    <tr>\n",
       "      <th>5.6</th>\n",
       "      <td>Group</td>\n",
       "      <td>Couple</td>\n",
       "      <td>Business trip</td>\n",
       "      <td>NaN</td>\n",
       "      <td>Business trip</td>\n",
       "      <td>Business trip</td>\n",
       "    </tr>\n",
       "    <tr>\n",
       "      <th>5.8</th>\n",
       "      <td>2 rooms</td>\n",
       "      <td>2 Adjacent Non Communicating Rooms</td>\n",
       "      <td>2 Twin Beds Guest Room</td>\n",
       "      <td>2 rooms</td>\n",
       "      <td>2 rooms</td>\n",
       "      <td>2 rooms</td>\n",
       "    </tr>\n",
       "    <tr>\n",
       "      <th>6.0</th>\n",
       "      <td>Business trip</td>\n",
       "      <td>Business trip</td>\n",
       "      <td>Business trip</td>\n",
       "      <td>Business trip</td>\n",
       "      <td>2 rooms</td>\n",
       "      <td>2 rooms</td>\n",
       "    </tr>\n",
       "    <tr>\n",
       "      <th>6.3</th>\n",
       "      <td>2 rooms</td>\n",
       "      <td>2 Adjacent Non Communicating Rooms</td>\n",
       "      <td>1 King Bed Guest Room</td>\n",
       "      <td>2 rooms</td>\n",
       "      <td>2 rooms</td>\n",
       "      <td>2 rooms</td>\n",
       "    </tr>\n",
       "    <tr>\n",
       "      <th>6.5</th>\n",
       "      <td>2 rooms</td>\n",
       "      <td>Business Double Room</td>\n",
       "      <td>2 rooms</td>\n",
       "      <td>Business trip</td>\n",
       "      <td>Basic Double Room</td>\n",
       "      <td>Business trip</td>\n",
       "    </tr>\n",
       "    <tr>\n",
       "      <th>6.7</th>\n",
       "      <td>2 rooms</td>\n",
       "      <td>2 Adjacent Rooms</td>\n",
       "      <td>1 King Bed Guest Room</td>\n",
       "      <td>2 rooms</td>\n",
       "      <td>2 rooms</td>\n",
       "      <td>2 rooms</td>\n",
       "    </tr>\n",
       "    <tr>\n",
       "      <th>6.9</th>\n",
       "      <td>NaN</td>\n",
       "      <td>Classic Room</td>\n",
       "      <td>Business Double or Twin Room</td>\n",
       "      <td>Business trip</td>\n",
       "      <td>Double or Twin Room</td>\n",
       "      <td>Business trip</td>\n",
       "    </tr>\n",
       "    <tr>\n",
       "      <th>7.0</th>\n",
       "      <td>2 rooms</td>\n",
       "      <td>2 rooms</td>\n",
       "      <td>Business trip</td>\n",
       "      <td>2 rooms</td>\n",
       "      <td>Basic Double Room</td>\n",
       "      <td>2 rooms</td>\n",
       "    </tr>\n",
       "    <tr>\n",
       "      <th>7.1</th>\n",
       "      <td>2 rooms</td>\n",
       "      <td>2 Adjacent Non Communicating Rooms</td>\n",
       "      <td>1 King Bed Guest Room</td>\n",
       "      <td>2 rooms</td>\n",
       "      <td>2 rooms</td>\n",
       "      <td>2 rooms</td>\n",
       "    </tr>\n",
       "    <tr>\n",
       "      <th>7.5</th>\n",
       "      <td>2 rooms</td>\n",
       "      <td>2 Adjacent Non Communicating Rooms</td>\n",
       "      <td>1 King Bed Guest Room</td>\n",
       "      <td>2 rooms</td>\n",
       "      <td>2 rooms</td>\n",
       "      <td>2 rooms</td>\n",
       "    </tr>\n",
       "    <tr>\n",
       "      <th>7.9</th>\n",
       "      <td>2 rooms</td>\n",
       "      <td>2 Adjacent Rooms</td>\n",
       "      <td>1 King Bed Guest Room</td>\n",
       "      <td>2 rooms</td>\n",
       "      <td>2 rooms</td>\n",
       "      <td>2 rooms</td>\n",
       "    </tr>\n",
       "    <tr>\n",
       "      <th>8.0</th>\n",
       "      <td>4 rooms</td>\n",
       "      <td>Business trip</td>\n",
       "      <td>2 rooms</td>\n",
       "      <td>2 rooms</td>\n",
       "      <td>Basic Double</td>\n",
       "      <td>2 rooms</td>\n",
       "    </tr>\n",
       "    <tr>\n",
       "      <th>8.1</th>\n",
       "      <td>Family with young children</td>\n",
       "      <td>Couple</td>\n",
       "      <td>NaN</td>\n",
       "      <td>Business trip</td>\n",
       "      <td>Business trip</td>\n",
       "      <td>Business trip</td>\n",
       "    </tr>\n",
       "    <tr>\n",
       "      <th>8.3</th>\n",
       "      <td>2 rooms</td>\n",
       "      <td>2 Adjacent Non Communicating Rooms</td>\n",
       "      <td>1 King Bed Guest Room</td>\n",
       "      <td>2 rooms</td>\n",
       "      <td>2 rooms</td>\n",
       "      <td>2 rooms</td>\n",
       "    </tr>\n",
       "    <tr>\n",
       "      <th>8.5</th>\n",
       "      <td>2 rooms</td>\n",
       "      <td>2 rooms</td>\n",
       "      <td>2 rooms</td>\n",
       "      <td>Business Double or Twin Room</td>\n",
       "      <td>2 rooms</td>\n",
       "      <td>2 rooms</td>\n",
       "    </tr>\n",
       "    <tr>\n",
       "      <th>8.8</th>\n",
       "      <td>2 rooms</td>\n",
       "      <td>2 Adjacent Rooms</td>\n",
       "      <td>1 King Bed Guest Room</td>\n",
       "      <td>2 rooms</td>\n",
       "      <td>2 rooms</td>\n",
       "      <td>2 rooms</td>\n",
       "    </tr>\n",
       "    <tr>\n",
       "      <th>9.0</th>\n",
       "      <td>2 rooms</td>\n",
       "      <td>Business trip</td>\n",
       "      <td>Business Double or Twin Room</td>\n",
       "      <td>2 rooms</td>\n",
       "      <td>2 rooms</td>\n",
       "      <td>2 rooms</td>\n",
       "    </tr>\n",
       "    <tr>\n",
       "      <th>9.2</th>\n",
       "      <td>2 rooms</td>\n",
       "      <td>2 Adjacent Non Communicating Rooms</td>\n",
       "      <td>1 King Bed Guest Room</td>\n",
       "      <td>2 rooms</td>\n",
       "      <td>2 rooms</td>\n",
       "      <td>2 rooms</td>\n",
       "    </tr>\n",
       "    <tr>\n",
       "      <th>9.4</th>\n",
       "      <td>Business trip</td>\n",
       "      <td>Classic Twin Room</td>\n",
       "      <td>Business trip</td>\n",
       "      <td>Amsterdam Street Art Queen Guest Room</td>\n",
       "      <td>Business trip</td>\n",
       "      <td>Business trip</td>\n",
       "    </tr>\n",
       "    <tr>\n",
       "      <th>9.5</th>\n",
       "      <td>2 rooms</td>\n",
       "      <td>2 rooms</td>\n",
       "      <td>2 rooms</td>\n",
       "      <td>Art King Room</td>\n",
       "      <td>2 rooms</td>\n",
       "      <td>2 rooms</td>\n",
       "    </tr>\n",
       "    <tr>\n",
       "      <th>9.6</th>\n",
       "      <td>2 rooms</td>\n",
       "      <td>2 Adjacent Non Communicating Rooms</td>\n",
       "      <td>1 King Bed Guest Room</td>\n",
       "      <td>2 rooms</td>\n",
       "      <td>2 rooms</td>\n",
       "      <td>2 rooms</td>\n",
       "    </tr>\n",
       "    <tr>\n",
       "      <th>10.0</th>\n",
       "      <td>2 rooms</td>\n",
       "      <td>2 Adjacent Non Communicating Rooms</td>\n",
       "      <td>2 Twin Beds Guest Room</td>\n",
       "      <td>2 rooms</td>\n",
       "      <td>2 rooms</td>\n",
       "      <td>2 rooms</td>\n",
       "    </tr>\n",
       "  </tbody>\n",
       "</table>\n",
       "</div>"
      ],
      "text/plain": [
       "hotel_country                      Austria  \\\n",
       "reviewer_score                               \n",
       "2.5                                2 rooms   \n",
       "2.9                          Business trip   \n",
       "3.0                                    NaN   \n",
       "3.1                                    NaN   \n",
       "3.3                                2 rooms   \n",
       "3.5                                2 rooms   \n",
       "3.8                                2 rooms   \n",
       "4.0                                2 rooms   \n",
       "4.2                                2 rooms   \n",
       "4.4                                 Couple   \n",
       "4.5                                2 rooms   \n",
       "4.6                                2 rooms   \n",
       "5.0                                2 rooms   \n",
       "5.4                                2 rooms   \n",
       "5.5                          Business trip   \n",
       "5.6                                  Group   \n",
       "5.8                                2 rooms   \n",
       "6.0                          Business trip   \n",
       "6.3                                2 rooms   \n",
       "6.5                                2 rooms   \n",
       "6.7                                2 rooms   \n",
       "6.9                                    NaN   \n",
       "7.0                                2 rooms   \n",
       "7.1                                2 rooms   \n",
       "7.5                                2 rooms   \n",
       "7.9                                2 rooms   \n",
       "8.0                                4 rooms   \n",
       "8.1             Family with young children   \n",
       "8.3                                2 rooms   \n",
       "8.5                                2 rooms   \n",
       "8.8                                2 rooms   \n",
       "9.0                                2 rooms   \n",
       "9.2                                2 rooms   \n",
       "9.4                          Business trip   \n",
       "9.5                                2 rooms   \n",
       "9.6                                2 rooms   \n",
       "10.0                               2 rooms   \n",
       "\n",
       "hotel_country                                              France  \\\n",
       "reviewer_score                                                      \n",
       "2.5                                   2 Connecting Rooms 4 people   \n",
       "2.9                                                       2 rooms   \n",
       "3.0                            2 Adjacent Non Communicating Rooms   \n",
       "3.1                                                           NaN   \n",
       "3.3             2 Connecting Deluxe Rooms with VIP Service for...   \n",
       "3.5                                                 Business trip   \n",
       "3.8                                                       2 rooms   \n",
       "4.0                                                 Business trip   \n",
       "4.2             2 Connecting Deluxe Rooms with VIP Service for...   \n",
       "4.4                                                   Double Room   \n",
       "4.5                                                 Business trip   \n",
       "4.6                             2 Double Rooms next to each other   \n",
       "5.0                                                       2 rooms   \n",
       "5.4                            2 Adjacent Non Communicating Rooms   \n",
       "5.5                                                       2 rooms   \n",
       "5.6                                                        Couple   \n",
       "5.8                            2 Adjacent Non Communicating Rooms   \n",
       "6.0                                                 Business trip   \n",
       "6.3                            2 Adjacent Non Communicating Rooms   \n",
       "6.5                                          Business Double Room   \n",
       "6.7                                              2 Adjacent Rooms   \n",
       "6.9                                                  Classic Room   \n",
       "7.0                                                       2 rooms   \n",
       "7.1                            2 Adjacent Non Communicating Rooms   \n",
       "7.5                            2 Adjacent Non Communicating Rooms   \n",
       "7.9                                              2 Adjacent Rooms   \n",
       "8.0                                                 Business trip   \n",
       "8.1                                                        Couple   \n",
       "8.3                            2 Adjacent Non Communicating Rooms   \n",
       "8.5                                                       2 rooms   \n",
       "8.8                                              2 Adjacent Rooms   \n",
       "9.0                                                 Business trip   \n",
       "9.2                            2 Adjacent Non Communicating Rooms   \n",
       "9.4                                             Classic Twin Room   \n",
       "9.5                                                       2 rooms   \n",
       "9.6                            2 Adjacent Non Communicating Rooms   \n",
       "10.0                           2 Adjacent Non Communicating Rooms   \n",
       "\n",
       "hotel_country                          Italy  \\\n",
       "reviewer_score                                 \n",
       "2.5                                  2 rooms   \n",
       "2.9                                  2 rooms   \n",
       "3.0                   Comfort Quadruple Room   \n",
       "3.1                                      NaN   \n",
       "3.3                                  2 rooms   \n",
       "3.5                            Business trip   \n",
       "3.8                                  2 rooms   \n",
       "4.0                            Business trip   \n",
       "4.2                    1 King Bed Guest Room   \n",
       "4.4                                      NaN   \n",
       "4.5                            Business trip   \n",
       "4.6                    1 King Bed Guest Room   \n",
       "5.0                    1 King Bed Guest Room   \n",
       "5.4                                  2 rooms   \n",
       "5.5             Business Double or Twin Room   \n",
       "5.6                            Business trip   \n",
       "5.8                   2 Twin Beds Guest Room   \n",
       "6.0                            Business trip   \n",
       "6.3                    1 King Bed Guest Room   \n",
       "6.5                                  2 rooms   \n",
       "6.7                    1 King Bed Guest Room   \n",
       "6.9             Business Double or Twin Room   \n",
       "7.0                            Business trip   \n",
       "7.1                    1 King Bed Guest Room   \n",
       "7.5                    1 King Bed Guest Room   \n",
       "7.9                    1 King Bed Guest Room   \n",
       "8.0                                  2 rooms   \n",
       "8.1                                      NaN   \n",
       "8.3                    1 King Bed Guest Room   \n",
       "8.5                                  2 rooms   \n",
       "8.8                    1 King Bed Guest Room   \n",
       "9.0             Business Double or Twin Room   \n",
       "9.2                    1 King Bed Guest Room   \n",
       "9.4                            Business trip   \n",
       "9.5                                  2 rooms   \n",
       "9.6                    1 King Bed Guest Room   \n",
       "10.0                  2 Twin Beds Guest Room   \n",
       "\n",
       "hotel_country                             Netherlands  \\\n",
       "reviewer_score                                          \n",
       "2.5                                           2 rooms   \n",
       "2.9                                           2 rooms   \n",
       "3.0                                     Business trip   \n",
       "3.1                                     Business trip   \n",
       "3.3                                           2 rooms   \n",
       "3.5                                     Business trip   \n",
       "3.8                                           2 rooms   \n",
       "4.0                                            Couple   \n",
       "4.2                                           2 rooms   \n",
       "4.4                                               NaN   \n",
       "4.5                                     Business trip   \n",
       "4.6                                           2 rooms   \n",
       "5.0                                           2 rooms   \n",
       "5.4                                           2 rooms   \n",
       "5.5                                           2 rooms   \n",
       "5.6                                               NaN   \n",
       "5.8                                           2 rooms   \n",
       "6.0                                     Business trip   \n",
       "6.3                                           2 rooms   \n",
       "6.5                                     Business trip   \n",
       "6.7                                           2 rooms   \n",
       "6.9                                     Business trip   \n",
       "7.0                                           2 rooms   \n",
       "7.1                                           2 rooms   \n",
       "7.5                                           2 rooms   \n",
       "7.9                                           2 rooms   \n",
       "8.0                                           2 rooms   \n",
       "8.1                                     Business trip   \n",
       "8.3                                           2 rooms   \n",
       "8.5                      Business Double or Twin Room   \n",
       "8.8                                           2 rooms   \n",
       "9.0                                           2 rooms   \n",
       "9.2                                           2 rooms   \n",
       "9.4             Amsterdam Street Art Queen Guest Room   \n",
       "9.5                                     Art King Room   \n",
       "9.6                                           2 rooms   \n",
       "10.0                                          2 rooms   \n",
       "\n",
       "hotel_country                        Spain     United Kingdom  \n",
       "reviewer_score                                                 \n",
       "2.5                                2 rooms            2 rooms  \n",
       "2.9                                2 rooms            2 rooms  \n",
       "3.0                                    NaN      Business trip  \n",
       "3.1                                    NaN      Business trip  \n",
       "3.3                                2 rooms            2 rooms  \n",
       "3.5                                 Couple  Basic Double Room  \n",
       "3.8                                2 rooms            2 rooms  \n",
       "4.0                          Business trip            2 rooms  \n",
       "4.2                                2 rooms            2 rooms  \n",
       "4.4             Deluxe Double or Twin Room      Business trip  \n",
       "4.5                          Business trip            2 rooms  \n",
       "4.6                                2 rooms            2 rooms  \n",
       "5.0                                2 rooms            2 rooms  \n",
       "5.4                                2 rooms            2 rooms  \n",
       "5.5                          Business trip  Basic Double Room  \n",
       "5.6                          Business trip      Business trip  \n",
       "5.8                                2 rooms            2 rooms  \n",
       "6.0                                2 rooms            2 rooms  \n",
       "6.3                                2 rooms            2 rooms  \n",
       "6.5                      Basic Double Room      Business trip  \n",
       "6.7                                2 rooms            2 rooms  \n",
       "6.9                    Double or Twin Room      Business trip  \n",
       "7.0                      Basic Double Room            2 rooms  \n",
       "7.1                                2 rooms            2 rooms  \n",
       "7.5                                2 rooms            2 rooms  \n",
       "7.9                                2 rooms            2 rooms  \n",
       "8.0                           Basic Double            2 rooms  \n",
       "8.1                          Business trip      Business trip  \n",
       "8.3                                2 rooms            2 rooms  \n",
       "8.5                                2 rooms            2 rooms  \n",
       "8.8                                2 rooms            2 rooms  \n",
       "9.0                                2 rooms            2 rooms  \n",
       "9.2                                2 rooms            2 rooms  \n",
       "9.4                          Business trip      Business trip  \n",
       "9.5                                2 rooms            2 rooms  \n",
       "9.6                                2 rooms            2 rooms  \n",
       "10.0                               2 rooms            2 rooms  "
      ]
     },
     "metadata": {},
     "output_type": "display_data"
    }
   ],
   "source": [
    "#самые редкие теги у отзывов \n",
    "df = df_train.pivot_table('tags_n', index='reviewer_score', columns='hotel_country', aggfunc='min')\n",
    "display(df)"
   ]
  },
  {
   "cell_type": "code",
   "execution_count": 129,
   "metadata": {},
   "outputs": [
    {
     "data": {
      "application/vnd.plotly.v1+json": {
       "config": {
        "plotlyServerURL": "https://plot.ly"
       },
       "data": [
        {
         "hovertemplate": "hotel_country=Austria<br>reviewer_score=%{x}<br>value=%{y}<extra></extra>",
         "legendgroup": "Austria",
         "marker": {
          "color": "#636efa",
          "symbol": "circle"
         },
         "mode": "markers",
         "name": "Austria",
         "orientation": "v",
         "showlegend": true,
         "type": "scatter",
         "x": [
          2.5,
          2.9,
          3,
          3.1,
          3.3,
          3.5,
          3.8,
          4,
          4.2,
          4.4,
          4.5,
          4.6,
          5,
          5.4,
          5.5,
          5.6,
          5.8,
          6,
          6.3,
          6.5,
          6.7,
          6.9,
          7,
          7.1,
          7.5,
          7.9,
          8,
          8.1,
          8.3,
          8.5,
          8.8,
          9,
          9.2,
          9.4,
          9.5,
          9.6,
          10
         ],
         "xaxis": "x",
         "y": [
          "2 rooms",
          "Business trip",
          null,
          null,
          "2 rooms",
          "2 rooms",
          "2 rooms",
          "2 rooms",
          "2 rooms",
          "Couple",
          "2 rooms",
          "2 rooms",
          "2 rooms",
          "2 rooms",
          "Business trip",
          "Group",
          "2 rooms",
          "Business trip",
          "2 rooms",
          "2 rooms",
          "2 rooms",
          null,
          "2 rooms",
          "2 rooms",
          "2 rooms",
          "2 rooms",
          "4 rooms",
          "Family with young children",
          "2 rooms",
          "2 rooms",
          "2 rooms",
          "2 rooms",
          "2 rooms",
          "Business trip",
          "2 rooms",
          "2 rooms",
          "2 rooms"
         ],
         "yaxis": "y"
        },
        {
         "hovertemplate": "hotel_country=France<br>reviewer_score=%{x}<br>value=%{y}<extra></extra>",
         "legendgroup": "France",
         "marker": {
          "color": "#EF553B",
          "symbol": "circle"
         },
         "mode": "markers",
         "name": "France",
         "orientation": "v",
         "showlegend": true,
         "type": "scatter",
         "x": [
          2.5,
          2.9,
          3,
          3.1,
          3.3,
          3.5,
          3.8,
          4,
          4.2,
          4.4,
          4.5,
          4.6,
          5,
          5.4,
          5.5,
          5.6,
          5.8,
          6,
          6.3,
          6.5,
          6.7,
          6.9,
          7,
          7.1,
          7.5,
          7.9,
          8,
          8.1,
          8.3,
          8.5,
          8.8,
          9,
          9.2,
          9.4,
          9.5,
          9.6,
          10
         ],
         "xaxis": "x",
         "y": [
          "2 Connecting Rooms 4 people",
          "2 rooms",
          "2 Adjacent Non Communicating Rooms",
          null,
          "2 Connecting Deluxe Rooms with VIP Service for Kids",
          "Business trip",
          "2 rooms",
          "Business trip",
          "2 Connecting Deluxe Rooms with VIP Service for Kids",
          "Double Room",
          "Business trip",
          "2 Double Rooms next to each other",
          "2 rooms",
          "2 Adjacent Non Communicating Rooms",
          "2 rooms",
          "Couple",
          "2 Adjacent Non Communicating Rooms",
          "Business trip",
          "2 Adjacent Non Communicating Rooms",
          "Business Double Room",
          "2 Adjacent Rooms",
          "Classic Room",
          "2 rooms",
          "2 Adjacent Non Communicating Rooms",
          "2 Adjacent Non Communicating Rooms",
          "2 Adjacent Rooms",
          "Business trip",
          "Couple",
          "2 Adjacent Non Communicating Rooms",
          "2 rooms",
          "2 Adjacent Rooms",
          "Business trip",
          "2 Adjacent Non Communicating Rooms",
          "Classic Twin Room",
          "2 rooms",
          "2 Adjacent Non Communicating Rooms",
          "2 Adjacent Non Communicating Rooms"
         ],
         "yaxis": "y"
        },
        {
         "hovertemplate": "hotel_country=Italy<br>reviewer_score=%{x}<br>value=%{y}<extra></extra>",
         "legendgroup": "Italy",
         "marker": {
          "color": "#00cc96",
          "symbol": "circle"
         },
         "mode": "markers",
         "name": "Italy",
         "orientation": "v",
         "showlegend": true,
         "type": "scatter",
         "x": [
          2.5,
          2.9,
          3,
          3.1,
          3.3,
          3.5,
          3.8,
          4,
          4.2,
          4.4,
          4.5,
          4.6,
          5,
          5.4,
          5.5,
          5.6,
          5.8,
          6,
          6.3,
          6.5,
          6.7,
          6.9,
          7,
          7.1,
          7.5,
          7.9,
          8,
          8.1,
          8.3,
          8.5,
          8.8,
          9,
          9.2,
          9.4,
          9.5,
          9.6,
          10
         ],
         "xaxis": "x",
         "y": [
          "2 rooms",
          "2 rooms",
          "Comfort Quadruple Room",
          null,
          "2 rooms",
          "Business trip",
          "2 rooms",
          "Business trip",
          "1 King Bed Guest Room",
          null,
          "Business trip",
          "1 King Bed Guest Room",
          "1 King Bed Guest Room",
          "2 rooms",
          "Business Double or Twin Room",
          "Business trip",
          "2 Twin Beds Guest Room",
          "Business trip",
          "1 King Bed Guest Room",
          "2 rooms",
          "1 King Bed Guest Room",
          "Business Double or Twin Room",
          "Business trip",
          "1 King Bed Guest Room",
          "1 King Bed Guest Room",
          "1 King Bed Guest Room",
          "2 rooms",
          null,
          "1 King Bed Guest Room",
          "2 rooms",
          "1 King Bed Guest Room",
          "Business Double or Twin Room",
          "1 King Bed Guest Room",
          "Business trip",
          "2 rooms",
          "1 King Bed Guest Room",
          "2 Twin Beds Guest Room"
         ],
         "yaxis": "y"
        },
        {
         "hovertemplate": "hotel_country=Netherlands<br>reviewer_score=%{x}<br>value=%{y}<extra></extra>",
         "legendgroup": "Netherlands",
         "marker": {
          "color": "#ab63fa",
          "symbol": "circle"
         },
         "mode": "markers",
         "name": "Netherlands",
         "orientation": "v",
         "showlegend": true,
         "type": "scatter",
         "x": [
          2.5,
          2.9,
          3,
          3.1,
          3.3,
          3.5,
          3.8,
          4,
          4.2,
          4.4,
          4.5,
          4.6,
          5,
          5.4,
          5.5,
          5.6,
          5.8,
          6,
          6.3,
          6.5,
          6.7,
          6.9,
          7,
          7.1,
          7.5,
          7.9,
          8,
          8.1,
          8.3,
          8.5,
          8.8,
          9,
          9.2,
          9.4,
          9.5,
          9.6,
          10
         ],
         "xaxis": "x",
         "y": [
          "2 rooms",
          "2 rooms",
          "Business trip",
          "Business trip",
          "2 rooms",
          "Business trip",
          "2 rooms",
          "Couple",
          "2 rooms",
          null,
          "Business trip",
          "2 rooms",
          "2 rooms",
          "2 rooms",
          "2 rooms",
          null,
          "2 rooms",
          "Business trip",
          "2 rooms",
          "Business trip",
          "2 rooms",
          "Business trip",
          "2 rooms",
          "2 rooms",
          "2 rooms",
          "2 rooms",
          "2 rooms",
          "Business trip",
          "2 rooms",
          "Business Double or Twin Room",
          "2 rooms",
          "2 rooms",
          "2 rooms",
          "Amsterdam Street Art Queen Guest Room",
          "Art King Room",
          "2 rooms",
          "2 rooms"
         ],
         "yaxis": "y"
        },
        {
         "hovertemplate": "hotel_country=Spain<br>reviewer_score=%{x}<br>value=%{y}<extra></extra>",
         "legendgroup": "Spain",
         "marker": {
          "color": "#FFA15A",
          "symbol": "circle"
         },
         "mode": "markers",
         "name": "Spain",
         "orientation": "v",
         "showlegend": true,
         "type": "scatter",
         "x": [
          2.5,
          2.9,
          3,
          3.1,
          3.3,
          3.5,
          3.8,
          4,
          4.2,
          4.4,
          4.5,
          4.6,
          5,
          5.4,
          5.5,
          5.6,
          5.8,
          6,
          6.3,
          6.5,
          6.7,
          6.9,
          7,
          7.1,
          7.5,
          7.9,
          8,
          8.1,
          8.3,
          8.5,
          8.8,
          9,
          9.2,
          9.4,
          9.5,
          9.6,
          10
         ],
         "xaxis": "x",
         "y": [
          "2 rooms",
          "2 rooms",
          null,
          null,
          "2 rooms",
          "Couple",
          "2 rooms",
          "Business trip",
          "2 rooms",
          "Deluxe Double or Twin Room",
          "Business trip",
          "2 rooms",
          "2 rooms",
          "2 rooms",
          "Business trip",
          "Business trip",
          "2 rooms",
          "2 rooms",
          "2 rooms",
          "Basic Double Room",
          "2 rooms",
          "Double or Twin Room",
          "Basic Double Room",
          "2 rooms",
          "2 rooms",
          "2 rooms",
          "Basic Double",
          "Business trip",
          "2 rooms",
          "2 rooms",
          "2 rooms",
          "2 rooms",
          "2 rooms",
          "Business trip",
          "2 rooms",
          "2 rooms",
          "2 rooms"
         ],
         "yaxis": "y"
        },
        {
         "hovertemplate": "hotel_country=United Kingdom<br>reviewer_score=%{x}<br>value=%{y}<extra></extra>",
         "legendgroup": "United Kingdom",
         "marker": {
          "color": "#19d3f3",
          "symbol": "circle"
         },
         "mode": "markers",
         "name": "United Kingdom",
         "orientation": "v",
         "showlegend": true,
         "type": "scatter",
         "x": [
          2.5,
          2.9,
          3,
          3.1,
          3.3,
          3.5,
          3.8,
          4,
          4.2,
          4.4,
          4.5,
          4.6,
          5,
          5.4,
          5.5,
          5.6,
          5.8,
          6,
          6.3,
          6.5,
          6.7,
          6.9,
          7,
          7.1,
          7.5,
          7.9,
          8,
          8.1,
          8.3,
          8.5,
          8.8,
          9,
          9.2,
          9.4,
          9.5,
          9.6,
          10
         ],
         "xaxis": "x",
         "y": [
          "2 rooms",
          "2 rooms",
          "Business trip",
          "Business trip",
          "2 rooms",
          "Basic Double Room",
          "2 rooms",
          "2 rooms",
          "2 rooms",
          "Business trip",
          "2 rooms",
          "2 rooms",
          "2 rooms",
          "2 rooms",
          "Basic Double Room",
          "Business trip",
          "2 rooms",
          "2 rooms",
          "2 rooms",
          "Business trip",
          "2 rooms",
          "Business trip",
          "2 rooms",
          "2 rooms",
          "2 rooms",
          "2 rooms",
          "2 rooms",
          "Business trip",
          "2 rooms",
          "2 rooms",
          "2 rooms",
          "2 rooms",
          "2 rooms",
          "Business trip",
          "2 rooms",
          "2 rooms",
          "2 rooms"
         ],
         "yaxis": "y"
        }
       ],
       "layout": {
        "legend": {
         "title": {
          "text": "hotel_country"
         },
         "tracegroupgap": 0
        },
        "margin": {
         "t": 60
        },
        "template": {
         "data": {
          "bar": [
           {
            "error_x": {
             "color": "#2a3f5f"
            },
            "error_y": {
             "color": "#2a3f5f"
            },
            "marker": {
             "line": {
              "color": "#E5ECF6",
              "width": 0.5
             },
             "pattern": {
              "fillmode": "overlay",
              "size": 10,
              "solidity": 0.2
             }
            },
            "type": "bar"
           }
          ],
          "barpolar": [
           {
            "marker": {
             "line": {
              "color": "#E5ECF6",
              "width": 0.5
             },
             "pattern": {
              "fillmode": "overlay",
              "size": 10,
              "solidity": 0.2
             }
            },
            "type": "barpolar"
           }
          ],
          "carpet": [
           {
            "aaxis": {
             "endlinecolor": "#2a3f5f",
             "gridcolor": "white",
             "linecolor": "white",
             "minorgridcolor": "white",
             "startlinecolor": "#2a3f5f"
            },
            "baxis": {
             "endlinecolor": "#2a3f5f",
             "gridcolor": "white",
             "linecolor": "white",
             "minorgridcolor": "white",
             "startlinecolor": "#2a3f5f"
            },
            "type": "carpet"
           }
          ],
          "choropleth": [
           {
            "colorbar": {
             "outlinewidth": 0,
             "ticks": ""
            },
            "type": "choropleth"
           }
          ],
          "contour": [
           {
            "colorbar": {
             "outlinewidth": 0,
             "ticks": ""
            },
            "colorscale": [
             [
              0,
              "#0d0887"
             ],
             [
              0.1111111111111111,
              "#46039f"
             ],
             [
              0.2222222222222222,
              "#7201a8"
             ],
             [
              0.3333333333333333,
              "#9c179e"
             ],
             [
              0.4444444444444444,
              "#bd3786"
             ],
             [
              0.5555555555555556,
              "#d8576b"
             ],
             [
              0.6666666666666666,
              "#ed7953"
             ],
             [
              0.7777777777777778,
              "#fb9f3a"
             ],
             [
              0.8888888888888888,
              "#fdca26"
             ],
             [
              1,
              "#f0f921"
             ]
            ],
            "type": "contour"
           }
          ],
          "contourcarpet": [
           {
            "colorbar": {
             "outlinewidth": 0,
             "ticks": ""
            },
            "type": "contourcarpet"
           }
          ],
          "heatmap": [
           {
            "colorbar": {
             "outlinewidth": 0,
             "ticks": ""
            },
            "colorscale": [
             [
              0,
              "#0d0887"
             ],
             [
              0.1111111111111111,
              "#46039f"
             ],
             [
              0.2222222222222222,
              "#7201a8"
             ],
             [
              0.3333333333333333,
              "#9c179e"
             ],
             [
              0.4444444444444444,
              "#bd3786"
             ],
             [
              0.5555555555555556,
              "#d8576b"
             ],
             [
              0.6666666666666666,
              "#ed7953"
             ],
             [
              0.7777777777777778,
              "#fb9f3a"
             ],
             [
              0.8888888888888888,
              "#fdca26"
             ],
             [
              1,
              "#f0f921"
             ]
            ],
            "type": "heatmap"
           }
          ],
          "heatmapgl": [
           {
            "colorbar": {
             "outlinewidth": 0,
             "ticks": ""
            },
            "colorscale": [
             [
              0,
              "#0d0887"
             ],
             [
              0.1111111111111111,
              "#46039f"
             ],
             [
              0.2222222222222222,
              "#7201a8"
             ],
             [
              0.3333333333333333,
              "#9c179e"
             ],
             [
              0.4444444444444444,
              "#bd3786"
             ],
             [
              0.5555555555555556,
              "#d8576b"
             ],
             [
              0.6666666666666666,
              "#ed7953"
             ],
             [
              0.7777777777777778,
              "#fb9f3a"
             ],
             [
              0.8888888888888888,
              "#fdca26"
             ],
             [
              1,
              "#f0f921"
             ]
            ],
            "type": "heatmapgl"
           }
          ],
          "histogram": [
           {
            "marker": {
             "pattern": {
              "fillmode": "overlay",
              "size": 10,
              "solidity": 0.2
             }
            },
            "type": "histogram"
           }
          ],
          "histogram2d": [
           {
            "colorbar": {
             "outlinewidth": 0,
             "ticks": ""
            },
            "colorscale": [
             [
              0,
              "#0d0887"
             ],
             [
              0.1111111111111111,
              "#46039f"
             ],
             [
              0.2222222222222222,
              "#7201a8"
             ],
             [
              0.3333333333333333,
              "#9c179e"
             ],
             [
              0.4444444444444444,
              "#bd3786"
             ],
             [
              0.5555555555555556,
              "#d8576b"
             ],
             [
              0.6666666666666666,
              "#ed7953"
             ],
             [
              0.7777777777777778,
              "#fb9f3a"
             ],
             [
              0.8888888888888888,
              "#fdca26"
             ],
             [
              1,
              "#f0f921"
             ]
            ],
            "type": "histogram2d"
           }
          ],
          "histogram2dcontour": [
           {
            "colorbar": {
             "outlinewidth": 0,
             "ticks": ""
            },
            "colorscale": [
             [
              0,
              "#0d0887"
             ],
             [
              0.1111111111111111,
              "#46039f"
             ],
             [
              0.2222222222222222,
              "#7201a8"
             ],
             [
              0.3333333333333333,
              "#9c179e"
             ],
             [
              0.4444444444444444,
              "#bd3786"
             ],
             [
              0.5555555555555556,
              "#d8576b"
             ],
             [
              0.6666666666666666,
              "#ed7953"
             ],
             [
              0.7777777777777778,
              "#fb9f3a"
             ],
             [
              0.8888888888888888,
              "#fdca26"
             ],
             [
              1,
              "#f0f921"
             ]
            ],
            "type": "histogram2dcontour"
           }
          ],
          "mesh3d": [
           {
            "colorbar": {
             "outlinewidth": 0,
             "ticks": ""
            },
            "type": "mesh3d"
           }
          ],
          "parcoords": [
           {
            "line": {
             "colorbar": {
              "outlinewidth": 0,
              "ticks": ""
             }
            },
            "type": "parcoords"
           }
          ],
          "pie": [
           {
            "automargin": true,
            "type": "pie"
           }
          ],
          "scatter": [
           {
            "marker": {
             "colorbar": {
              "outlinewidth": 0,
              "ticks": ""
             }
            },
            "type": "scatter"
           }
          ],
          "scatter3d": [
           {
            "line": {
             "colorbar": {
              "outlinewidth": 0,
              "ticks": ""
             }
            },
            "marker": {
             "colorbar": {
              "outlinewidth": 0,
              "ticks": ""
             }
            },
            "type": "scatter3d"
           }
          ],
          "scattercarpet": [
           {
            "marker": {
             "colorbar": {
              "outlinewidth": 0,
              "ticks": ""
             }
            },
            "type": "scattercarpet"
           }
          ],
          "scattergeo": [
           {
            "marker": {
             "colorbar": {
              "outlinewidth": 0,
              "ticks": ""
             }
            },
            "type": "scattergeo"
           }
          ],
          "scattergl": [
           {
            "marker": {
             "colorbar": {
              "outlinewidth": 0,
              "ticks": ""
             }
            },
            "type": "scattergl"
           }
          ],
          "scattermapbox": [
           {
            "marker": {
             "colorbar": {
              "outlinewidth": 0,
              "ticks": ""
             }
            },
            "type": "scattermapbox"
           }
          ],
          "scatterpolar": [
           {
            "marker": {
             "colorbar": {
              "outlinewidth": 0,
              "ticks": ""
             }
            },
            "type": "scatterpolar"
           }
          ],
          "scatterpolargl": [
           {
            "marker": {
             "colorbar": {
              "outlinewidth": 0,
              "ticks": ""
             }
            },
            "type": "scatterpolargl"
           }
          ],
          "scatterternary": [
           {
            "marker": {
             "colorbar": {
              "outlinewidth": 0,
              "ticks": ""
             }
            },
            "type": "scatterternary"
           }
          ],
          "surface": [
           {
            "colorbar": {
             "outlinewidth": 0,
             "ticks": ""
            },
            "colorscale": [
             [
              0,
              "#0d0887"
             ],
             [
              0.1111111111111111,
              "#46039f"
             ],
             [
              0.2222222222222222,
              "#7201a8"
             ],
             [
              0.3333333333333333,
              "#9c179e"
             ],
             [
              0.4444444444444444,
              "#bd3786"
             ],
             [
              0.5555555555555556,
              "#d8576b"
             ],
             [
              0.6666666666666666,
              "#ed7953"
             ],
             [
              0.7777777777777778,
              "#fb9f3a"
             ],
             [
              0.8888888888888888,
              "#fdca26"
             ],
             [
              1,
              "#f0f921"
             ]
            ],
            "type": "surface"
           }
          ],
          "table": [
           {
            "cells": {
             "fill": {
              "color": "#EBF0F8"
             },
             "line": {
              "color": "white"
             }
            },
            "header": {
             "fill": {
              "color": "#C8D4E3"
             },
             "line": {
              "color": "white"
             }
            },
            "type": "table"
           }
          ]
         },
         "layout": {
          "annotationdefaults": {
           "arrowcolor": "#2a3f5f",
           "arrowhead": 0,
           "arrowwidth": 1
          },
          "autotypenumbers": "strict",
          "coloraxis": {
           "colorbar": {
            "outlinewidth": 0,
            "ticks": ""
           }
          },
          "colorscale": {
           "diverging": [
            [
             0,
             "#8e0152"
            ],
            [
             0.1,
             "#c51b7d"
            ],
            [
             0.2,
             "#de77ae"
            ],
            [
             0.3,
             "#f1b6da"
            ],
            [
             0.4,
             "#fde0ef"
            ],
            [
             0.5,
             "#f7f7f7"
            ],
            [
             0.6,
             "#e6f5d0"
            ],
            [
             0.7,
             "#b8e186"
            ],
            [
             0.8,
             "#7fbc41"
            ],
            [
             0.9,
             "#4d9221"
            ],
            [
             1,
             "#276419"
            ]
           ],
           "sequential": [
            [
             0,
             "#0d0887"
            ],
            [
             0.1111111111111111,
             "#46039f"
            ],
            [
             0.2222222222222222,
             "#7201a8"
            ],
            [
             0.3333333333333333,
             "#9c179e"
            ],
            [
             0.4444444444444444,
             "#bd3786"
            ],
            [
             0.5555555555555556,
             "#d8576b"
            ],
            [
             0.6666666666666666,
             "#ed7953"
            ],
            [
             0.7777777777777778,
             "#fb9f3a"
            ],
            [
             0.8888888888888888,
             "#fdca26"
            ],
            [
             1,
             "#f0f921"
            ]
           ],
           "sequentialminus": [
            [
             0,
             "#0d0887"
            ],
            [
             0.1111111111111111,
             "#46039f"
            ],
            [
             0.2222222222222222,
             "#7201a8"
            ],
            [
             0.3333333333333333,
             "#9c179e"
            ],
            [
             0.4444444444444444,
             "#bd3786"
            ],
            [
             0.5555555555555556,
             "#d8576b"
            ],
            [
             0.6666666666666666,
             "#ed7953"
            ],
            [
             0.7777777777777778,
             "#fb9f3a"
            ],
            [
             0.8888888888888888,
             "#fdca26"
            ],
            [
             1,
             "#f0f921"
            ]
           ]
          },
          "colorway": [
           "#636efa",
           "#EF553B",
           "#00cc96",
           "#ab63fa",
           "#FFA15A",
           "#19d3f3",
           "#FF6692",
           "#B6E880",
           "#FF97FF",
           "#FECB52"
          ],
          "font": {
           "color": "#2a3f5f"
          },
          "geo": {
           "bgcolor": "white",
           "lakecolor": "white",
           "landcolor": "#E5ECF6",
           "showlakes": true,
           "showland": true,
           "subunitcolor": "white"
          },
          "hoverlabel": {
           "align": "left"
          },
          "hovermode": "closest",
          "mapbox": {
           "style": "light"
          },
          "paper_bgcolor": "white",
          "plot_bgcolor": "#E5ECF6",
          "polar": {
           "angularaxis": {
            "gridcolor": "white",
            "linecolor": "white",
            "ticks": ""
           },
           "bgcolor": "#E5ECF6",
           "radialaxis": {
            "gridcolor": "white",
            "linecolor": "white",
            "ticks": ""
           }
          },
          "scene": {
           "xaxis": {
            "backgroundcolor": "#E5ECF6",
            "gridcolor": "white",
            "gridwidth": 2,
            "linecolor": "white",
            "showbackground": true,
            "ticks": "",
            "zerolinecolor": "white"
           },
           "yaxis": {
            "backgroundcolor": "#E5ECF6",
            "gridcolor": "white",
            "gridwidth": 2,
            "linecolor": "white",
            "showbackground": true,
            "ticks": "",
            "zerolinecolor": "white"
           },
           "zaxis": {
            "backgroundcolor": "#E5ECF6",
            "gridcolor": "white",
            "gridwidth": 2,
            "linecolor": "white",
            "showbackground": true,
            "ticks": "",
            "zerolinecolor": "white"
           }
          },
          "shapedefaults": {
           "line": {
            "color": "#2a3f5f"
           }
          },
          "ternary": {
           "aaxis": {
            "gridcolor": "white",
            "linecolor": "white",
            "ticks": ""
           },
           "baxis": {
            "gridcolor": "white",
            "linecolor": "white",
            "ticks": ""
           },
           "bgcolor": "#E5ECF6",
           "caxis": {
            "gridcolor": "white",
            "linecolor": "white",
            "ticks": ""
           }
          },
          "title": {
           "x": 0.05
          },
          "xaxis": {
           "automargin": true,
           "gridcolor": "white",
           "linecolor": "white",
           "ticks": "",
           "title": {
            "standoff": 15
           },
           "zerolinecolor": "white",
           "zerolinewidth": 2
          },
          "yaxis": {
           "automargin": true,
           "gridcolor": "white",
           "linecolor": "white",
           "ticks": "",
           "title": {
            "standoff": 15
           },
           "zerolinecolor": "white",
           "zerolinewidth": 2
          }
         }
        },
        "xaxis": {
         "anchor": "y",
         "domain": [
          0,
          1
         ],
         "title": {
          "text": "reviewer_score"
         },
         "type": "log"
        },
        "yaxis": {
         "anchor": "x",
         "domain": [
          0,
          1
         ],
         "title": {
          "text": "value"
         }
        }
       }
      }
     },
     "metadata": {},
     "output_type": "display_data"
    }
   ],
   "source": [
    "#визуализируем полученную матрицу\n",
    "px.scatter(df, log_x=True, size_max=60)\n"
   ]
  },
  {
   "cell_type": "code",
   "execution_count": 130,
   "metadata": {},
   "outputs": [
    {
     "data": {
      "text/html": [
       "<div>\n",
       "<style scoped>\n",
       "    .dataframe tbody tr th:only-of-type {\n",
       "        vertical-align: middle;\n",
       "    }\n",
       "\n",
       "    .dataframe tbody tr th {\n",
       "        vertical-align: top;\n",
       "    }\n",
       "\n",
       "    .dataframe thead th {\n",
       "        text-align: right;\n",
       "    }\n",
       "</style>\n",
       "<table border=\"1\" class=\"dataframe\">\n",
       "  <thead>\n",
       "    <tr style=\"text-align: right;\">\n",
       "      <th>hotel_country</th>\n",
       "      <th>Austria</th>\n",
       "      <th>France</th>\n",
       "      <th>Italy</th>\n",
       "      <th>Netherlands</th>\n",
       "      <th>Spain</th>\n",
       "      <th>United Kingdom</th>\n",
       "    </tr>\n",
       "    <tr>\n",
       "      <th>reviewer_score</th>\n",
       "      <th></th>\n",
       "      <th></th>\n",
       "      <th></th>\n",
       "      <th></th>\n",
       "      <th></th>\n",
       "      <th></th>\n",
       "    </tr>\n",
       "  </thead>\n",
       "  <tbody>\n",
       "    <tr>\n",
       "      <th>2.5</th>\n",
       "      <td>With a pet</td>\n",
       "      <td>With a pet</td>\n",
       "      <td>With a pet</td>\n",
       "      <td>Twin Room</td>\n",
       "      <td>Wonderful Double or Twin Room</td>\n",
       "      <td>Wonderful Room</td>\n",
       "    </tr>\n",
       "    <tr>\n",
       "      <th>2.9</th>\n",
       "      <td>penta Standard Room</td>\n",
       "      <td>With a pet</td>\n",
       "      <td>With a pet</td>\n",
       "      <td>With a pet</td>\n",
       "      <td>Wonderful Double or Twin Room</td>\n",
       "      <td>Wonderful Room</td>\n",
       "    </tr>\n",
       "    <tr>\n",
       "      <th>3.0</th>\n",
       "      <td>NaN</td>\n",
       "      <td>Superior Room with 2 Double Beds</td>\n",
       "      <td>Superior Twin Room with Two Double Beds</td>\n",
       "      <td>Submitted from a mobile device</td>\n",
       "      <td>NaN</td>\n",
       "      <td>Twin Room</td>\n",
       "    </tr>\n",
       "    <tr>\n",
       "      <th>3.1</th>\n",
       "      <td>NaN</td>\n",
       "      <td>NaN</td>\n",
       "      <td>NaN</td>\n",
       "      <td>Stayed 14 nights</td>\n",
       "      <td>NaN</td>\n",
       "      <td>Superior Double Room</td>\n",
       "    </tr>\n",
       "    <tr>\n",
       "      <th>3.3</th>\n",
       "      <td>Weekend Offer Standard Studio</td>\n",
       "      <td>With a pet</td>\n",
       "      <td>With a pet</td>\n",
       "      <td>With a pet</td>\n",
       "      <td>Wonderful Double or Twin Room</td>\n",
       "      <td>With a pet</td>\n",
       "    </tr>\n",
       "    <tr>\n",
       "      <th>3.5</th>\n",
       "      <td>Superior Double Room</td>\n",
       "      <td>Superior Double or Twin Room</td>\n",
       "      <td>Superior Double or Twin Room</td>\n",
       "      <td>Submitted from a mobile device</td>\n",
       "      <td>Submitted from a mobile device</td>\n",
       "      <td>With a pet</td>\n",
       "    </tr>\n",
       "    <tr>\n",
       "      <th>3.8</th>\n",
       "      <td>penta Standard Room</td>\n",
       "      <td>With a pet</td>\n",
       "      <td>With a pet</td>\n",
       "      <td>Wonderful Exchange King</td>\n",
       "      <td>Wonderful Double or Twin Room</td>\n",
       "      <td>Wonderful Room</td>\n",
       "    </tr>\n",
       "    <tr>\n",
       "      <th>4.0</th>\n",
       "      <td>Superior Double Room</td>\n",
       "      <td>Superior Twin Room</td>\n",
       "      <td>Superior Double or Twin Room</td>\n",
       "      <td>Superior Double Twin Room with Free Parking</td>\n",
       "      <td>Submitted from a mobile device</td>\n",
       "      <td>Twin Room</td>\n",
       "    </tr>\n",
       "    <tr>\n",
       "      <th>4.2</th>\n",
       "      <td>X Ordinary Room</td>\n",
       "      <td>Wonderful Double Room</td>\n",
       "      <td>With a pet</td>\n",
       "      <td>Wonderful Exchange King</td>\n",
       "      <td>Wonderful Double or Twin Room</td>\n",
       "      <td>Wonderful Room</td>\n",
       "    </tr>\n",
       "    <tr>\n",
       "      <th>4.4</th>\n",
       "      <td>Submitted from a mobile device</td>\n",
       "      <td>Stayed 4 nights</td>\n",
       "      <td>NaN</td>\n",
       "      <td>NaN</td>\n",
       "      <td>Superior Double or Twin Room</td>\n",
       "      <td>Submitted from a mobile device</td>\n",
       "    </tr>\n",
       "    <tr>\n",
       "      <th>4.5</th>\n",
       "      <td>Superior Twin Room</td>\n",
       "      <td>Triple Room</td>\n",
       "      <td>Triple Room</td>\n",
       "      <td>Triple Room</td>\n",
       "      <td>Superior Double or Twin Room with View</td>\n",
       "      <td>Twin Room</td>\n",
       "    </tr>\n",
       "    <tr>\n",
       "      <th>4.6</th>\n",
       "      <td>penta Plus Room</td>\n",
       "      <td>With a pet</td>\n",
       "      <td>With a pet</td>\n",
       "      <td>Twin Room</td>\n",
       "      <td>Wonderful Double or Twin Room</td>\n",
       "      <td>Wonderful Room</td>\n",
       "    </tr>\n",
       "    <tr>\n",
       "      <th>5.0</th>\n",
       "      <td>penta Plus Room</td>\n",
       "      <td>With a pet</td>\n",
       "      <td>superior Double or Twin Room with extra bed</td>\n",
       "      <td>Wonderful Exchange King</td>\n",
       "      <td>Wonderful Double or Twin Room</td>\n",
       "      <td>With a pet</td>\n",
       "    </tr>\n",
       "    <tr>\n",
       "      <th>5.4</th>\n",
       "      <td>penta Standard Room</td>\n",
       "      <td>With a pet</td>\n",
       "      <td>With a pet</td>\n",
       "      <td>Wonderful Exchange King</td>\n",
       "      <td>Wonderful Sky Room</td>\n",
       "      <td>Wonderful Room</td>\n",
       "    </tr>\n",
       "    <tr>\n",
       "      <th>5.5</th>\n",
       "      <td>Suite</td>\n",
       "      <td>Two Adjoining Double Rooms</td>\n",
       "      <td>Twin Room</td>\n",
       "      <td>Twin Room</td>\n",
       "      <td>Urban Double or Twin Room</td>\n",
       "      <td>With a pet</td>\n",
       "    </tr>\n",
       "    <tr>\n",
       "      <th>5.6</th>\n",
       "      <td>Twin Room with Public Transport Ticket</td>\n",
       "      <td>Superior Room</td>\n",
       "      <td>Superior Double Room</td>\n",
       "      <td>NaN</td>\n",
       "      <td>Superior Double Room 1 2 Adults</td>\n",
       "      <td>Superior Double Room</td>\n",
       "    </tr>\n",
       "    <tr>\n",
       "      <th>5.8</th>\n",
       "      <td>penta Standard Room</td>\n",
       "      <td>Wonderful Double Room</td>\n",
       "      <td>With a pet</td>\n",
       "      <td>Wonderful Exchange King</td>\n",
       "      <td>Wonderful Sky Room</td>\n",
       "      <td>Wonderful Room</td>\n",
       "    </tr>\n",
       "    <tr>\n",
       "      <th>6.0</th>\n",
       "      <td>Superior Double Room with Garden View</td>\n",
       "      <td>Superior Double Room</td>\n",
       "      <td>Twin Room</td>\n",
       "      <td>Superior Double or Twin Room</td>\n",
       "      <td>Triple Room</td>\n",
       "      <td>Twin Room</td>\n",
       "    </tr>\n",
       "    <tr>\n",
       "      <th>6.3</th>\n",
       "      <td>penta Standard Room</td>\n",
       "      <td>With a pet</td>\n",
       "      <td>With a pet</td>\n",
       "      <td>Wonderful Exchange King</td>\n",
       "      <td>Wonderful Double or Twin Room</td>\n",
       "      <td>Wonderful Room</td>\n",
       "    </tr>\n",
       "    <tr>\n",
       "      <th>6.5</th>\n",
       "      <td>Weekend Offer Standard Studio</td>\n",
       "      <td>Twin Room Non Smoking</td>\n",
       "      <td>Twin Room</td>\n",
       "      <td>Superior Queen Room</td>\n",
       "      <td>Wonderful Double or Twin Room</td>\n",
       "      <td>With a pet</td>\n",
       "    </tr>\n",
       "    <tr>\n",
       "      <th>6.7</th>\n",
       "      <td>penta Plus Room</td>\n",
       "      <td>With a pet</td>\n",
       "      <td>With a pet</td>\n",
       "      <td>Wonderful Exchange King</td>\n",
       "      <td>Wonderful Double or Twin Room</td>\n",
       "      <td>Wonderful Room</td>\n",
       "    </tr>\n",
       "    <tr>\n",
       "      <th>6.9</th>\n",
       "      <td>NaN</td>\n",
       "      <td>Submitted from a mobile device</td>\n",
       "      <td>Submitted from a mobile device</td>\n",
       "      <td>Stayed 2 nights</td>\n",
       "      <td>Stayed 1 night</td>\n",
       "      <td>Superior Queen Room</td>\n",
       "    </tr>\n",
       "    <tr>\n",
       "      <th>7.0</th>\n",
       "      <td>Superior Double or Twin Room</td>\n",
       "      <td>Twin Room</td>\n",
       "      <td>Superior Room with 1 Double Bed and 1 Sofa Bed...</td>\n",
       "      <td>Wonderful Exchange King</td>\n",
       "      <td>Superior Double or Twin Room with Terrace</td>\n",
       "      <td>With a pet</td>\n",
       "    </tr>\n",
       "    <tr>\n",
       "      <th>7.1</th>\n",
       "      <td>penta Standard Room</td>\n",
       "      <td>With a pet</td>\n",
       "      <td>superior Double or Twin Room with extra bed</td>\n",
       "      <td>Wonderful Exchange King</td>\n",
       "      <td>Wonderful Double or Twin Room</td>\n",
       "      <td>Wonderful Room</td>\n",
       "    </tr>\n",
       "    <tr>\n",
       "      <th>7.5</th>\n",
       "      <td>penta Standard Room</td>\n",
       "      <td>Wonderful Double Room</td>\n",
       "      <td>superior Double or Twin Room with extra bed</td>\n",
       "      <td>Wonderful Exchange King</td>\n",
       "      <td>Wonderful Sky Room</td>\n",
       "      <td>Wonderful Room</td>\n",
       "    </tr>\n",
       "    <tr>\n",
       "      <th>7.9</th>\n",
       "      <td>penta Standard Room</td>\n",
       "      <td>Wonderful Double Room</td>\n",
       "      <td>With a pet</td>\n",
       "      <td>Wonderful Exchange King</td>\n",
       "      <td>Wonderful Double or Twin Room</td>\n",
       "      <td>Wonderful Room</td>\n",
       "    </tr>\n",
       "    <tr>\n",
       "      <th>8.0</th>\n",
       "      <td>Superior Room with City View</td>\n",
       "      <td>Superior Room with Queensize Bed and Single So...</td>\n",
       "      <td>Triple Room</td>\n",
       "      <td>Twin Guest Room</td>\n",
       "      <td>Twin Room with Extra Bed</td>\n",
       "      <td>With a pet</td>\n",
       "    </tr>\n",
       "    <tr>\n",
       "      <th>8.1</th>\n",
       "      <td>Stayed 1 night</td>\n",
       "      <td>Submitted from a mobile device</td>\n",
       "      <td>NaN</td>\n",
       "      <td>Twin Guest Room</td>\n",
       "      <td>Stayed 4 nights</td>\n",
       "      <td>Twin Room</td>\n",
       "    </tr>\n",
       "    <tr>\n",
       "      <th>8.3</th>\n",
       "      <td>penta Standard Room</td>\n",
       "      <td>Wonderful Double Room</td>\n",
       "      <td>With a pet</td>\n",
       "      <td>Wonderful Exchange King</td>\n",
       "      <td>Wonderful Sky Room</td>\n",
       "      <td>Wonderful Room</td>\n",
       "    </tr>\n",
       "    <tr>\n",
       "      <th>8.5</th>\n",
       "      <td>penta Plus Room</td>\n",
       "      <td>Superior Room Queen Bed</td>\n",
       "      <td>Twin Room</td>\n",
       "      <td>Travelers with friends</td>\n",
       "      <td>Twin Guest Room</td>\n",
       "      <td>Wonderful Room</td>\n",
       "    </tr>\n",
       "    <tr>\n",
       "      <th>8.8</th>\n",
       "      <td>penta Standard Room</td>\n",
       "      <td>Wonderful Double Room</td>\n",
       "      <td>superior Double or Twin Room with extra bed</td>\n",
       "      <td>Wonderful Exchange King</td>\n",
       "      <td>Wonderful Sky Room</td>\n",
       "      <td>Xscape King</td>\n",
       "    </tr>\n",
       "    <tr>\n",
       "      <th>9.0</th>\n",
       "      <td>X Ordinary Room</td>\n",
       "      <td>Superior Room with Queensize Bed and double co...</td>\n",
       "      <td>Twin Room</td>\n",
       "      <td>Superior Room with canal view</td>\n",
       "      <td>Twin Room</td>\n",
       "      <td>Twin Room</td>\n",
       "    </tr>\n",
       "    <tr>\n",
       "      <th>9.2</th>\n",
       "      <td>penta Standard Room</td>\n",
       "      <td>Wonderful Double Room</td>\n",
       "      <td>With a pet</td>\n",
       "      <td>Wonderful Exchange King</td>\n",
       "      <td>Wonderful Sky Room</td>\n",
       "      <td>Xscape King</td>\n",
       "    </tr>\n",
       "    <tr>\n",
       "      <th>9.4</th>\n",
       "      <td>Superior Twin Room</td>\n",
       "      <td>Superior Room</td>\n",
       "      <td>Submitted from a mobile device</td>\n",
       "      <td>Submitted from a mobile device</td>\n",
       "      <td>Two Bedroom Apartment</td>\n",
       "      <td>Twin Room</td>\n",
       "    </tr>\n",
       "    <tr>\n",
       "      <th>9.5</th>\n",
       "      <td>With a pet</td>\n",
       "      <td>With a pet</td>\n",
       "      <td>Twin Room</td>\n",
       "      <td>Superior Twin Room</td>\n",
       "      <td>Twin Room 1 2 people</td>\n",
       "      <td>Wonderful Room</td>\n",
       "    </tr>\n",
       "    <tr>\n",
       "      <th>9.6</th>\n",
       "      <td>penta Standard Room</td>\n",
       "      <td>With a pet</td>\n",
       "      <td>superior Double or Twin Room with extra bed</td>\n",
       "      <td>Wonderful Exchange King</td>\n",
       "      <td>Wonderful Sky Room</td>\n",
       "      <td>Xscape King</td>\n",
       "    </tr>\n",
       "    <tr>\n",
       "      <th>10.0</th>\n",
       "      <td>penta Standard Room</td>\n",
       "      <td>Wonderful Double Room</td>\n",
       "      <td>superior Double or Twin Room with extra bed</td>\n",
       "      <td>Wonderful Exchange King</td>\n",
       "      <td>Wonderful Sky Room</td>\n",
       "      <td>Xscape King</td>\n",
       "    </tr>\n",
       "  </tbody>\n",
       "</table>\n",
       "</div>"
      ],
      "text/plain": [
       "hotel_country                                  Austria  \\\n",
       "reviewer_score                                           \n",
       "2.5                                         With a pet   \n",
       "2.9                                penta Standard Room   \n",
       "3.0                                                NaN   \n",
       "3.1                                                NaN   \n",
       "3.3                      Weekend Offer Standard Studio   \n",
       "3.5                               Superior Double Room   \n",
       "3.8                                penta Standard Room   \n",
       "4.0                               Superior Double Room   \n",
       "4.2                                    X Ordinary Room   \n",
       "4.4                     Submitted from a mobile device   \n",
       "4.5                                 Superior Twin Room   \n",
       "4.6                                    penta Plus Room   \n",
       "5.0                                    penta Plus Room   \n",
       "5.4                                penta Standard Room   \n",
       "5.5                                              Suite   \n",
       "5.6             Twin Room with Public Transport Ticket   \n",
       "5.8                                penta Standard Room   \n",
       "6.0              Superior Double Room with Garden View   \n",
       "6.3                                penta Standard Room   \n",
       "6.5                      Weekend Offer Standard Studio   \n",
       "6.7                                    penta Plus Room   \n",
       "6.9                                                NaN   \n",
       "7.0                       Superior Double or Twin Room   \n",
       "7.1                                penta Standard Room   \n",
       "7.5                                penta Standard Room   \n",
       "7.9                                penta Standard Room   \n",
       "8.0                       Superior Room with City View   \n",
       "8.1                                     Stayed 1 night   \n",
       "8.3                                penta Standard Room   \n",
       "8.5                                    penta Plus Room   \n",
       "8.8                                penta Standard Room   \n",
       "9.0                                    X Ordinary Room   \n",
       "9.2                                penta Standard Room   \n",
       "9.4                                 Superior Twin Room   \n",
       "9.5                                         With a pet   \n",
       "9.6                                penta Standard Room   \n",
       "10.0                               penta Standard Room   \n",
       "\n",
       "hotel_country                                              France  \\\n",
       "reviewer_score                                                      \n",
       "2.5                                                    With a pet   \n",
       "2.9                                                    With a pet   \n",
       "3.0                              Superior Room with 2 Double Beds   \n",
       "3.1                                                           NaN   \n",
       "3.3                                                    With a pet   \n",
       "3.5                                  Superior Double or Twin Room   \n",
       "3.8                                                    With a pet   \n",
       "4.0                                            Superior Twin Room   \n",
       "4.2                                         Wonderful Double Room   \n",
       "4.4                                               Stayed 4 nights   \n",
       "4.5                                                   Triple Room   \n",
       "4.6                                                    With a pet   \n",
       "5.0                                                    With a pet   \n",
       "5.4                                                    With a pet   \n",
       "5.5                                    Two Adjoining Double Rooms   \n",
       "5.6                                                 Superior Room   \n",
       "5.8                                         Wonderful Double Room   \n",
       "6.0                                          Superior Double Room   \n",
       "6.3                                                    With a pet   \n",
       "6.5                                         Twin Room Non Smoking   \n",
       "6.7                                                    With a pet   \n",
       "6.9                                Submitted from a mobile device   \n",
       "7.0                                                     Twin Room   \n",
       "7.1                                                    With a pet   \n",
       "7.5                                         Wonderful Double Room   \n",
       "7.9                                         Wonderful Double Room   \n",
       "8.0             Superior Room with Queensize Bed and Single So...   \n",
       "8.1                                Submitted from a mobile device   \n",
       "8.3                                         Wonderful Double Room   \n",
       "8.5                                       Superior Room Queen Bed   \n",
       "8.8                                         Wonderful Double Room   \n",
       "9.0             Superior Room with Queensize Bed and double co...   \n",
       "9.2                                         Wonderful Double Room   \n",
       "9.4                                                 Superior Room   \n",
       "9.5                                                    With a pet   \n",
       "9.6                                                    With a pet   \n",
       "10.0                                        Wonderful Double Room   \n",
       "\n",
       "hotel_country                                               Italy  \\\n",
       "reviewer_score                                                      \n",
       "2.5                                                    With a pet   \n",
       "2.9                                                    With a pet   \n",
       "3.0                       Superior Twin Room with Two Double Beds   \n",
       "3.1                                                           NaN   \n",
       "3.3                                                    With a pet   \n",
       "3.5                                  Superior Double or Twin Room   \n",
       "3.8                                                    With a pet   \n",
       "4.0                                  Superior Double or Twin Room   \n",
       "4.2                                                    With a pet   \n",
       "4.4                                                           NaN   \n",
       "4.5                                                   Triple Room   \n",
       "4.6                                                    With a pet   \n",
       "5.0                   superior Double or Twin Room with extra bed   \n",
       "5.4                                                    With a pet   \n",
       "5.5                                                     Twin Room   \n",
       "5.6                                          Superior Double Room   \n",
       "5.8                                                    With a pet   \n",
       "6.0                                                     Twin Room   \n",
       "6.3                                                    With a pet   \n",
       "6.5                                                     Twin Room   \n",
       "6.7                                                    With a pet   \n",
       "6.9                                Submitted from a mobile device   \n",
       "7.0             Superior Room with 1 Double Bed and 1 Sofa Bed...   \n",
       "7.1                   superior Double or Twin Room with extra bed   \n",
       "7.5                   superior Double or Twin Room with extra bed   \n",
       "7.9                                                    With a pet   \n",
       "8.0                                                   Triple Room   \n",
       "8.1                                                           NaN   \n",
       "8.3                                                    With a pet   \n",
       "8.5                                                     Twin Room   \n",
       "8.8                   superior Double or Twin Room with extra bed   \n",
       "9.0                                                     Twin Room   \n",
       "9.2                                                    With a pet   \n",
       "9.4                                Submitted from a mobile device   \n",
       "9.5                                                     Twin Room   \n",
       "9.6                   superior Double or Twin Room with extra bed   \n",
       "10.0                  superior Double or Twin Room with extra bed   \n",
       "\n",
       "hotel_country                                   Netherlands  \\\n",
       "reviewer_score                                                \n",
       "2.5                                               Twin Room   \n",
       "2.9                                              With a pet   \n",
       "3.0                          Submitted from a mobile device   \n",
       "3.1                                        Stayed 14 nights   \n",
       "3.3                                              With a pet   \n",
       "3.5                          Submitted from a mobile device   \n",
       "3.8                                 Wonderful Exchange King   \n",
       "4.0             Superior Double Twin Room with Free Parking   \n",
       "4.2                                 Wonderful Exchange King   \n",
       "4.4                                                     NaN   \n",
       "4.5                                             Triple Room   \n",
       "4.6                                               Twin Room   \n",
       "5.0                                 Wonderful Exchange King   \n",
       "5.4                                 Wonderful Exchange King   \n",
       "5.5                                               Twin Room   \n",
       "5.6                                                     NaN   \n",
       "5.8                                 Wonderful Exchange King   \n",
       "6.0                            Superior Double or Twin Room   \n",
       "6.3                                 Wonderful Exchange King   \n",
       "6.5                                     Superior Queen Room   \n",
       "6.7                                 Wonderful Exchange King   \n",
       "6.9                                         Stayed 2 nights   \n",
       "7.0                                 Wonderful Exchange King   \n",
       "7.1                                 Wonderful Exchange King   \n",
       "7.5                                 Wonderful Exchange King   \n",
       "7.9                                 Wonderful Exchange King   \n",
       "8.0                                         Twin Guest Room   \n",
       "8.1                                         Twin Guest Room   \n",
       "8.3                                 Wonderful Exchange King   \n",
       "8.5                                  Travelers with friends   \n",
       "8.8                                 Wonderful Exchange King   \n",
       "9.0                           Superior Room with canal view   \n",
       "9.2                                 Wonderful Exchange King   \n",
       "9.4                          Submitted from a mobile device   \n",
       "9.5                                      Superior Twin Room   \n",
       "9.6                                 Wonderful Exchange King   \n",
       "10.0                                Wonderful Exchange King   \n",
       "\n",
       "hotel_country                                       Spain  \\\n",
       "reviewer_score                                              \n",
       "2.5                         Wonderful Double or Twin Room   \n",
       "2.9                         Wonderful Double or Twin Room   \n",
       "3.0                                                   NaN   \n",
       "3.1                                                   NaN   \n",
       "3.3                         Wonderful Double or Twin Room   \n",
       "3.5                        Submitted from a mobile device   \n",
       "3.8                         Wonderful Double or Twin Room   \n",
       "4.0                        Submitted from a mobile device   \n",
       "4.2                         Wonderful Double or Twin Room   \n",
       "4.4                          Superior Double or Twin Room   \n",
       "4.5                Superior Double or Twin Room with View   \n",
       "4.6                         Wonderful Double or Twin Room   \n",
       "5.0                         Wonderful Double or Twin Room   \n",
       "5.4                                    Wonderful Sky Room   \n",
       "5.5                             Urban Double or Twin Room   \n",
       "5.6                       Superior Double Room 1 2 Adults   \n",
       "5.8                                    Wonderful Sky Room   \n",
       "6.0                                           Triple Room   \n",
       "6.3                         Wonderful Double or Twin Room   \n",
       "6.5                         Wonderful Double or Twin Room   \n",
       "6.7                         Wonderful Double or Twin Room   \n",
       "6.9                                        Stayed 1 night   \n",
       "7.0             Superior Double or Twin Room with Terrace   \n",
       "7.1                         Wonderful Double or Twin Room   \n",
       "7.5                                    Wonderful Sky Room   \n",
       "7.9                         Wonderful Double or Twin Room   \n",
       "8.0                              Twin Room with Extra Bed   \n",
       "8.1                                       Stayed 4 nights   \n",
       "8.3                                    Wonderful Sky Room   \n",
       "8.5                                       Twin Guest Room   \n",
       "8.8                                    Wonderful Sky Room   \n",
       "9.0                                             Twin Room   \n",
       "9.2                                    Wonderful Sky Room   \n",
       "9.4                                 Two Bedroom Apartment   \n",
       "9.5                                  Twin Room 1 2 people   \n",
       "9.6                                    Wonderful Sky Room   \n",
       "10.0                                   Wonderful Sky Room   \n",
       "\n",
       "hotel_country                   United Kingdom  \n",
       "reviewer_score                                  \n",
       "2.5                             Wonderful Room  \n",
       "2.9                             Wonderful Room  \n",
       "3.0                                  Twin Room  \n",
       "3.1                       Superior Double Room  \n",
       "3.3                                 With a pet  \n",
       "3.5                                 With a pet  \n",
       "3.8                             Wonderful Room  \n",
       "4.0                                  Twin Room  \n",
       "4.2                             Wonderful Room  \n",
       "4.4             Submitted from a mobile device  \n",
       "4.5                                  Twin Room  \n",
       "4.6                             Wonderful Room  \n",
       "5.0                                 With a pet  \n",
       "5.4                             Wonderful Room  \n",
       "5.5                                 With a pet  \n",
       "5.6                       Superior Double Room  \n",
       "5.8                             Wonderful Room  \n",
       "6.0                                  Twin Room  \n",
       "6.3                             Wonderful Room  \n",
       "6.5                                 With a pet  \n",
       "6.7                             Wonderful Room  \n",
       "6.9                        Superior Queen Room  \n",
       "7.0                                 With a pet  \n",
       "7.1                             Wonderful Room  \n",
       "7.5                             Wonderful Room  \n",
       "7.9                             Wonderful Room  \n",
       "8.0                                 With a pet  \n",
       "8.1                                  Twin Room  \n",
       "8.3                             Wonderful Room  \n",
       "8.5                             Wonderful Room  \n",
       "8.8                                Xscape King  \n",
       "9.0                                  Twin Room  \n",
       "9.2                                Xscape King  \n",
       "9.4                                  Twin Room  \n",
       "9.5                             Wonderful Room  \n",
       "9.6                                Xscape King  \n",
       "10.0                               Xscape King  "
      ]
     },
     "metadata": {},
     "output_type": "display_data"
    }
   ],
   "source": [
    "#самые частые теги\n",
    "df = df_train.pivot_table('tags_n', index='reviewer_score', columns='hotel_country', aggfunc='max')\n",
    "display(df)"
   ]
  },
  {
   "cell_type": "code",
   "execution_count": 131,
   "metadata": {},
   "outputs": [
    {
     "data": {
      "application/vnd.plotly.v1+json": {
       "config": {
        "plotlyServerURL": "https://plot.ly"
       },
       "data": [
        {
         "hovertemplate": "hotel_country=Austria<br>reviewer_score=%{x}<br>value=%{y}<extra></extra>",
         "legendgroup": "Austria",
         "marker": {
          "color": "#636efa",
          "symbol": "circle"
         },
         "mode": "markers",
         "name": "Austria",
         "orientation": "v",
         "showlegend": true,
         "type": "scatter",
         "x": [
          2.5,
          2.9,
          3,
          3.1,
          3.3,
          3.5,
          3.8,
          4,
          4.2,
          4.4,
          4.5,
          4.6,
          5,
          5.4,
          5.5,
          5.6,
          5.8,
          6,
          6.3,
          6.5,
          6.7,
          6.9,
          7,
          7.1,
          7.5,
          7.9,
          8,
          8.1,
          8.3,
          8.5,
          8.8,
          9,
          9.2,
          9.4,
          9.5,
          9.6,
          10
         ],
         "xaxis": "x",
         "y": [
          "With a pet",
          "penta Standard Room",
          null,
          null,
          "Weekend Offer Standard Studio",
          "Superior Double Room",
          "penta Standard Room",
          "Superior Double Room",
          "X Ordinary Room",
          "Submitted from a mobile device",
          "Superior Twin Room",
          "penta Plus Room",
          "penta Plus Room",
          "penta Standard Room",
          "Suite",
          "Twin Room with Public Transport Ticket",
          "penta Standard Room",
          "Superior Double Room with Garden View",
          "penta Standard Room",
          "Weekend Offer Standard Studio",
          "penta Plus Room",
          null,
          "Superior Double or Twin Room",
          "penta Standard Room",
          "penta Standard Room",
          "penta Standard Room",
          "Superior Room with City View",
          "Stayed 1 night",
          "penta Standard Room",
          "penta Plus Room",
          "penta Standard Room",
          "X Ordinary Room",
          "penta Standard Room",
          "Superior Twin Room",
          "With a pet",
          "penta Standard Room",
          "penta Standard Room"
         ],
         "yaxis": "y"
        },
        {
         "hovertemplate": "hotel_country=France<br>reviewer_score=%{x}<br>value=%{y}<extra></extra>",
         "legendgroup": "France",
         "marker": {
          "color": "#EF553B",
          "symbol": "circle"
         },
         "mode": "markers",
         "name": "France",
         "orientation": "v",
         "showlegend": true,
         "type": "scatter",
         "x": [
          2.5,
          2.9,
          3,
          3.1,
          3.3,
          3.5,
          3.8,
          4,
          4.2,
          4.4,
          4.5,
          4.6,
          5,
          5.4,
          5.5,
          5.6,
          5.8,
          6,
          6.3,
          6.5,
          6.7,
          6.9,
          7,
          7.1,
          7.5,
          7.9,
          8,
          8.1,
          8.3,
          8.5,
          8.8,
          9,
          9.2,
          9.4,
          9.5,
          9.6,
          10
         ],
         "xaxis": "x",
         "y": [
          "With a pet",
          "With a pet",
          "Superior Room with 2 Double Beds",
          null,
          "With a pet",
          "Superior Double or Twin Room",
          "With a pet",
          "Superior Twin Room",
          "Wonderful Double Room",
          "Stayed 4 nights",
          "Triple Room",
          "With a pet",
          "With a pet",
          "With a pet",
          "Two Adjoining Double Rooms",
          "Superior Room",
          "Wonderful Double Room",
          "Superior Double Room",
          "With a pet",
          "Twin Room Non Smoking",
          "With a pet",
          "Submitted from a mobile device",
          "Twin Room",
          "With a pet",
          "Wonderful Double Room",
          "Wonderful Double Room",
          "Superior Room with Queensize Bed and Single Sofa Bed",
          "Submitted from a mobile device",
          "Wonderful Double Room",
          "Superior Room Queen Bed",
          "Wonderful Double Room",
          "Superior Room with Queensize Bed and double couch 2 adults 2 children",
          "Wonderful Double Room",
          "Superior Room",
          "With a pet",
          "With a pet",
          "Wonderful Double Room"
         ],
         "yaxis": "y"
        },
        {
         "hovertemplate": "hotel_country=Italy<br>reviewer_score=%{x}<br>value=%{y}<extra></extra>",
         "legendgroup": "Italy",
         "marker": {
          "color": "#00cc96",
          "symbol": "circle"
         },
         "mode": "markers",
         "name": "Italy",
         "orientation": "v",
         "showlegend": true,
         "type": "scatter",
         "x": [
          2.5,
          2.9,
          3,
          3.1,
          3.3,
          3.5,
          3.8,
          4,
          4.2,
          4.4,
          4.5,
          4.6,
          5,
          5.4,
          5.5,
          5.6,
          5.8,
          6,
          6.3,
          6.5,
          6.7,
          6.9,
          7,
          7.1,
          7.5,
          7.9,
          8,
          8.1,
          8.3,
          8.5,
          8.8,
          9,
          9.2,
          9.4,
          9.5,
          9.6,
          10
         ],
         "xaxis": "x",
         "y": [
          "With a pet",
          "With a pet",
          "Superior Twin Room with Two Double Beds",
          null,
          "With a pet",
          "Superior Double or Twin Room",
          "With a pet",
          "Superior Double or Twin Room",
          "With a pet",
          null,
          "Triple Room",
          "With a pet",
          "superior Double or Twin Room with extra bed",
          "With a pet",
          "Twin Room",
          "Superior Double Room",
          "With a pet",
          "Twin Room",
          "With a pet",
          "Twin Room",
          "With a pet",
          "Submitted from a mobile device",
          "Superior Room with 1 Double Bed and 1 Sofa Bed 3 Adults",
          "superior Double or Twin Room with extra bed",
          "superior Double or Twin Room with extra bed",
          "With a pet",
          "Triple Room",
          null,
          "With a pet",
          "Twin Room",
          "superior Double or Twin Room with extra bed",
          "Twin Room",
          "With a pet",
          "Submitted from a mobile device",
          "Twin Room",
          "superior Double or Twin Room with extra bed",
          "superior Double or Twin Room with extra bed"
         ],
         "yaxis": "y"
        },
        {
         "hovertemplate": "hotel_country=Netherlands<br>reviewer_score=%{x}<br>value=%{y}<extra></extra>",
         "legendgroup": "Netherlands",
         "marker": {
          "color": "#ab63fa",
          "symbol": "circle"
         },
         "mode": "markers",
         "name": "Netherlands",
         "orientation": "v",
         "showlegend": true,
         "type": "scatter",
         "x": [
          2.5,
          2.9,
          3,
          3.1,
          3.3,
          3.5,
          3.8,
          4,
          4.2,
          4.4,
          4.5,
          4.6,
          5,
          5.4,
          5.5,
          5.6,
          5.8,
          6,
          6.3,
          6.5,
          6.7,
          6.9,
          7,
          7.1,
          7.5,
          7.9,
          8,
          8.1,
          8.3,
          8.5,
          8.8,
          9,
          9.2,
          9.4,
          9.5,
          9.6,
          10
         ],
         "xaxis": "x",
         "y": [
          "Twin Room",
          "With a pet",
          "Submitted from a mobile device",
          "Stayed 14 nights",
          "With a pet",
          "Submitted from a mobile device",
          "Wonderful Exchange King",
          "Superior Double Twin Room with Free Parking",
          "Wonderful Exchange King",
          null,
          "Triple Room",
          "Twin Room",
          "Wonderful Exchange King",
          "Wonderful Exchange King",
          "Twin Room",
          null,
          "Wonderful Exchange King",
          "Superior Double or Twin Room",
          "Wonderful Exchange King",
          "Superior Queen Room",
          "Wonderful Exchange King",
          "Stayed 2 nights",
          "Wonderful Exchange King",
          "Wonderful Exchange King",
          "Wonderful Exchange King",
          "Wonderful Exchange King",
          "Twin Guest Room",
          "Twin Guest Room",
          "Wonderful Exchange King",
          "Travelers with friends",
          "Wonderful Exchange King",
          "Superior Room with canal view",
          "Wonderful Exchange King",
          "Submitted from a mobile device",
          "Superior Twin Room",
          "Wonderful Exchange King",
          "Wonderful Exchange King"
         ],
         "yaxis": "y"
        },
        {
         "hovertemplate": "hotel_country=Spain<br>reviewer_score=%{x}<br>value=%{y}<extra></extra>",
         "legendgroup": "Spain",
         "marker": {
          "color": "#FFA15A",
          "symbol": "circle"
         },
         "mode": "markers",
         "name": "Spain",
         "orientation": "v",
         "showlegend": true,
         "type": "scatter",
         "x": [
          2.5,
          2.9,
          3,
          3.1,
          3.3,
          3.5,
          3.8,
          4,
          4.2,
          4.4,
          4.5,
          4.6,
          5,
          5.4,
          5.5,
          5.6,
          5.8,
          6,
          6.3,
          6.5,
          6.7,
          6.9,
          7,
          7.1,
          7.5,
          7.9,
          8,
          8.1,
          8.3,
          8.5,
          8.8,
          9,
          9.2,
          9.4,
          9.5,
          9.6,
          10
         ],
         "xaxis": "x",
         "y": [
          "Wonderful Double or Twin Room",
          "Wonderful Double or Twin Room",
          null,
          null,
          "Wonderful Double or Twin Room",
          "Submitted from a mobile device",
          "Wonderful Double or Twin Room",
          "Submitted from a mobile device",
          "Wonderful Double or Twin Room",
          "Superior Double or Twin Room",
          "Superior Double or Twin Room with View",
          "Wonderful Double or Twin Room",
          "Wonderful Double or Twin Room",
          "Wonderful Sky Room",
          "Urban Double or Twin Room",
          "Superior Double Room 1 2 Adults",
          "Wonderful Sky Room",
          "Triple Room",
          "Wonderful Double or Twin Room",
          "Wonderful Double or Twin Room",
          "Wonderful Double or Twin Room",
          "Stayed 1 night",
          "Superior Double or Twin Room with Terrace",
          "Wonderful Double or Twin Room",
          "Wonderful Sky Room",
          "Wonderful Double or Twin Room",
          "Twin Room with Extra Bed",
          "Stayed 4 nights",
          "Wonderful Sky Room",
          "Twin Guest Room",
          "Wonderful Sky Room",
          "Twin Room",
          "Wonderful Sky Room",
          "Two Bedroom Apartment",
          "Twin Room 1 2 people",
          "Wonderful Sky Room",
          "Wonderful Sky Room"
         ],
         "yaxis": "y"
        },
        {
         "hovertemplate": "hotel_country=United Kingdom<br>reviewer_score=%{x}<br>value=%{y}<extra></extra>",
         "legendgroup": "United Kingdom",
         "marker": {
          "color": "#19d3f3",
          "symbol": "circle"
         },
         "mode": "markers",
         "name": "United Kingdom",
         "orientation": "v",
         "showlegend": true,
         "type": "scatter",
         "x": [
          2.5,
          2.9,
          3,
          3.1,
          3.3,
          3.5,
          3.8,
          4,
          4.2,
          4.4,
          4.5,
          4.6,
          5,
          5.4,
          5.5,
          5.6,
          5.8,
          6,
          6.3,
          6.5,
          6.7,
          6.9,
          7,
          7.1,
          7.5,
          7.9,
          8,
          8.1,
          8.3,
          8.5,
          8.8,
          9,
          9.2,
          9.4,
          9.5,
          9.6,
          10
         ],
         "xaxis": "x",
         "y": [
          "Wonderful Room",
          "Wonderful Room",
          "Twin Room",
          "Superior Double Room",
          "With a pet",
          "With a pet",
          "Wonderful Room",
          "Twin Room",
          "Wonderful Room",
          "Submitted from a mobile device",
          "Twin Room",
          "Wonderful Room",
          "With a pet",
          "Wonderful Room",
          "With a pet",
          "Superior Double Room",
          "Wonderful Room",
          "Twin Room",
          "Wonderful Room",
          "With a pet",
          "Wonderful Room",
          "Superior Queen Room",
          "With a pet",
          "Wonderful Room",
          "Wonderful Room",
          "Wonderful Room",
          "With a pet",
          "Twin Room",
          "Wonderful Room",
          "Wonderful Room",
          "Xscape King",
          "Twin Room",
          "Xscape King",
          "Twin Room",
          "Wonderful Room",
          "Xscape King",
          "Xscape King"
         ],
         "yaxis": "y"
        }
       ],
       "layout": {
        "legend": {
         "title": {
          "text": "hotel_country"
         },
         "tracegroupgap": 0
        },
        "margin": {
         "t": 60
        },
        "template": {
         "data": {
          "bar": [
           {
            "error_x": {
             "color": "#2a3f5f"
            },
            "error_y": {
             "color": "#2a3f5f"
            },
            "marker": {
             "line": {
              "color": "#E5ECF6",
              "width": 0.5
             },
             "pattern": {
              "fillmode": "overlay",
              "size": 10,
              "solidity": 0.2
             }
            },
            "type": "bar"
           }
          ],
          "barpolar": [
           {
            "marker": {
             "line": {
              "color": "#E5ECF6",
              "width": 0.5
             },
             "pattern": {
              "fillmode": "overlay",
              "size": 10,
              "solidity": 0.2
             }
            },
            "type": "barpolar"
           }
          ],
          "carpet": [
           {
            "aaxis": {
             "endlinecolor": "#2a3f5f",
             "gridcolor": "white",
             "linecolor": "white",
             "minorgridcolor": "white",
             "startlinecolor": "#2a3f5f"
            },
            "baxis": {
             "endlinecolor": "#2a3f5f",
             "gridcolor": "white",
             "linecolor": "white",
             "minorgridcolor": "white",
             "startlinecolor": "#2a3f5f"
            },
            "type": "carpet"
           }
          ],
          "choropleth": [
           {
            "colorbar": {
             "outlinewidth": 0,
             "ticks": ""
            },
            "type": "choropleth"
           }
          ],
          "contour": [
           {
            "colorbar": {
             "outlinewidth": 0,
             "ticks": ""
            },
            "colorscale": [
             [
              0,
              "#0d0887"
             ],
             [
              0.1111111111111111,
              "#46039f"
             ],
             [
              0.2222222222222222,
              "#7201a8"
             ],
             [
              0.3333333333333333,
              "#9c179e"
             ],
             [
              0.4444444444444444,
              "#bd3786"
             ],
             [
              0.5555555555555556,
              "#d8576b"
             ],
             [
              0.6666666666666666,
              "#ed7953"
             ],
             [
              0.7777777777777778,
              "#fb9f3a"
             ],
             [
              0.8888888888888888,
              "#fdca26"
             ],
             [
              1,
              "#f0f921"
             ]
            ],
            "type": "contour"
           }
          ],
          "contourcarpet": [
           {
            "colorbar": {
             "outlinewidth": 0,
             "ticks": ""
            },
            "type": "contourcarpet"
           }
          ],
          "heatmap": [
           {
            "colorbar": {
             "outlinewidth": 0,
             "ticks": ""
            },
            "colorscale": [
             [
              0,
              "#0d0887"
             ],
             [
              0.1111111111111111,
              "#46039f"
             ],
             [
              0.2222222222222222,
              "#7201a8"
             ],
             [
              0.3333333333333333,
              "#9c179e"
             ],
             [
              0.4444444444444444,
              "#bd3786"
             ],
             [
              0.5555555555555556,
              "#d8576b"
             ],
             [
              0.6666666666666666,
              "#ed7953"
             ],
             [
              0.7777777777777778,
              "#fb9f3a"
             ],
             [
              0.8888888888888888,
              "#fdca26"
             ],
             [
              1,
              "#f0f921"
             ]
            ],
            "type": "heatmap"
           }
          ],
          "heatmapgl": [
           {
            "colorbar": {
             "outlinewidth": 0,
             "ticks": ""
            },
            "colorscale": [
             [
              0,
              "#0d0887"
             ],
             [
              0.1111111111111111,
              "#46039f"
             ],
             [
              0.2222222222222222,
              "#7201a8"
             ],
             [
              0.3333333333333333,
              "#9c179e"
             ],
             [
              0.4444444444444444,
              "#bd3786"
             ],
             [
              0.5555555555555556,
              "#d8576b"
             ],
             [
              0.6666666666666666,
              "#ed7953"
             ],
             [
              0.7777777777777778,
              "#fb9f3a"
             ],
             [
              0.8888888888888888,
              "#fdca26"
             ],
             [
              1,
              "#f0f921"
             ]
            ],
            "type": "heatmapgl"
           }
          ],
          "histogram": [
           {
            "marker": {
             "pattern": {
              "fillmode": "overlay",
              "size": 10,
              "solidity": 0.2
             }
            },
            "type": "histogram"
           }
          ],
          "histogram2d": [
           {
            "colorbar": {
             "outlinewidth": 0,
             "ticks": ""
            },
            "colorscale": [
             [
              0,
              "#0d0887"
             ],
             [
              0.1111111111111111,
              "#46039f"
             ],
             [
              0.2222222222222222,
              "#7201a8"
             ],
             [
              0.3333333333333333,
              "#9c179e"
             ],
             [
              0.4444444444444444,
              "#bd3786"
             ],
             [
              0.5555555555555556,
              "#d8576b"
             ],
             [
              0.6666666666666666,
              "#ed7953"
             ],
             [
              0.7777777777777778,
              "#fb9f3a"
             ],
             [
              0.8888888888888888,
              "#fdca26"
             ],
             [
              1,
              "#f0f921"
             ]
            ],
            "type": "histogram2d"
           }
          ],
          "histogram2dcontour": [
           {
            "colorbar": {
             "outlinewidth": 0,
             "ticks": ""
            },
            "colorscale": [
             [
              0,
              "#0d0887"
             ],
             [
              0.1111111111111111,
              "#46039f"
             ],
             [
              0.2222222222222222,
              "#7201a8"
             ],
             [
              0.3333333333333333,
              "#9c179e"
             ],
             [
              0.4444444444444444,
              "#bd3786"
             ],
             [
              0.5555555555555556,
              "#d8576b"
             ],
             [
              0.6666666666666666,
              "#ed7953"
             ],
             [
              0.7777777777777778,
              "#fb9f3a"
             ],
             [
              0.8888888888888888,
              "#fdca26"
             ],
             [
              1,
              "#f0f921"
             ]
            ],
            "type": "histogram2dcontour"
           }
          ],
          "mesh3d": [
           {
            "colorbar": {
             "outlinewidth": 0,
             "ticks": ""
            },
            "type": "mesh3d"
           }
          ],
          "parcoords": [
           {
            "line": {
             "colorbar": {
              "outlinewidth": 0,
              "ticks": ""
             }
            },
            "type": "parcoords"
           }
          ],
          "pie": [
           {
            "automargin": true,
            "type": "pie"
           }
          ],
          "scatter": [
           {
            "marker": {
             "colorbar": {
              "outlinewidth": 0,
              "ticks": ""
             }
            },
            "type": "scatter"
           }
          ],
          "scatter3d": [
           {
            "line": {
             "colorbar": {
              "outlinewidth": 0,
              "ticks": ""
             }
            },
            "marker": {
             "colorbar": {
              "outlinewidth": 0,
              "ticks": ""
             }
            },
            "type": "scatter3d"
           }
          ],
          "scattercarpet": [
           {
            "marker": {
             "colorbar": {
              "outlinewidth": 0,
              "ticks": ""
             }
            },
            "type": "scattercarpet"
           }
          ],
          "scattergeo": [
           {
            "marker": {
             "colorbar": {
              "outlinewidth": 0,
              "ticks": ""
             }
            },
            "type": "scattergeo"
           }
          ],
          "scattergl": [
           {
            "marker": {
             "colorbar": {
              "outlinewidth": 0,
              "ticks": ""
             }
            },
            "type": "scattergl"
           }
          ],
          "scattermapbox": [
           {
            "marker": {
             "colorbar": {
              "outlinewidth": 0,
              "ticks": ""
             }
            },
            "type": "scattermapbox"
           }
          ],
          "scatterpolar": [
           {
            "marker": {
             "colorbar": {
              "outlinewidth": 0,
              "ticks": ""
             }
            },
            "type": "scatterpolar"
           }
          ],
          "scatterpolargl": [
           {
            "marker": {
             "colorbar": {
              "outlinewidth": 0,
              "ticks": ""
             }
            },
            "type": "scatterpolargl"
           }
          ],
          "scatterternary": [
           {
            "marker": {
             "colorbar": {
              "outlinewidth": 0,
              "ticks": ""
             }
            },
            "type": "scatterternary"
           }
          ],
          "surface": [
           {
            "colorbar": {
             "outlinewidth": 0,
             "ticks": ""
            },
            "colorscale": [
             [
              0,
              "#0d0887"
             ],
             [
              0.1111111111111111,
              "#46039f"
             ],
             [
              0.2222222222222222,
              "#7201a8"
             ],
             [
              0.3333333333333333,
              "#9c179e"
             ],
             [
              0.4444444444444444,
              "#bd3786"
             ],
             [
              0.5555555555555556,
              "#d8576b"
             ],
             [
              0.6666666666666666,
              "#ed7953"
             ],
             [
              0.7777777777777778,
              "#fb9f3a"
             ],
             [
              0.8888888888888888,
              "#fdca26"
             ],
             [
              1,
              "#f0f921"
             ]
            ],
            "type": "surface"
           }
          ],
          "table": [
           {
            "cells": {
             "fill": {
              "color": "#EBF0F8"
             },
             "line": {
              "color": "white"
             }
            },
            "header": {
             "fill": {
              "color": "#C8D4E3"
             },
             "line": {
              "color": "white"
             }
            },
            "type": "table"
           }
          ]
         },
         "layout": {
          "annotationdefaults": {
           "arrowcolor": "#2a3f5f",
           "arrowhead": 0,
           "arrowwidth": 1
          },
          "autotypenumbers": "strict",
          "coloraxis": {
           "colorbar": {
            "outlinewidth": 0,
            "ticks": ""
           }
          },
          "colorscale": {
           "diverging": [
            [
             0,
             "#8e0152"
            ],
            [
             0.1,
             "#c51b7d"
            ],
            [
             0.2,
             "#de77ae"
            ],
            [
             0.3,
             "#f1b6da"
            ],
            [
             0.4,
             "#fde0ef"
            ],
            [
             0.5,
             "#f7f7f7"
            ],
            [
             0.6,
             "#e6f5d0"
            ],
            [
             0.7,
             "#b8e186"
            ],
            [
             0.8,
             "#7fbc41"
            ],
            [
             0.9,
             "#4d9221"
            ],
            [
             1,
             "#276419"
            ]
           ],
           "sequential": [
            [
             0,
             "#0d0887"
            ],
            [
             0.1111111111111111,
             "#46039f"
            ],
            [
             0.2222222222222222,
             "#7201a8"
            ],
            [
             0.3333333333333333,
             "#9c179e"
            ],
            [
             0.4444444444444444,
             "#bd3786"
            ],
            [
             0.5555555555555556,
             "#d8576b"
            ],
            [
             0.6666666666666666,
             "#ed7953"
            ],
            [
             0.7777777777777778,
             "#fb9f3a"
            ],
            [
             0.8888888888888888,
             "#fdca26"
            ],
            [
             1,
             "#f0f921"
            ]
           ],
           "sequentialminus": [
            [
             0,
             "#0d0887"
            ],
            [
             0.1111111111111111,
             "#46039f"
            ],
            [
             0.2222222222222222,
             "#7201a8"
            ],
            [
             0.3333333333333333,
             "#9c179e"
            ],
            [
             0.4444444444444444,
             "#bd3786"
            ],
            [
             0.5555555555555556,
             "#d8576b"
            ],
            [
             0.6666666666666666,
             "#ed7953"
            ],
            [
             0.7777777777777778,
             "#fb9f3a"
            ],
            [
             0.8888888888888888,
             "#fdca26"
            ],
            [
             1,
             "#f0f921"
            ]
           ]
          },
          "colorway": [
           "#636efa",
           "#EF553B",
           "#00cc96",
           "#ab63fa",
           "#FFA15A",
           "#19d3f3",
           "#FF6692",
           "#B6E880",
           "#FF97FF",
           "#FECB52"
          ],
          "font": {
           "color": "#2a3f5f"
          },
          "geo": {
           "bgcolor": "white",
           "lakecolor": "white",
           "landcolor": "#E5ECF6",
           "showlakes": true,
           "showland": true,
           "subunitcolor": "white"
          },
          "hoverlabel": {
           "align": "left"
          },
          "hovermode": "closest",
          "mapbox": {
           "style": "light"
          },
          "paper_bgcolor": "white",
          "plot_bgcolor": "#E5ECF6",
          "polar": {
           "angularaxis": {
            "gridcolor": "white",
            "linecolor": "white",
            "ticks": ""
           },
           "bgcolor": "#E5ECF6",
           "radialaxis": {
            "gridcolor": "white",
            "linecolor": "white",
            "ticks": ""
           }
          },
          "scene": {
           "xaxis": {
            "backgroundcolor": "#E5ECF6",
            "gridcolor": "white",
            "gridwidth": 2,
            "linecolor": "white",
            "showbackground": true,
            "ticks": "",
            "zerolinecolor": "white"
           },
           "yaxis": {
            "backgroundcolor": "#E5ECF6",
            "gridcolor": "white",
            "gridwidth": 2,
            "linecolor": "white",
            "showbackground": true,
            "ticks": "",
            "zerolinecolor": "white"
           },
           "zaxis": {
            "backgroundcolor": "#E5ECF6",
            "gridcolor": "white",
            "gridwidth": 2,
            "linecolor": "white",
            "showbackground": true,
            "ticks": "",
            "zerolinecolor": "white"
           }
          },
          "shapedefaults": {
           "line": {
            "color": "#2a3f5f"
           }
          },
          "ternary": {
           "aaxis": {
            "gridcolor": "white",
            "linecolor": "white",
            "ticks": ""
           },
           "baxis": {
            "gridcolor": "white",
            "linecolor": "white",
            "ticks": ""
           },
           "bgcolor": "#E5ECF6",
           "caxis": {
            "gridcolor": "white",
            "linecolor": "white",
            "ticks": ""
           }
          },
          "title": {
           "x": 0.05
          },
          "xaxis": {
           "automargin": true,
           "gridcolor": "white",
           "linecolor": "white",
           "ticks": "",
           "title": {
            "standoff": 15
           },
           "zerolinecolor": "white",
           "zerolinewidth": 2
          },
          "yaxis": {
           "automargin": true,
           "gridcolor": "white",
           "linecolor": "white",
           "ticks": "",
           "title": {
            "standoff": 15
           },
           "zerolinecolor": "white",
           "zerolinewidth": 2
          }
         }
        },
        "xaxis": {
         "anchor": "y",
         "domain": [
          0,
          1
         ],
         "title": {
          "text": "reviewer_score"
         },
         "type": "log"
        },
        "yaxis": {
         "anchor": "x",
         "domain": [
          0,
          1
         ],
         "title": {
          "text": "value"
         }
        }
       }
      }
     },
     "metadata": {},
     "output_type": "display_data"
    }
   ],
   "source": [
    "#визуализируем полученную матрицу\n",
    "px.scatter(df, log_x=True, size_max=60)"
   ]
  },
  {
   "cell_type": "markdown",
   "metadata": {},
   "source": [
    "#### Можно отметить, что самые редкие теги и самые популярные теги встречаются у отелей, которые получили как минимальную, так и максимальную оценку"
   ]
  },
  {
   "cell_type": "code",
   "execution_count": 132,
   "metadata": {},
   "outputs": [
    {
     "data": {
      "text/html": [
       "<div>\n",
       "<style scoped>\n",
       "    .dataframe tbody tr th:only-of-type {\n",
       "        vertical-align: middle;\n",
       "    }\n",
       "\n",
       "    .dataframe tbody tr th {\n",
       "        vertical-align: top;\n",
       "    }\n",
       "\n",
       "    .dataframe thead th {\n",
       "        text-align: right;\n",
       "    }\n",
       "</style>\n",
       "<table border=\"1\" class=\"dataframe\">\n",
       "  <thead>\n",
       "    <tr style=\"text-align: right;\">\n",
       "      <th>hotel_country</th>\n",
       "      <th>Austria</th>\n",
       "      <th>France</th>\n",
       "      <th>Italy</th>\n",
       "      <th>Netherlands</th>\n",
       "      <th>Spain</th>\n",
       "      <th>United Kingdom</th>\n",
       "    </tr>\n",
       "    <tr>\n",
       "      <th>reviewer_score</th>\n",
       "      <th></th>\n",
       "      <th></th>\n",
       "      <th></th>\n",
       "      <th></th>\n",
       "      <th></th>\n",
       "      <th></th>\n",
       "    </tr>\n",
       "  </thead>\n",
       "  <tbody>\n",
       "    <tr>\n",
       "      <th>2.5</th>\n",
       "      <td>434.0</td>\n",
       "      <td>1047.0</td>\n",
       "      <td>708.0</td>\n",
       "      <td>875.0</td>\n",
       "      <td>693.0</td>\n",
       "      <td>3713.0</td>\n",
       "    </tr>\n",
       "    <tr>\n",
       "      <th>2.9</th>\n",
       "      <td>276.0</td>\n",
       "      <td>866.0</td>\n",
       "      <td>505.0</td>\n",
       "      <td>634.0</td>\n",
       "      <td>473.0</td>\n",
       "      <td>2839.0</td>\n",
       "    </tr>\n",
       "    <tr>\n",
       "      <th>3.0</th>\n",
       "      <td>NaN</td>\n",
       "      <td>13.0</td>\n",
       "      <td>17.0</td>\n",
       "      <td>18.0</td>\n",
       "      <td>NaN</td>\n",
       "      <td>63.0</td>\n",
       "    </tr>\n",
       "    <tr>\n",
       "      <th>3.1</th>\n",
       "      <td>NaN</td>\n",
       "      <td>NaN</td>\n",
       "      <td>NaN</td>\n",
       "      <td>4.0</td>\n",
       "      <td>NaN</td>\n",
       "      <td>21.0</td>\n",
       "    </tr>\n",
       "    <tr>\n",
       "      <th>3.3</th>\n",
       "      <td>508.0</td>\n",
       "      <td>1181.0</td>\n",
       "      <td>672.0</td>\n",
       "      <td>954.0</td>\n",
       "      <td>992.0</td>\n",
       "      <td>5171.0</td>\n",
       "    </tr>\n",
       "    <tr>\n",
       "      <th>3.5</th>\n",
       "      <td>18.0</td>\n",
       "      <td>28.0</td>\n",
       "      <td>37.0</td>\n",
       "      <td>28.0</td>\n",
       "      <td>19.0</td>\n",
       "      <td>152.0</td>\n",
       "    </tr>\n",
       "    <tr>\n",
       "      <th>3.8</th>\n",
       "      <td>758.0</td>\n",
       "      <td>1803.0</td>\n",
       "      <td>1012.0</td>\n",
       "      <td>1367.0</td>\n",
       "      <td>1221.0</td>\n",
       "      <td>7619.0</td>\n",
       "    </tr>\n",
       "    <tr>\n",
       "      <th>4.0</th>\n",
       "      <td>12.0</td>\n",
       "      <td>37.0</td>\n",
       "      <td>13.0</td>\n",
       "      <td>17.0</td>\n",
       "      <td>5.0</td>\n",
       "      <td>212.0</td>\n",
       "    </tr>\n",
       "    <tr>\n",
       "      <th>4.2</th>\n",
       "      <td>1048.0</td>\n",
       "      <td>2144.0</td>\n",
       "      <td>1182.0</td>\n",
       "      <td>1817.0</td>\n",
       "      <td>1677.0</td>\n",
       "      <td>9596.0</td>\n",
       "    </tr>\n",
       "    <tr>\n",
       "      <th>4.4</th>\n",
       "      <td>4.0</td>\n",
       "      <td>4.0</td>\n",
       "      <td>NaN</td>\n",
       "      <td>NaN</td>\n",
       "      <td>13.0</td>\n",
       "      <td>16.0</td>\n",
       "    </tr>\n",
       "    <tr>\n",
       "      <th>4.5</th>\n",
       "      <td>36.0</td>\n",
       "      <td>60.0</td>\n",
       "      <td>13.0</td>\n",
       "      <td>25.0</td>\n",
       "      <td>42.0</td>\n",
       "      <td>264.0</td>\n",
       "    </tr>\n",
       "    <tr>\n",
       "      <th>4.6</th>\n",
       "      <td>1086.0</td>\n",
       "      <td>2507.0</td>\n",
       "      <td>1506.0</td>\n",
       "      <td>2194.0</td>\n",
       "      <td>1929.0</td>\n",
       "      <td>12159.0</td>\n",
       "    </tr>\n",
       "    <tr>\n",
       "      <th>5.0</th>\n",
       "      <td>1666.0</td>\n",
       "      <td>3059.0</td>\n",
       "      <td>2056.0</td>\n",
       "      <td>2807.0</td>\n",
       "      <td>2824.0</td>\n",
       "      <td>16347.0</td>\n",
       "    </tr>\n",
       "    <tr>\n",
       "      <th>5.4</th>\n",
       "      <td>1636.0</td>\n",
       "      <td>3487.0</td>\n",
       "      <td>2492.0</td>\n",
       "      <td>3349.0</td>\n",
       "      <td>3151.0</td>\n",
       "      <td>18257.0</td>\n",
       "    </tr>\n",
       "    <tr>\n",
       "      <th>5.5</th>\n",
       "      <td>59.0</td>\n",
       "      <td>70.0</td>\n",
       "      <td>50.0</td>\n",
       "      <td>77.0</td>\n",
       "      <td>66.0</td>\n",
       "      <td>412.0</td>\n",
       "    </tr>\n",
       "    <tr>\n",
       "      <th>5.6</th>\n",
       "      <td>5.0</td>\n",
       "      <td>10.0</td>\n",
       "      <td>8.0</td>\n",
       "      <td>NaN</td>\n",
       "      <td>8.0</td>\n",
       "      <td>28.0</td>\n",
       "    </tr>\n",
       "    <tr>\n",
       "      <th>5.8</th>\n",
       "      <td>2501.0</td>\n",
       "      <td>4476.0</td>\n",
       "      <td>2777.0</td>\n",
       "      <td>4436.0</td>\n",
       "      <td>4065.0</td>\n",
       "      <td>22616.0</td>\n",
       "    </tr>\n",
       "    <tr>\n",
       "      <th>6.0</th>\n",
       "      <td>70.0</td>\n",
       "      <td>75.0</td>\n",
       "      <td>58.0</td>\n",
       "      <td>62.0</td>\n",
       "      <td>91.0</td>\n",
       "      <td>485.0</td>\n",
       "    </tr>\n",
       "    <tr>\n",
       "      <th>6.3</th>\n",
       "      <td>3153.0</td>\n",
       "      <td>5663.0</td>\n",
       "      <td>3448.0</td>\n",
       "      <td>5354.0</td>\n",
       "      <td>5254.0</td>\n",
       "      <td>28397.0</td>\n",
       "    </tr>\n",
       "    <tr>\n",
       "      <th>6.5</th>\n",
       "      <td>55.0</td>\n",
       "      <td>104.0</td>\n",
       "      <td>101.0</td>\n",
       "      <td>160.0</td>\n",
       "      <td>139.0</td>\n",
       "      <td>683.0</td>\n",
       "    </tr>\n",
       "    <tr>\n",
       "      <th>6.7</th>\n",
       "      <td>4101.0</td>\n",
       "      <td>6857.0</td>\n",
       "      <td>4686.0</td>\n",
       "      <td>6909.0</td>\n",
       "      <td>6413.0</td>\n",
       "      <td>35460.0</td>\n",
       "    </tr>\n",
       "    <tr>\n",
       "      <th>6.9</th>\n",
       "      <td>NaN</td>\n",
       "      <td>14.0</td>\n",
       "      <td>5.0</td>\n",
       "      <td>8.0</td>\n",
       "      <td>4.0</td>\n",
       "      <td>74.0</td>\n",
       "    </tr>\n",
       "    <tr>\n",
       "      <th>7.0</th>\n",
       "      <td>40.0</td>\n",
       "      <td>179.0</td>\n",
       "      <td>99.0</td>\n",
       "      <td>173.0</td>\n",
       "      <td>73.0</td>\n",
       "      <td>769.0</td>\n",
       "    </tr>\n",
       "    <tr>\n",
       "      <th>7.1</th>\n",
       "      <td>5682.0</td>\n",
       "      <td>8853.0</td>\n",
       "      <td>6126.0</td>\n",
       "      <td>9034.0</td>\n",
       "      <td>8598.0</td>\n",
       "      <td>45977.0</td>\n",
       "    </tr>\n",
       "    <tr>\n",
       "      <th>7.5</th>\n",
       "      <td>7910.0</td>\n",
       "      <td>13085.0</td>\n",
       "      <td>8728.0</td>\n",
       "      <td>12185.0</td>\n",
       "      <td>12553.0</td>\n",
       "      <td>64474.0</td>\n",
       "    </tr>\n",
       "    <tr>\n",
       "      <th>7.9</th>\n",
       "      <td>8467.0</td>\n",
       "      <td>12999.0</td>\n",
       "      <td>8204.0</td>\n",
       "      <td>11950.0</td>\n",
       "      <td>12863.0</td>\n",
       "      <td>58602.0</td>\n",
       "    </tr>\n",
       "    <tr>\n",
       "      <th>8.0</th>\n",
       "      <td>124.0</td>\n",
       "      <td>168.0</td>\n",
       "      <td>90.0</td>\n",
       "      <td>158.0</td>\n",
       "      <td>210.0</td>\n",
       "      <td>988.0</td>\n",
       "    </tr>\n",
       "    <tr>\n",
       "      <th>8.1</th>\n",
       "      <td>4.0</td>\n",
       "      <td>10.0</td>\n",
       "      <td>NaN</td>\n",
       "      <td>17.0</td>\n",
       "      <td>8.0</td>\n",
       "      <td>88.0</td>\n",
       "    </tr>\n",
       "    <tr>\n",
       "      <th>8.3</th>\n",
       "      <td>11632.0</td>\n",
       "      <td>16345.0</td>\n",
       "      <td>11035.0</td>\n",
       "      <td>15634.0</td>\n",
       "      <td>16265.0</td>\n",
       "      <td>68891.0</td>\n",
       "    </tr>\n",
       "    <tr>\n",
       "      <th>8.5</th>\n",
       "      <td>118.0</td>\n",
       "      <td>202.0</td>\n",
       "      <td>143.0</td>\n",
       "      <td>175.0</td>\n",
       "      <td>157.0</td>\n",
       "      <td>934.0</td>\n",
       "    </tr>\n",
       "    <tr>\n",
       "      <th>8.8</th>\n",
       "      <td>13622.0</td>\n",
       "      <td>18955.0</td>\n",
       "      <td>12090.0</td>\n",
       "      <td>19036.0</td>\n",
       "      <td>18771.0</td>\n",
       "      <td>75368.0</td>\n",
       "    </tr>\n",
       "    <tr>\n",
       "      <th>9.0</th>\n",
       "      <td>163.0</td>\n",
       "      <td>235.0</td>\n",
       "      <td>150.0</td>\n",
       "      <td>230.0</td>\n",
       "      <td>281.0</td>\n",
       "      <td>1135.0</td>\n",
       "    </tr>\n",
       "    <tr>\n",
       "      <th>9.2</th>\n",
       "      <td>16154.0</td>\n",
       "      <td>23736.0</td>\n",
       "      <td>14939.0</td>\n",
       "      <td>24137.0</td>\n",
       "      <td>25034.0</td>\n",
       "      <td>96638.0</td>\n",
       "    </tr>\n",
       "    <tr>\n",
       "      <th>9.4</th>\n",
       "      <td>19.0</td>\n",
       "      <td>18.0</td>\n",
       "      <td>20.0</td>\n",
       "      <td>24.0</td>\n",
       "      <td>48.0</td>\n",
       "      <td>91.0</td>\n",
       "    </tr>\n",
       "    <tr>\n",
       "      <th>9.5</th>\n",
       "      <td>169.0</td>\n",
       "      <td>214.0</td>\n",
       "      <td>202.0</td>\n",
       "      <td>250.0</td>\n",
       "      <td>298.0</td>\n",
       "      <td>1242.0</td>\n",
       "    </tr>\n",
       "    <tr>\n",
       "      <th>9.6</th>\n",
       "      <td>18799.0</td>\n",
       "      <td>28195.0</td>\n",
       "      <td>16756.0</td>\n",
       "      <td>29161.0</td>\n",
       "      <td>30538.0</td>\n",
       "      <td>121521.0</td>\n",
       "    </tr>\n",
       "    <tr>\n",
       "      <th>10.0</th>\n",
       "      <td>30447.0</td>\n",
       "      <td>47876.0</td>\n",
       "      <td>26430.0</td>\n",
       "      <td>43886.0</td>\n",
       "      <td>51939.0</td>\n",
       "      <td>200651.0</td>\n",
       "    </tr>\n",
       "  </tbody>\n",
       "</table>\n",
       "</div>"
      ],
      "text/plain": [
       "hotel_country   Austria   France    Italy  Netherlands    Spain  \\\n",
       "reviewer_score                                                    \n",
       "2.5               434.0   1047.0    708.0        875.0    693.0   \n",
       "2.9               276.0    866.0    505.0        634.0    473.0   \n",
       "3.0                 NaN     13.0     17.0         18.0      NaN   \n",
       "3.1                 NaN      NaN      NaN          4.0      NaN   \n",
       "3.3               508.0   1181.0    672.0        954.0    992.0   \n",
       "3.5                18.0     28.0     37.0         28.0     19.0   \n",
       "3.8               758.0   1803.0   1012.0       1367.0   1221.0   \n",
       "4.0                12.0     37.0     13.0         17.0      5.0   \n",
       "4.2              1048.0   2144.0   1182.0       1817.0   1677.0   \n",
       "4.4                 4.0      4.0      NaN          NaN     13.0   \n",
       "4.5                36.0     60.0     13.0         25.0     42.0   \n",
       "4.6              1086.0   2507.0   1506.0       2194.0   1929.0   \n",
       "5.0              1666.0   3059.0   2056.0       2807.0   2824.0   \n",
       "5.4              1636.0   3487.0   2492.0       3349.0   3151.0   \n",
       "5.5                59.0     70.0     50.0         77.0     66.0   \n",
       "5.6                 5.0     10.0      8.0          NaN      8.0   \n",
       "5.8              2501.0   4476.0   2777.0       4436.0   4065.0   \n",
       "6.0                70.0     75.0     58.0         62.0     91.0   \n",
       "6.3              3153.0   5663.0   3448.0       5354.0   5254.0   \n",
       "6.5                55.0    104.0    101.0        160.0    139.0   \n",
       "6.7              4101.0   6857.0   4686.0       6909.0   6413.0   \n",
       "6.9                 NaN     14.0      5.0          8.0      4.0   \n",
       "7.0                40.0    179.0     99.0        173.0     73.0   \n",
       "7.1              5682.0   8853.0   6126.0       9034.0   8598.0   \n",
       "7.5              7910.0  13085.0   8728.0      12185.0  12553.0   \n",
       "7.9              8467.0  12999.0   8204.0      11950.0  12863.0   \n",
       "8.0               124.0    168.0     90.0        158.0    210.0   \n",
       "8.1                 4.0     10.0      NaN         17.0      8.0   \n",
       "8.3             11632.0  16345.0  11035.0      15634.0  16265.0   \n",
       "8.5               118.0    202.0    143.0        175.0    157.0   \n",
       "8.8             13622.0  18955.0  12090.0      19036.0  18771.0   \n",
       "9.0               163.0    235.0    150.0        230.0    281.0   \n",
       "9.2             16154.0  23736.0  14939.0      24137.0  25034.0   \n",
       "9.4                19.0     18.0     20.0         24.0     48.0   \n",
       "9.5               169.0    214.0    202.0        250.0    298.0   \n",
       "9.6             18799.0  28195.0  16756.0      29161.0  30538.0   \n",
       "10.0            30447.0  47876.0  26430.0      43886.0  51939.0   \n",
       "\n",
       "hotel_country   United Kingdom  \n",
       "reviewer_score                  \n",
       "2.5                     3713.0  \n",
       "2.9                     2839.0  \n",
       "3.0                       63.0  \n",
       "3.1                       21.0  \n",
       "3.3                     5171.0  \n",
       "3.5                      152.0  \n",
       "3.8                     7619.0  \n",
       "4.0                      212.0  \n",
       "4.2                     9596.0  \n",
       "4.4                       16.0  \n",
       "4.5                      264.0  \n",
       "4.6                    12159.0  \n",
       "5.0                    16347.0  \n",
       "5.4                    18257.0  \n",
       "5.5                      412.0  \n",
       "5.6                       28.0  \n",
       "5.8                    22616.0  \n",
       "6.0                      485.0  \n",
       "6.3                    28397.0  \n",
       "6.5                      683.0  \n",
       "6.7                    35460.0  \n",
       "6.9                       74.0  \n",
       "7.0                      769.0  \n",
       "7.1                    45977.0  \n",
       "7.5                    64474.0  \n",
       "7.9                    58602.0  \n",
       "8.0                      988.0  \n",
       "8.1                       88.0  \n",
       "8.3                    68891.0  \n",
       "8.5                      934.0  \n",
       "8.8                    75368.0  \n",
       "9.0                     1135.0  \n",
       "9.2                    96638.0  \n",
       "9.4                       91.0  \n",
       "9.5                     1242.0  \n",
       "9.6                   121521.0  \n",
       "10.0                  200651.0  "
      ]
     },
     "metadata": {},
     "output_type": "display_data"
    }
   ],
   "source": [
    "#расмотрим связь количества тегов и оценку\n",
    "df = df_train.pivot_table('tags_n', index='reviewer_score', columns='hotel_country', aggfunc='count')\n",
    "display(df)"
   ]
  },
  {
   "cell_type": "code",
   "execution_count": 133,
   "metadata": {},
   "outputs": [
    {
     "data": {
      "application/vnd.plotly.v1+json": {
       "config": {
        "plotlyServerURL": "https://plot.ly"
       },
       "data": [
        {
         "hovertemplate": "hotel_country=Austria<br>reviewer_score=%{x}<br>value=%{y}<extra></extra>",
         "legendgroup": "Austria",
         "marker": {
          "color": "#636efa",
          "symbol": "circle"
         },
         "mode": "markers",
         "name": "Austria",
         "orientation": "v",
         "showlegend": true,
         "type": "scatter",
         "x": [
          2.5,
          2.9,
          3,
          3.1,
          3.3,
          3.5,
          3.8,
          4,
          4.2,
          4.4,
          4.5,
          4.6,
          5,
          5.4,
          5.5,
          5.6,
          5.8,
          6,
          6.3,
          6.5,
          6.7,
          6.9,
          7,
          7.1,
          7.5,
          7.9,
          8,
          8.1,
          8.3,
          8.5,
          8.8,
          9,
          9.2,
          9.4,
          9.5,
          9.6,
          10
         ],
         "xaxis": "x",
         "y": [
          434,
          276,
          null,
          null,
          508,
          18,
          758,
          12,
          1048,
          4,
          36,
          1086,
          1666,
          1636,
          59,
          5,
          2501,
          70,
          3153,
          55,
          4101,
          null,
          40,
          5682,
          7910,
          8467,
          124,
          4,
          11632,
          118,
          13622,
          163,
          16154,
          19,
          169,
          18799,
          30447
         ],
         "yaxis": "y"
        },
        {
         "hovertemplate": "hotel_country=France<br>reviewer_score=%{x}<br>value=%{y}<extra></extra>",
         "legendgroup": "France",
         "marker": {
          "color": "#EF553B",
          "symbol": "circle"
         },
         "mode": "markers",
         "name": "France",
         "orientation": "v",
         "showlegend": true,
         "type": "scatter",
         "x": [
          2.5,
          2.9,
          3,
          3.1,
          3.3,
          3.5,
          3.8,
          4,
          4.2,
          4.4,
          4.5,
          4.6,
          5,
          5.4,
          5.5,
          5.6,
          5.8,
          6,
          6.3,
          6.5,
          6.7,
          6.9,
          7,
          7.1,
          7.5,
          7.9,
          8,
          8.1,
          8.3,
          8.5,
          8.8,
          9,
          9.2,
          9.4,
          9.5,
          9.6,
          10
         ],
         "xaxis": "x",
         "y": [
          1047,
          866,
          13,
          null,
          1181,
          28,
          1803,
          37,
          2144,
          4,
          60,
          2507,
          3059,
          3487,
          70,
          10,
          4476,
          75,
          5663,
          104,
          6857,
          14,
          179,
          8853,
          13085,
          12999,
          168,
          10,
          16345,
          202,
          18955,
          235,
          23736,
          18,
          214,
          28195,
          47876
         ],
         "yaxis": "y"
        },
        {
         "hovertemplate": "hotel_country=Italy<br>reviewer_score=%{x}<br>value=%{y}<extra></extra>",
         "legendgroup": "Italy",
         "marker": {
          "color": "#00cc96",
          "symbol": "circle"
         },
         "mode": "markers",
         "name": "Italy",
         "orientation": "v",
         "showlegend": true,
         "type": "scatter",
         "x": [
          2.5,
          2.9,
          3,
          3.1,
          3.3,
          3.5,
          3.8,
          4,
          4.2,
          4.4,
          4.5,
          4.6,
          5,
          5.4,
          5.5,
          5.6,
          5.8,
          6,
          6.3,
          6.5,
          6.7,
          6.9,
          7,
          7.1,
          7.5,
          7.9,
          8,
          8.1,
          8.3,
          8.5,
          8.8,
          9,
          9.2,
          9.4,
          9.5,
          9.6,
          10
         ],
         "xaxis": "x",
         "y": [
          708,
          505,
          17,
          null,
          672,
          37,
          1012,
          13,
          1182,
          null,
          13,
          1506,
          2056,
          2492,
          50,
          8,
          2777,
          58,
          3448,
          101,
          4686,
          5,
          99,
          6126,
          8728,
          8204,
          90,
          null,
          11035,
          143,
          12090,
          150,
          14939,
          20,
          202,
          16756,
          26430
         ],
         "yaxis": "y"
        },
        {
         "hovertemplate": "hotel_country=Netherlands<br>reviewer_score=%{x}<br>value=%{y}<extra></extra>",
         "legendgroup": "Netherlands",
         "marker": {
          "color": "#ab63fa",
          "symbol": "circle"
         },
         "mode": "markers",
         "name": "Netherlands",
         "orientation": "v",
         "showlegend": true,
         "type": "scatter",
         "x": [
          2.5,
          2.9,
          3,
          3.1,
          3.3,
          3.5,
          3.8,
          4,
          4.2,
          4.4,
          4.5,
          4.6,
          5,
          5.4,
          5.5,
          5.6,
          5.8,
          6,
          6.3,
          6.5,
          6.7,
          6.9,
          7,
          7.1,
          7.5,
          7.9,
          8,
          8.1,
          8.3,
          8.5,
          8.8,
          9,
          9.2,
          9.4,
          9.5,
          9.6,
          10
         ],
         "xaxis": "x",
         "y": [
          875,
          634,
          18,
          4,
          954,
          28,
          1367,
          17,
          1817,
          null,
          25,
          2194,
          2807,
          3349,
          77,
          null,
          4436,
          62,
          5354,
          160,
          6909,
          8,
          173,
          9034,
          12185,
          11950,
          158,
          17,
          15634,
          175,
          19036,
          230,
          24137,
          24,
          250,
          29161,
          43886
         ],
         "yaxis": "y"
        },
        {
         "hovertemplate": "hotel_country=Spain<br>reviewer_score=%{x}<br>value=%{y}<extra></extra>",
         "legendgroup": "Spain",
         "marker": {
          "color": "#FFA15A",
          "symbol": "circle"
         },
         "mode": "markers",
         "name": "Spain",
         "orientation": "v",
         "showlegend": true,
         "type": "scatter",
         "x": [
          2.5,
          2.9,
          3,
          3.1,
          3.3,
          3.5,
          3.8,
          4,
          4.2,
          4.4,
          4.5,
          4.6,
          5,
          5.4,
          5.5,
          5.6,
          5.8,
          6,
          6.3,
          6.5,
          6.7,
          6.9,
          7,
          7.1,
          7.5,
          7.9,
          8,
          8.1,
          8.3,
          8.5,
          8.8,
          9,
          9.2,
          9.4,
          9.5,
          9.6,
          10
         ],
         "xaxis": "x",
         "y": [
          693,
          473,
          null,
          null,
          992,
          19,
          1221,
          5,
          1677,
          13,
          42,
          1929,
          2824,
          3151,
          66,
          8,
          4065,
          91,
          5254,
          139,
          6413,
          4,
          73,
          8598,
          12553,
          12863,
          210,
          8,
          16265,
          157,
          18771,
          281,
          25034,
          48,
          298,
          30538,
          51939
         ],
         "yaxis": "y"
        },
        {
         "hovertemplate": "hotel_country=United Kingdom<br>reviewer_score=%{x}<br>value=%{y}<extra></extra>",
         "legendgroup": "United Kingdom",
         "marker": {
          "color": "#19d3f3",
          "symbol": "circle"
         },
         "mode": "markers",
         "name": "United Kingdom",
         "orientation": "v",
         "showlegend": true,
         "type": "scatter",
         "x": [
          2.5,
          2.9,
          3,
          3.1,
          3.3,
          3.5,
          3.8,
          4,
          4.2,
          4.4,
          4.5,
          4.6,
          5,
          5.4,
          5.5,
          5.6,
          5.8,
          6,
          6.3,
          6.5,
          6.7,
          6.9,
          7,
          7.1,
          7.5,
          7.9,
          8,
          8.1,
          8.3,
          8.5,
          8.8,
          9,
          9.2,
          9.4,
          9.5,
          9.6,
          10
         ],
         "xaxis": "x",
         "y": [
          3713,
          2839,
          63,
          21,
          5171,
          152,
          7619,
          212,
          9596,
          16,
          264,
          12159,
          16347,
          18257,
          412,
          28,
          22616,
          485,
          28397,
          683,
          35460,
          74,
          769,
          45977,
          64474,
          58602,
          988,
          88,
          68891,
          934,
          75368,
          1135,
          96638,
          91,
          1242,
          121521,
          200651
         ],
         "yaxis": "y"
        }
       ],
       "layout": {
        "legend": {
         "title": {
          "text": "hotel_country"
         },
         "tracegroupgap": 0
        },
        "margin": {
         "t": 60
        },
        "template": {
         "data": {
          "bar": [
           {
            "error_x": {
             "color": "#2a3f5f"
            },
            "error_y": {
             "color": "#2a3f5f"
            },
            "marker": {
             "line": {
              "color": "#E5ECF6",
              "width": 0.5
             },
             "pattern": {
              "fillmode": "overlay",
              "size": 10,
              "solidity": 0.2
             }
            },
            "type": "bar"
           }
          ],
          "barpolar": [
           {
            "marker": {
             "line": {
              "color": "#E5ECF6",
              "width": 0.5
             },
             "pattern": {
              "fillmode": "overlay",
              "size": 10,
              "solidity": 0.2
             }
            },
            "type": "barpolar"
           }
          ],
          "carpet": [
           {
            "aaxis": {
             "endlinecolor": "#2a3f5f",
             "gridcolor": "white",
             "linecolor": "white",
             "minorgridcolor": "white",
             "startlinecolor": "#2a3f5f"
            },
            "baxis": {
             "endlinecolor": "#2a3f5f",
             "gridcolor": "white",
             "linecolor": "white",
             "minorgridcolor": "white",
             "startlinecolor": "#2a3f5f"
            },
            "type": "carpet"
           }
          ],
          "choropleth": [
           {
            "colorbar": {
             "outlinewidth": 0,
             "ticks": ""
            },
            "type": "choropleth"
           }
          ],
          "contour": [
           {
            "colorbar": {
             "outlinewidth": 0,
             "ticks": ""
            },
            "colorscale": [
             [
              0,
              "#0d0887"
             ],
             [
              0.1111111111111111,
              "#46039f"
             ],
             [
              0.2222222222222222,
              "#7201a8"
             ],
             [
              0.3333333333333333,
              "#9c179e"
             ],
             [
              0.4444444444444444,
              "#bd3786"
             ],
             [
              0.5555555555555556,
              "#d8576b"
             ],
             [
              0.6666666666666666,
              "#ed7953"
             ],
             [
              0.7777777777777778,
              "#fb9f3a"
             ],
             [
              0.8888888888888888,
              "#fdca26"
             ],
             [
              1,
              "#f0f921"
             ]
            ],
            "type": "contour"
           }
          ],
          "contourcarpet": [
           {
            "colorbar": {
             "outlinewidth": 0,
             "ticks": ""
            },
            "type": "contourcarpet"
           }
          ],
          "heatmap": [
           {
            "colorbar": {
             "outlinewidth": 0,
             "ticks": ""
            },
            "colorscale": [
             [
              0,
              "#0d0887"
             ],
             [
              0.1111111111111111,
              "#46039f"
             ],
             [
              0.2222222222222222,
              "#7201a8"
             ],
             [
              0.3333333333333333,
              "#9c179e"
             ],
             [
              0.4444444444444444,
              "#bd3786"
             ],
             [
              0.5555555555555556,
              "#d8576b"
             ],
             [
              0.6666666666666666,
              "#ed7953"
             ],
             [
              0.7777777777777778,
              "#fb9f3a"
             ],
             [
              0.8888888888888888,
              "#fdca26"
             ],
             [
              1,
              "#f0f921"
             ]
            ],
            "type": "heatmap"
           }
          ],
          "heatmapgl": [
           {
            "colorbar": {
             "outlinewidth": 0,
             "ticks": ""
            },
            "colorscale": [
             [
              0,
              "#0d0887"
             ],
             [
              0.1111111111111111,
              "#46039f"
             ],
             [
              0.2222222222222222,
              "#7201a8"
             ],
             [
              0.3333333333333333,
              "#9c179e"
             ],
             [
              0.4444444444444444,
              "#bd3786"
             ],
             [
              0.5555555555555556,
              "#d8576b"
             ],
             [
              0.6666666666666666,
              "#ed7953"
             ],
             [
              0.7777777777777778,
              "#fb9f3a"
             ],
             [
              0.8888888888888888,
              "#fdca26"
             ],
             [
              1,
              "#f0f921"
             ]
            ],
            "type": "heatmapgl"
           }
          ],
          "histogram": [
           {
            "marker": {
             "pattern": {
              "fillmode": "overlay",
              "size": 10,
              "solidity": 0.2
             }
            },
            "type": "histogram"
           }
          ],
          "histogram2d": [
           {
            "colorbar": {
             "outlinewidth": 0,
             "ticks": ""
            },
            "colorscale": [
             [
              0,
              "#0d0887"
             ],
             [
              0.1111111111111111,
              "#46039f"
             ],
             [
              0.2222222222222222,
              "#7201a8"
             ],
             [
              0.3333333333333333,
              "#9c179e"
             ],
             [
              0.4444444444444444,
              "#bd3786"
             ],
             [
              0.5555555555555556,
              "#d8576b"
             ],
             [
              0.6666666666666666,
              "#ed7953"
             ],
             [
              0.7777777777777778,
              "#fb9f3a"
             ],
             [
              0.8888888888888888,
              "#fdca26"
             ],
             [
              1,
              "#f0f921"
             ]
            ],
            "type": "histogram2d"
           }
          ],
          "histogram2dcontour": [
           {
            "colorbar": {
             "outlinewidth": 0,
             "ticks": ""
            },
            "colorscale": [
             [
              0,
              "#0d0887"
             ],
             [
              0.1111111111111111,
              "#46039f"
             ],
             [
              0.2222222222222222,
              "#7201a8"
             ],
             [
              0.3333333333333333,
              "#9c179e"
             ],
             [
              0.4444444444444444,
              "#bd3786"
             ],
             [
              0.5555555555555556,
              "#d8576b"
             ],
             [
              0.6666666666666666,
              "#ed7953"
             ],
             [
              0.7777777777777778,
              "#fb9f3a"
             ],
             [
              0.8888888888888888,
              "#fdca26"
             ],
             [
              1,
              "#f0f921"
             ]
            ],
            "type": "histogram2dcontour"
           }
          ],
          "mesh3d": [
           {
            "colorbar": {
             "outlinewidth": 0,
             "ticks": ""
            },
            "type": "mesh3d"
           }
          ],
          "parcoords": [
           {
            "line": {
             "colorbar": {
              "outlinewidth": 0,
              "ticks": ""
             }
            },
            "type": "parcoords"
           }
          ],
          "pie": [
           {
            "automargin": true,
            "type": "pie"
           }
          ],
          "scatter": [
           {
            "marker": {
             "colorbar": {
              "outlinewidth": 0,
              "ticks": ""
             }
            },
            "type": "scatter"
           }
          ],
          "scatter3d": [
           {
            "line": {
             "colorbar": {
              "outlinewidth": 0,
              "ticks": ""
             }
            },
            "marker": {
             "colorbar": {
              "outlinewidth": 0,
              "ticks": ""
             }
            },
            "type": "scatter3d"
           }
          ],
          "scattercarpet": [
           {
            "marker": {
             "colorbar": {
              "outlinewidth": 0,
              "ticks": ""
             }
            },
            "type": "scattercarpet"
           }
          ],
          "scattergeo": [
           {
            "marker": {
             "colorbar": {
              "outlinewidth": 0,
              "ticks": ""
             }
            },
            "type": "scattergeo"
           }
          ],
          "scattergl": [
           {
            "marker": {
             "colorbar": {
              "outlinewidth": 0,
              "ticks": ""
             }
            },
            "type": "scattergl"
           }
          ],
          "scattermapbox": [
           {
            "marker": {
             "colorbar": {
              "outlinewidth": 0,
              "ticks": ""
             }
            },
            "type": "scattermapbox"
           }
          ],
          "scatterpolar": [
           {
            "marker": {
             "colorbar": {
              "outlinewidth": 0,
              "ticks": ""
             }
            },
            "type": "scatterpolar"
           }
          ],
          "scatterpolargl": [
           {
            "marker": {
             "colorbar": {
              "outlinewidth": 0,
              "ticks": ""
             }
            },
            "type": "scatterpolargl"
           }
          ],
          "scatterternary": [
           {
            "marker": {
             "colorbar": {
              "outlinewidth": 0,
              "ticks": ""
             }
            },
            "type": "scatterternary"
           }
          ],
          "surface": [
           {
            "colorbar": {
             "outlinewidth": 0,
             "ticks": ""
            },
            "colorscale": [
             [
              0,
              "#0d0887"
             ],
             [
              0.1111111111111111,
              "#46039f"
             ],
             [
              0.2222222222222222,
              "#7201a8"
             ],
             [
              0.3333333333333333,
              "#9c179e"
             ],
             [
              0.4444444444444444,
              "#bd3786"
             ],
             [
              0.5555555555555556,
              "#d8576b"
             ],
             [
              0.6666666666666666,
              "#ed7953"
             ],
             [
              0.7777777777777778,
              "#fb9f3a"
             ],
             [
              0.8888888888888888,
              "#fdca26"
             ],
             [
              1,
              "#f0f921"
             ]
            ],
            "type": "surface"
           }
          ],
          "table": [
           {
            "cells": {
             "fill": {
              "color": "#EBF0F8"
             },
             "line": {
              "color": "white"
             }
            },
            "header": {
             "fill": {
              "color": "#C8D4E3"
             },
             "line": {
              "color": "white"
             }
            },
            "type": "table"
           }
          ]
         },
         "layout": {
          "annotationdefaults": {
           "arrowcolor": "#2a3f5f",
           "arrowhead": 0,
           "arrowwidth": 1
          },
          "autotypenumbers": "strict",
          "coloraxis": {
           "colorbar": {
            "outlinewidth": 0,
            "ticks": ""
           }
          },
          "colorscale": {
           "diverging": [
            [
             0,
             "#8e0152"
            ],
            [
             0.1,
             "#c51b7d"
            ],
            [
             0.2,
             "#de77ae"
            ],
            [
             0.3,
             "#f1b6da"
            ],
            [
             0.4,
             "#fde0ef"
            ],
            [
             0.5,
             "#f7f7f7"
            ],
            [
             0.6,
             "#e6f5d0"
            ],
            [
             0.7,
             "#b8e186"
            ],
            [
             0.8,
             "#7fbc41"
            ],
            [
             0.9,
             "#4d9221"
            ],
            [
             1,
             "#276419"
            ]
           ],
           "sequential": [
            [
             0,
             "#0d0887"
            ],
            [
             0.1111111111111111,
             "#46039f"
            ],
            [
             0.2222222222222222,
             "#7201a8"
            ],
            [
             0.3333333333333333,
             "#9c179e"
            ],
            [
             0.4444444444444444,
             "#bd3786"
            ],
            [
             0.5555555555555556,
             "#d8576b"
            ],
            [
             0.6666666666666666,
             "#ed7953"
            ],
            [
             0.7777777777777778,
             "#fb9f3a"
            ],
            [
             0.8888888888888888,
             "#fdca26"
            ],
            [
             1,
             "#f0f921"
            ]
           ],
           "sequentialminus": [
            [
             0,
             "#0d0887"
            ],
            [
             0.1111111111111111,
             "#46039f"
            ],
            [
             0.2222222222222222,
             "#7201a8"
            ],
            [
             0.3333333333333333,
             "#9c179e"
            ],
            [
             0.4444444444444444,
             "#bd3786"
            ],
            [
             0.5555555555555556,
             "#d8576b"
            ],
            [
             0.6666666666666666,
             "#ed7953"
            ],
            [
             0.7777777777777778,
             "#fb9f3a"
            ],
            [
             0.8888888888888888,
             "#fdca26"
            ],
            [
             1,
             "#f0f921"
            ]
           ]
          },
          "colorway": [
           "#636efa",
           "#EF553B",
           "#00cc96",
           "#ab63fa",
           "#FFA15A",
           "#19d3f3",
           "#FF6692",
           "#B6E880",
           "#FF97FF",
           "#FECB52"
          ],
          "font": {
           "color": "#2a3f5f"
          },
          "geo": {
           "bgcolor": "white",
           "lakecolor": "white",
           "landcolor": "#E5ECF6",
           "showlakes": true,
           "showland": true,
           "subunitcolor": "white"
          },
          "hoverlabel": {
           "align": "left"
          },
          "hovermode": "closest",
          "mapbox": {
           "style": "light"
          },
          "paper_bgcolor": "white",
          "plot_bgcolor": "#E5ECF6",
          "polar": {
           "angularaxis": {
            "gridcolor": "white",
            "linecolor": "white",
            "ticks": ""
           },
           "bgcolor": "#E5ECF6",
           "radialaxis": {
            "gridcolor": "white",
            "linecolor": "white",
            "ticks": ""
           }
          },
          "scene": {
           "xaxis": {
            "backgroundcolor": "#E5ECF6",
            "gridcolor": "white",
            "gridwidth": 2,
            "linecolor": "white",
            "showbackground": true,
            "ticks": "",
            "zerolinecolor": "white"
           },
           "yaxis": {
            "backgroundcolor": "#E5ECF6",
            "gridcolor": "white",
            "gridwidth": 2,
            "linecolor": "white",
            "showbackground": true,
            "ticks": "",
            "zerolinecolor": "white"
           },
           "zaxis": {
            "backgroundcolor": "#E5ECF6",
            "gridcolor": "white",
            "gridwidth": 2,
            "linecolor": "white",
            "showbackground": true,
            "ticks": "",
            "zerolinecolor": "white"
           }
          },
          "shapedefaults": {
           "line": {
            "color": "#2a3f5f"
           }
          },
          "ternary": {
           "aaxis": {
            "gridcolor": "white",
            "linecolor": "white",
            "ticks": ""
           },
           "baxis": {
            "gridcolor": "white",
            "linecolor": "white",
            "ticks": ""
           },
           "bgcolor": "#E5ECF6",
           "caxis": {
            "gridcolor": "white",
            "linecolor": "white",
            "ticks": ""
           }
          },
          "title": {
           "x": 0.05
          },
          "xaxis": {
           "automargin": true,
           "gridcolor": "white",
           "linecolor": "white",
           "ticks": "",
           "title": {
            "standoff": 15
           },
           "zerolinecolor": "white",
           "zerolinewidth": 2
          },
          "yaxis": {
           "automargin": true,
           "gridcolor": "white",
           "linecolor": "white",
           "ticks": "",
           "title": {
            "standoff": 15
           },
           "zerolinecolor": "white",
           "zerolinewidth": 2
          }
         }
        },
        "xaxis": {
         "anchor": "y",
         "domain": [
          0,
          1
         ],
         "title": {
          "text": "reviewer_score"
         },
         "type": "log"
        },
        "yaxis": {
         "anchor": "x",
         "domain": [
          0,
          1
         ],
         "title": {
          "text": "value"
         }
        }
       }
      }
     },
     "metadata": {},
     "output_type": "display_data"
    }
   ],
   "source": [
    "#визуализируем полученную матрицу\n",
    "px.scatter(df, log_x=True, size_max=60)\n"
   ]
  },
  {
   "cell_type": "markdown",
   "metadata": {},
   "source": [
    "#### Можно заметить, что с увеличением оценки увеличивается и количество тегов.\n",
    "Это стоит учесть при прогнозировании оценки отелей"
   ]
  },
  {
   "cell_type": "code",
   "execution_count": 207,
   "metadata": {},
   "outputs": [],
   "source": [
    "df_train = pd.read_csv('data/hotels_train.csv') "
   ]
  },
  {
   "cell_type": "code",
   "execution_count": 208,
   "metadata": {},
   "outputs": [],
   "source": [
    "#создадим колонку с количеством тегов\n",
    "def word_count(string):\n",
    "\n",
    "    return(len(string.strip().split(\" \")))\n",
    "\n",
    "df_train['tags_c'] = df_train['tags'].apply(word_count)"
   ]
  },
  {
   "cell_type": "code",
   "execution_count": null,
   "metadata": {},
   "outputs": [],
   "source": [
    "df_train['tags_c'].describe()"
   ]
  },
  {
   "cell_type": "markdown",
   "metadata": {},
   "source": [
    "Можно сказать, что значения (количество тегов) меньше 18 являются выбросами"
   ]
  },
  {
   "cell_type": "code",
   "execution_count": null,
   "metadata": {},
   "outputs": [],
   "source": [
    "df_train.loc[(df_train['tags_c'] <= 18), 'tags_c'] = df_train['tags_c'].mean()\n",
    "df_train['tags_c'].describe()"
   ]
  },
  {
   "cell_type": "code",
   "execution_count": 212,
   "metadata": {},
   "outputs": [
    {
     "data": {
      "text/html": [
       "<div>\n",
       "<style scoped>\n",
       "    .dataframe tbody tr th:only-of-type {\n",
       "        vertical-align: middle;\n",
       "    }\n",
       "\n",
       "    .dataframe tbody tr th {\n",
       "        vertical-align: top;\n",
       "    }\n",
       "\n",
       "    .dataframe thead th {\n",
       "        text-align: right;\n",
       "    }\n",
       "</style>\n",
       "<table border=\"1\" class=\"dataframe\">\n",
       "  <thead>\n",
       "    <tr style=\"text-align: right;\">\n",
       "      <th></th>\n",
       "      <th>hotel_address</th>\n",
       "      <th>additional_number_of_scoring</th>\n",
       "      <th>review_date</th>\n",
       "      <th>average_score</th>\n",
       "      <th>hotel_name</th>\n",
       "      <th>reviewer_nationality</th>\n",
       "      <th>negative_review</th>\n",
       "      <th>review_total_negative_word_counts</th>\n",
       "      <th>total_number_of_reviews</th>\n",
       "      <th>positive_review</th>\n",
       "      <th>review_total_positive_word_counts</th>\n",
       "      <th>total_number_of_reviews_reviewer_has_given</th>\n",
       "      <th>reviewer_score</th>\n",
       "      <th>tags</th>\n",
       "      <th>days_since_review</th>\n",
       "      <th>lat</th>\n",
       "      <th>lng</th>\n",
       "      <th>tags_c</th>\n",
       "    </tr>\n",
       "  </thead>\n",
       "  <tbody>\n",
       "    <tr>\n",
       "      <th>0</th>\n",
       "      <td>Stratton Street Mayfair Westminster Borough Lo...</td>\n",
       "      <td>581</td>\n",
       "      <td>2/19/2016</td>\n",
       "      <td>8.4</td>\n",
       "      <td>The May Fair Hotel</td>\n",
       "      <td>United Kingdom</td>\n",
       "      <td>Leaving</td>\n",
       "      <td>3</td>\n",
       "      <td>1994</td>\n",
       "      <td>Staff were amazing</td>\n",
       "      <td>4</td>\n",
       "      <td>7</td>\n",
       "      <td>10.0</td>\n",
       "      <td>[' Leisure trip ', ' Couple ', ' Studio Suite ...</td>\n",
       "      <td>531 day</td>\n",
       "      <td>51.507894</td>\n",
       "      <td>-0.143671</td>\n",
       "      <td>23.000000</td>\n",
       "    </tr>\n",
       "    <tr>\n",
       "      <th>1</th>\n",
       "      <td>130 134 Southampton Row Camden London WC1B 5AF...</td>\n",
       "      <td>299</td>\n",
       "      <td>1/12/2017</td>\n",
       "      <td>8.3</td>\n",
       "      <td>Mercure London Bloomsbury Hotel</td>\n",
       "      <td>United Kingdom</td>\n",
       "      <td>poor breakfast</td>\n",
       "      <td>3</td>\n",
       "      <td>1361</td>\n",
       "      <td>location</td>\n",
       "      <td>2</td>\n",
       "      <td>14</td>\n",
       "      <td>6.3</td>\n",
       "      <td>[' Business trip ', ' Couple ', ' Standard Dou...</td>\n",
       "      <td>203 day</td>\n",
       "      <td>51.521009</td>\n",
       "      <td>-0.123097</td>\n",
       "      <td>22.252317</td>\n",
       "    </tr>\n",
       "    <tr>\n",
       "      <th>2</th>\n",
       "      <td>151 bis Rue de Rennes 6th arr 75006 Paris France</td>\n",
       "      <td>32</td>\n",
       "      <td>10/18/2016</td>\n",
       "      <td>8.9</td>\n",
       "      <td>Legend Saint Germain by Elegancia</td>\n",
       "      <td>China</td>\n",
       "      <td>No kettle in room</td>\n",
       "      <td>6</td>\n",
       "      <td>406</td>\n",
       "      <td>No Positive</td>\n",
       "      <td>0</td>\n",
       "      <td>14</td>\n",
       "      <td>7.5</td>\n",
       "      <td>[' Leisure trip ', ' Solo traveler ', ' Modern...</td>\n",
       "      <td>289 day</td>\n",
       "      <td>48.845377</td>\n",
       "      <td>2.325643</td>\n",
       "      <td>26.000000</td>\n",
       "    </tr>\n",
       "    <tr>\n",
       "      <th>3</th>\n",
       "      <td>216 Avenue Jean Jaures 19th arr 75019 Paris Fr...</td>\n",
       "      <td>34</td>\n",
       "      <td>9/22/2015</td>\n",
       "      <td>7.5</td>\n",
       "      <td>Mercure Paris 19 Philharmonie La Villette</td>\n",
       "      <td>United Kingdom</td>\n",
       "      <td>No Negative</td>\n",
       "      <td>0</td>\n",
       "      <td>607</td>\n",
       "      <td>Friendly staff quiet comfortable room spotles...</td>\n",
       "      <td>11</td>\n",
       "      <td>8</td>\n",
       "      <td>10.0</td>\n",
       "      <td>[' Leisure trip ', ' Solo traveler ', ' Standa...</td>\n",
       "      <td>681 day</td>\n",
       "      <td>48.888697</td>\n",
       "      <td>2.394540</td>\n",
       "      <td>21.000000</td>\n",
       "    </tr>\n",
       "    <tr>\n",
       "      <th>4</th>\n",
       "      <td>Molenwerf 1 1014 AG Amsterdam Netherlands</td>\n",
       "      <td>914</td>\n",
       "      <td>3/5/2016</td>\n",
       "      <td>8.5</td>\n",
       "      <td>Golden Tulip Amsterdam West</td>\n",
       "      <td>Poland</td>\n",
       "      <td>Torn sheets</td>\n",
       "      <td>4</td>\n",
       "      <td>7586</td>\n",
       "      <td>The staff was very friendly and helpful Break...</td>\n",
       "      <td>20</td>\n",
       "      <td>10</td>\n",
       "      <td>9.6</td>\n",
       "      <td>[' Business trip ', ' Couple ', ' Standard Dou...</td>\n",
       "      <td>516 day</td>\n",
       "      <td>52.385601</td>\n",
       "      <td>4.847060</td>\n",
       "      <td>19.000000</td>\n",
       "    </tr>\n",
       "  </tbody>\n",
       "</table>\n",
       "</div>"
      ],
      "text/plain": [
       "                                       hotel_address  \\\n",
       "0  Stratton Street Mayfair Westminster Borough Lo...   \n",
       "1  130 134 Southampton Row Camden London WC1B 5AF...   \n",
       "2   151 bis Rue de Rennes 6th arr 75006 Paris France   \n",
       "3  216 Avenue Jean Jaures 19th arr 75019 Paris Fr...   \n",
       "4          Molenwerf 1 1014 AG Amsterdam Netherlands   \n",
       "\n",
       "   additional_number_of_scoring review_date  average_score  \\\n",
       "0                           581   2/19/2016            8.4   \n",
       "1                           299   1/12/2017            8.3   \n",
       "2                            32  10/18/2016            8.9   \n",
       "3                            34   9/22/2015            7.5   \n",
       "4                           914    3/5/2016            8.5   \n",
       "\n",
       "                                  hotel_name reviewer_nationality  \\\n",
       "0                         The May Fair Hotel      United Kingdom    \n",
       "1            Mercure London Bloomsbury Hotel      United Kingdom    \n",
       "2          Legend Saint Germain by Elegancia               China    \n",
       "3  Mercure Paris 19 Philharmonie La Villette      United Kingdom    \n",
       "4                Golden Tulip Amsterdam West              Poland    \n",
       "\n",
       "       negative_review  review_total_negative_word_counts  \\\n",
       "0             Leaving                                   3   \n",
       "1       poor breakfast                                  3   \n",
       "2   No kettle in room                                   6   \n",
       "3          No Negative                                  0   \n",
       "4         Torn sheets                                   4   \n",
       "\n",
       "   total_number_of_reviews                                    positive_review  \\\n",
       "0                     1994                                 Staff were amazing   \n",
       "1                     1361                                           location   \n",
       "2                      406                                        No Positive   \n",
       "3                      607   Friendly staff quiet comfortable room spotles...   \n",
       "4                     7586   The staff was very friendly and helpful Break...   \n",
       "\n",
       "   review_total_positive_word_counts  \\\n",
       "0                                  4   \n",
       "1                                  2   \n",
       "2                                  0   \n",
       "3                                 11   \n",
       "4                                 20   \n",
       "\n",
       "   total_number_of_reviews_reviewer_has_given  reviewer_score  \\\n",
       "0                                           7            10.0   \n",
       "1                                          14             6.3   \n",
       "2                                          14             7.5   \n",
       "3                                           8            10.0   \n",
       "4                                          10             9.6   \n",
       "\n",
       "                                                tags days_since_review  \\\n",
       "0  [' Leisure trip ', ' Couple ', ' Studio Suite ...           531 day   \n",
       "1  [' Business trip ', ' Couple ', ' Standard Dou...           203 day   \n",
       "2  [' Leisure trip ', ' Solo traveler ', ' Modern...           289 day   \n",
       "3  [' Leisure trip ', ' Solo traveler ', ' Standa...           681 day   \n",
       "4  [' Business trip ', ' Couple ', ' Standard Dou...           516 day   \n",
       "\n",
       "         lat       lng     tags_c  \n",
       "0  51.507894 -0.143671  23.000000  \n",
       "1  51.521009 -0.123097  22.252317  \n",
       "2  48.845377  2.325643  26.000000  \n",
       "3  48.888697  2.394540  21.000000  \n",
       "4  52.385601  4.847060  19.000000  "
      ]
     },
     "execution_count": 212,
     "metadata": {},
     "output_type": "execute_result"
    }
   ],
   "source": [
    "df_train.head()"
   ]
  },
  {
   "cell_type": "code",
   "execution_count": 203,
   "metadata": {},
   "outputs": [
    {
     "data": {
      "text/html": [
       "<div>\n",
       "<style scoped>\n",
       "    .dataframe tbody tr th:only-of-type {\n",
       "        vertical-align: middle;\n",
       "    }\n",
       "\n",
       "    .dataframe tbody tr th {\n",
       "        vertical-align: top;\n",
       "    }\n",
       "\n",
       "    .dataframe thead th {\n",
       "        text-align: right;\n",
       "    }\n",
       "</style>\n",
       "<table border=\"1\" class=\"dataframe\">\n",
       "  <thead>\n",
       "    <tr style=\"text-align: right;\">\n",
       "      <th></th>\n",
       "      <th>tags_c</th>\n",
       "    </tr>\n",
       "  </thead>\n",
       "  <tbody>\n",
       "    <tr>\n",
       "      <th>count</th>\n",
       "      <td>37.000000</td>\n",
       "    </tr>\n",
       "    <tr>\n",
       "      <th>mean</th>\n",
       "      <td>10454.135135</td>\n",
       "    </tr>\n",
       "    <tr>\n",
       "      <th>std</th>\n",
       "      <td>18751.535340</td>\n",
       "    </tr>\n",
       "    <tr>\n",
       "      <th>min</th>\n",
       "      <td>6.000000</td>\n",
       "    </tr>\n",
       "    <tr>\n",
       "      <th>25%</th>\n",
       "      <td>97.000000</td>\n",
       "    </tr>\n",
       "    <tr>\n",
       "      <th>50%</th>\n",
       "      <td>1211.000000</td>\n",
       "    </tr>\n",
       "    <tr>\n",
       "      <th>75%</th>\n",
       "      <td>11244.000000</td>\n",
       "    </tr>\n",
       "    <tr>\n",
       "      <th>max</th>\n",
       "      <td>86803.000000</td>\n",
       "    </tr>\n",
       "  </tbody>\n",
       "</table>\n",
       "</div>"
      ],
      "text/plain": [
       "             tags_c\n",
       "count     37.000000\n",
       "mean   10454.135135\n",
       "std    18751.535340\n",
       "min        6.000000\n",
       "25%       97.000000\n",
       "50%     1211.000000\n",
       "75%    11244.000000\n",
       "max    86803.000000"
      ]
     },
     "execution_count": 203,
     "metadata": {},
     "output_type": "execute_result"
    }
   ],
   "source": [
    "df = df_train.pivot_table('tags_c', index='reviewer_score', aggfunc='count')\n",
    "df.describe()\n"
   ]
  },
  {
   "cell_type": "code",
   "execution_count": 204,
   "metadata": {},
   "outputs": [
    {
     "data": {
      "application/vnd.plotly.v1+json": {
       "config": {
        "plotlyServerURL": "https://plot.ly"
       },
       "data": [
        {
         "hovertemplate": "variable=tags_c<br>reviewer_score=%{x}<br>value=%{y}<extra></extra>",
         "legendgroup": "tags_c",
         "marker": {
          "color": "#636efa",
          "symbol": "circle"
         },
         "mode": "markers",
         "name": "tags_c",
         "orientation": "v",
         "showlegend": true,
         "type": "scatter",
         "x": [
          2.5,
          2.9,
          3,
          3.1,
          3.3,
          3.5,
          3.8,
          4,
          4.2,
          4.4,
          4.5,
          4.6,
          5,
          5.4,
          5.5,
          5.6,
          5.8,
          6,
          6.3,
          6.5,
          6.7,
          6.9,
          7,
          7.1,
          7.5,
          7.9,
          8,
          8.1,
          8.3,
          8.5,
          8.8,
          9,
          9.2,
          9.4,
          9.5,
          9.6,
          10
         ],
         "xaxis": "x",
         "y": [
          1632,
          1211,
          25,
          6,
          2063,
          61,
          3017,
          66,
          3827,
          9,
          97,
          4660,
          6278,
          7082,
          161,
          13,
          8962,
          184,
          11244,
          274,
          14117,
          23,
          293,
          18529,
          26164,
          24901,
          388,
          28,
          30903,
          379,
          34795,
          483,
          44053,
          47,
          523,
          53502,
          86803
         ],
         "yaxis": "y"
        }
       ],
       "layout": {
        "legend": {
         "title": {
          "text": "variable"
         },
         "tracegroupgap": 0
        },
        "margin": {
         "t": 60
        },
        "template": {
         "data": {
          "bar": [
           {
            "error_x": {
             "color": "#2a3f5f"
            },
            "error_y": {
             "color": "#2a3f5f"
            },
            "marker": {
             "line": {
              "color": "#E5ECF6",
              "width": 0.5
             },
             "pattern": {
              "fillmode": "overlay",
              "size": 10,
              "solidity": 0.2
             }
            },
            "type": "bar"
           }
          ],
          "barpolar": [
           {
            "marker": {
             "line": {
              "color": "#E5ECF6",
              "width": 0.5
             },
             "pattern": {
              "fillmode": "overlay",
              "size": 10,
              "solidity": 0.2
             }
            },
            "type": "barpolar"
           }
          ],
          "carpet": [
           {
            "aaxis": {
             "endlinecolor": "#2a3f5f",
             "gridcolor": "white",
             "linecolor": "white",
             "minorgridcolor": "white",
             "startlinecolor": "#2a3f5f"
            },
            "baxis": {
             "endlinecolor": "#2a3f5f",
             "gridcolor": "white",
             "linecolor": "white",
             "minorgridcolor": "white",
             "startlinecolor": "#2a3f5f"
            },
            "type": "carpet"
           }
          ],
          "choropleth": [
           {
            "colorbar": {
             "outlinewidth": 0,
             "ticks": ""
            },
            "type": "choropleth"
           }
          ],
          "contour": [
           {
            "colorbar": {
             "outlinewidth": 0,
             "ticks": ""
            },
            "colorscale": [
             [
              0,
              "#0d0887"
             ],
             [
              0.1111111111111111,
              "#46039f"
             ],
             [
              0.2222222222222222,
              "#7201a8"
             ],
             [
              0.3333333333333333,
              "#9c179e"
             ],
             [
              0.4444444444444444,
              "#bd3786"
             ],
             [
              0.5555555555555556,
              "#d8576b"
             ],
             [
              0.6666666666666666,
              "#ed7953"
             ],
             [
              0.7777777777777778,
              "#fb9f3a"
             ],
             [
              0.8888888888888888,
              "#fdca26"
             ],
             [
              1,
              "#f0f921"
             ]
            ],
            "type": "contour"
           }
          ],
          "contourcarpet": [
           {
            "colorbar": {
             "outlinewidth": 0,
             "ticks": ""
            },
            "type": "contourcarpet"
           }
          ],
          "heatmap": [
           {
            "colorbar": {
             "outlinewidth": 0,
             "ticks": ""
            },
            "colorscale": [
             [
              0,
              "#0d0887"
             ],
             [
              0.1111111111111111,
              "#46039f"
             ],
             [
              0.2222222222222222,
              "#7201a8"
             ],
             [
              0.3333333333333333,
              "#9c179e"
             ],
             [
              0.4444444444444444,
              "#bd3786"
             ],
             [
              0.5555555555555556,
              "#d8576b"
             ],
             [
              0.6666666666666666,
              "#ed7953"
             ],
             [
              0.7777777777777778,
              "#fb9f3a"
             ],
             [
              0.8888888888888888,
              "#fdca26"
             ],
             [
              1,
              "#f0f921"
             ]
            ],
            "type": "heatmap"
           }
          ],
          "heatmapgl": [
           {
            "colorbar": {
             "outlinewidth": 0,
             "ticks": ""
            },
            "colorscale": [
             [
              0,
              "#0d0887"
             ],
             [
              0.1111111111111111,
              "#46039f"
             ],
             [
              0.2222222222222222,
              "#7201a8"
             ],
             [
              0.3333333333333333,
              "#9c179e"
             ],
             [
              0.4444444444444444,
              "#bd3786"
             ],
             [
              0.5555555555555556,
              "#d8576b"
             ],
             [
              0.6666666666666666,
              "#ed7953"
             ],
             [
              0.7777777777777778,
              "#fb9f3a"
             ],
             [
              0.8888888888888888,
              "#fdca26"
             ],
             [
              1,
              "#f0f921"
             ]
            ],
            "type": "heatmapgl"
           }
          ],
          "histogram": [
           {
            "marker": {
             "pattern": {
              "fillmode": "overlay",
              "size": 10,
              "solidity": 0.2
             }
            },
            "type": "histogram"
           }
          ],
          "histogram2d": [
           {
            "colorbar": {
             "outlinewidth": 0,
             "ticks": ""
            },
            "colorscale": [
             [
              0,
              "#0d0887"
             ],
             [
              0.1111111111111111,
              "#46039f"
             ],
             [
              0.2222222222222222,
              "#7201a8"
             ],
             [
              0.3333333333333333,
              "#9c179e"
             ],
             [
              0.4444444444444444,
              "#bd3786"
             ],
             [
              0.5555555555555556,
              "#d8576b"
             ],
             [
              0.6666666666666666,
              "#ed7953"
             ],
             [
              0.7777777777777778,
              "#fb9f3a"
             ],
             [
              0.8888888888888888,
              "#fdca26"
             ],
             [
              1,
              "#f0f921"
             ]
            ],
            "type": "histogram2d"
           }
          ],
          "histogram2dcontour": [
           {
            "colorbar": {
             "outlinewidth": 0,
             "ticks": ""
            },
            "colorscale": [
             [
              0,
              "#0d0887"
             ],
             [
              0.1111111111111111,
              "#46039f"
             ],
             [
              0.2222222222222222,
              "#7201a8"
             ],
             [
              0.3333333333333333,
              "#9c179e"
             ],
             [
              0.4444444444444444,
              "#bd3786"
             ],
             [
              0.5555555555555556,
              "#d8576b"
             ],
             [
              0.6666666666666666,
              "#ed7953"
             ],
             [
              0.7777777777777778,
              "#fb9f3a"
             ],
             [
              0.8888888888888888,
              "#fdca26"
             ],
             [
              1,
              "#f0f921"
             ]
            ],
            "type": "histogram2dcontour"
           }
          ],
          "mesh3d": [
           {
            "colorbar": {
             "outlinewidth": 0,
             "ticks": ""
            },
            "type": "mesh3d"
           }
          ],
          "parcoords": [
           {
            "line": {
             "colorbar": {
              "outlinewidth": 0,
              "ticks": ""
             }
            },
            "type": "parcoords"
           }
          ],
          "pie": [
           {
            "automargin": true,
            "type": "pie"
           }
          ],
          "scatter": [
           {
            "marker": {
             "colorbar": {
              "outlinewidth": 0,
              "ticks": ""
             }
            },
            "type": "scatter"
           }
          ],
          "scatter3d": [
           {
            "line": {
             "colorbar": {
              "outlinewidth": 0,
              "ticks": ""
             }
            },
            "marker": {
             "colorbar": {
              "outlinewidth": 0,
              "ticks": ""
             }
            },
            "type": "scatter3d"
           }
          ],
          "scattercarpet": [
           {
            "marker": {
             "colorbar": {
              "outlinewidth": 0,
              "ticks": ""
             }
            },
            "type": "scattercarpet"
           }
          ],
          "scattergeo": [
           {
            "marker": {
             "colorbar": {
              "outlinewidth": 0,
              "ticks": ""
             }
            },
            "type": "scattergeo"
           }
          ],
          "scattergl": [
           {
            "marker": {
             "colorbar": {
              "outlinewidth": 0,
              "ticks": ""
             }
            },
            "type": "scattergl"
           }
          ],
          "scattermapbox": [
           {
            "marker": {
             "colorbar": {
              "outlinewidth": 0,
              "ticks": ""
             }
            },
            "type": "scattermapbox"
           }
          ],
          "scatterpolar": [
           {
            "marker": {
             "colorbar": {
              "outlinewidth": 0,
              "ticks": ""
             }
            },
            "type": "scatterpolar"
           }
          ],
          "scatterpolargl": [
           {
            "marker": {
             "colorbar": {
              "outlinewidth": 0,
              "ticks": ""
             }
            },
            "type": "scatterpolargl"
           }
          ],
          "scatterternary": [
           {
            "marker": {
             "colorbar": {
              "outlinewidth": 0,
              "ticks": ""
             }
            },
            "type": "scatterternary"
           }
          ],
          "surface": [
           {
            "colorbar": {
             "outlinewidth": 0,
             "ticks": ""
            },
            "colorscale": [
             [
              0,
              "#0d0887"
             ],
             [
              0.1111111111111111,
              "#46039f"
             ],
             [
              0.2222222222222222,
              "#7201a8"
             ],
             [
              0.3333333333333333,
              "#9c179e"
             ],
             [
              0.4444444444444444,
              "#bd3786"
             ],
             [
              0.5555555555555556,
              "#d8576b"
             ],
             [
              0.6666666666666666,
              "#ed7953"
             ],
             [
              0.7777777777777778,
              "#fb9f3a"
             ],
             [
              0.8888888888888888,
              "#fdca26"
             ],
             [
              1,
              "#f0f921"
             ]
            ],
            "type": "surface"
           }
          ],
          "table": [
           {
            "cells": {
             "fill": {
              "color": "#EBF0F8"
             },
             "line": {
              "color": "white"
             }
            },
            "header": {
             "fill": {
              "color": "#C8D4E3"
             },
             "line": {
              "color": "white"
             }
            },
            "type": "table"
           }
          ]
         },
         "layout": {
          "annotationdefaults": {
           "arrowcolor": "#2a3f5f",
           "arrowhead": 0,
           "arrowwidth": 1
          },
          "autotypenumbers": "strict",
          "coloraxis": {
           "colorbar": {
            "outlinewidth": 0,
            "ticks": ""
           }
          },
          "colorscale": {
           "diverging": [
            [
             0,
             "#8e0152"
            ],
            [
             0.1,
             "#c51b7d"
            ],
            [
             0.2,
             "#de77ae"
            ],
            [
             0.3,
             "#f1b6da"
            ],
            [
             0.4,
             "#fde0ef"
            ],
            [
             0.5,
             "#f7f7f7"
            ],
            [
             0.6,
             "#e6f5d0"
            ],
            [
             0.7,
             "#b8e186"
            ],
            [
             0.8,
             "#7fbc41"
            ],
            [
             0.9,
             "#4d9221"
            ],
            [
             1,
             "#276419"
            ]
           ],
           "sequential": [
            [
             0,
             "#0d0887"
            ],
            [
             0.1111111111111111,
             "#46039f"
            ],
            [
             0.2222222222222222,
             "#7201a8"
            ],
            [
             0.3333333333333333,
             "#9c179e"
            ],
            [
             0.4444444444444444,
             "#bd3786"
            ],
            [
             0.5555555555555556,
             "#d8576b"
            ],
            [
             0.6666666666666666,
             "#ed7953"
            ],
            [
             0.7777777777777778,
             "#fb9f3a"
            ],
            [
             0.8888888888888888,
             "#fdca26"
            ],
            [
             1,
             "#f0f921"
            ]
           ],
           "sequentialminus": [
            [
             0,
             "#0d0887"
            ],
            [
             0.1111111111111111,
             "#46039f"
            ],
            [
             0.2222222222222222,
             "#7201a8"
            ],
            [
             0.3333333333333333,
             "#9c179e"
            ],
            [
             0.4444444444444444,
             "#bd3786"
            ],
            [
             0.5555555555555556,
             "#d8576b"
            ],
            [
             0.6666666666666666,
             "#ed7953"
            ],
            [
             0.7777777777777778,
             "#fb9f3a"
            ],
            [
             0.8888888888888888,
             "#fdca26"
            ],
            [
             1,
             "#f0f921"
            ]
           ]
          },
          "colorway": [
           "#636efa",
           "#EF553B",
           "#00cc96",
           "#ab63fa",
           "#FFA15A",
           "#19d3f3",
           "#FF6692",
           "#B6E880",
           "#FF97FF",
           "#FECB52"
          ],
          "font": {
           "color": "#2a3f5f"
          },
          "geo": {
           "bgcolor": "white",
           "lakecolor": "white",
           "landcolor": "#E5ECF6",
           "showlakes": true,
           "showland": true,
           "subunitcolor": "white"
          },
          "hoverlabel": {
           "align": "left"
          },
          "hovermode": "closest",
          "mapbox": {
           "style": "light"
          },
          "paper_bgcolor": "white",
          "plot_bgcolor": "#E5ECF6",
          "polar": {
           "angularaxis": {
            "gridcolor": "white",
            "linecolor": "white",
            "ticks": ""
           },
           "bgcolor": "#E5ECF6",
           "radialaxis": {
            "gridcolor": "white",
            "linecolor": "white",
            "ticks": ""
           }
          },
          "scene": {
           "xaxis": {
            "backgroundcolor": "#E5ECF6",
            "gridcolor": "white",
            "gridwidth": 2,
            "linecolor": "white",
            "showbackground": true,
            "ticks": "",
            "zerolinecolor": "white"
           },
           "yaxis": {
            "backgroundcolor": "#E5ECF6",
            "gridcolor": "white",
            "gridwidth": 2,
            "linecolor": "white",
            "showbackground": true,
            "ticks": "",
            "zerolinecolor": "white"
           },
           "zaxis": {
            "backgroundcolor": "#E5ECF6",
            "gridcolor": "white",
            "gridwidth": 2,
            "linecolor": "white",
            "showbackground": true,
            "ticks": "",
            "zerolinecolor": "white"
           }
          },
          "shapedefaults": {
           "line": {
            "color": "#2a3f5f"
           }
          },
          "ternary": {
           "aaxis": {
            "gridcolor": "white",
            "linecolor": "white",
            "ticks": ""
           },
           "baxis": {
            "gridcolor": "white",
            "linecolor": "white",
            "ticks": ""
           },
           "bgcolor": "#E5ECF6",
           "caxis": {
            "gridcolor": "white",
            "linecolor": "white",
            "ticks": ""
           }
          },
          "title": {
           "x": 0.05
          },
          "xaxis": {
           "automargin": true,
           "gridcolor": "white",
           "linecolor": "white",
           "ticks": "",
           "title": {
            "standoff": 15
           },
           "zerolinecolor": "white",
           "zerolinewidth": 2
          },
          "yaxis": {
           "automargin": true,
           "gridcolor": "white",
           "linecolor": "white",
           "ticks": "",
           "title": {
            "standoff": 15
           },
           "zerolinecolor": "white",
           "zerolinewidth": 2
          }
         }
        },
        "xaxis": {
         "anchor": "y",
         "domain": [
          0,
          1
         ],
         "title": {
          "text": "reviewer_score"
         },
         "type": "log"
        },
        "yaxis": {
         "anchor": "x",
         "domain": [
          0,
          1
         ],
         "title": {
          "text": "value"
         }
        }
       }
      }
     },
     "metadata": {},
     "output_type": "display_data"
    }
   ],
   "source": [
    "#визуализируем полученную матрицу\n",
    "px.scatter(df, log_x=True, size_max=60)"
   ]
  },
  {
   "cell_type": "markdown",
   "metadata": {},
   "source": [
    "#### Можно сказать, что значения на графике менее 5000 являются выбросами"
   ]
  }
 ],
 "metadata": {
  "kernelspec": {
   "display_name": "Python 3.9.7 ('Sf')",
   "language": "python",
   "name": "python3"
  },
  "language_info": {
   "codemirror_mode": {
    "name": "ipython",
    "version": 3
   },
   "file_extension": ".py",
   "mimetype": "text/x-python",
   "name": "python",
   "nbconvert_exporter": "python",
   "pygments_lexer": "ipython3",
   "version": "3.9.7"
  },
  "orig_nbformat": 4,
  "vscode": {
   "interpreter": {
    "hash": "8a2e06fd7f529cb6a81f6759db4b9e7468a1bc2e94fb3e4406aba6e8ef7af0a9"
   }
  }
 },
 "nbformat": 4,
 "nbformat_minor": 2
}
