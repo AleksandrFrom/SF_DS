{
 "cells": [
  {
   "cell_type": "code",
   "execution_count": 8,
   "metadata": {},
   "outputs": [
    {
     "name": "stdout",
     "output_type": "stream",
     "text": [
      "15\n",
      "121\n",
      "abd\n"
     ]
    }
   ],
   "source": [
    "# sample 1\n",
    "\n",
    "def max2(x,y):\n",
    "    if x > y:\n",
    "        return x\n",
    "    return y\n",
    "    \n",
    "print(max2(15,15))\n",
    "\n",
    "def max3(x,y,z):\n",
    "    return max2(x, max2(y,z))\n",
    "\n",
    "print(max3(25, 121, 15))\n",
    "print(max3('ab', 'abd', 'abc'))"
   ]
  },
  {
   "cell_type": "code",
   "execution_count": 10,
   "metadata": {},
   "outputs": [
    {
     "name": "stdout",
     "output_type": "stream",
     "text": [
      "Hello000Armaggedon\n",
      "Hello***World\n"
     ]
    }
   ],
   "source": [
    "# sample 2\n",
    "\n",
    "def hello_separated(name = 'World', separator = '-'):\n",
    "    print('Hello', name, sep=separator)\n",
    "    \n",
    "\n",
    "hello_separated('Armaggedon', '000')\n",
    "hello_separated(separator='***')"
   ]
  },
  {
   "cell_type": "code",
   "execution_count": 9,
   "metadata": {},
   "outputs": [
    {
     "name": "stdout",
     "output_type": "stream",
     "text": [
      "False\n"
     ]
    }
   ],
   "source": [
    "# sample 3 Brute Foce\n",
    "\n",
    "def is_simple_number(x):\n",
    "    \"\"\"Ф-я определяет, является ли число простым.\n",
    "    х - целое положительное число.\n",
    "    Если простое - True, иначе - False\"\"\"\n",
    "    divisor = 2\n",
    "    while divisor < x:\n",
    "        if x % divisor == 0:\n",
    "            return False\n",
    "        divisor += 1\n",
    "    return True\n",
    "\n",
    "print(is_simple_number(21))\n",
    "\n",
    "# help(is_simple_number)"
   ]
  },
  {
   "cell_type": "code",
   "execution_count": 19,
   "metadata": {},
   "outputs": [
    {
     "name": "stdout",
     "output_type": "stream",
     "text": [
      "2\n",
      "2\n",
      "2\n",
      "2\n",
      "2\n",
      "2\n",
      "2\n",
      "2\n",
      "2\n",
      "2\n"
     ]
    }
   ],
   "source": [
    "# simle 4 Factorize\n",
    "\n",
    "def factorize_number(x):\n",
    "    \"\"\"Раскладывает число на множители.\n",
    "    Печатает их на экран.\n",
    "    х - целое положительное число\"\"\"\n",
    "    divisor = 2\n",
    "    while x > 1:\n",
    "        if x % divisor == 0:\n",
    "            print(divisor)\n",
    "            x //= divisor\n",
    "        else:\n",
    "            divisor += 1\n",
    "            \n",
    "factorize_number(1024)"
   ]
  }
 ],
 "metadata": {
  "interpreter": {
   "hash": "2926b25bdcf6ee1467c23b1aef687571c1f0834bd741036fd08895e49cb4db94"
  },
  "kernelspec": {
   "display_name": "Python 3.9.7 ('base')",
   "language": "python",
   "name": "python3"
  },
  "language_info": {
   "codemirror_mode": {
    "name": "ipython",
    "version": 3
   },
   "file_extension": ".py",
   "mimetype": "text/x-python",
   "name": "python",
   "nbconvert_exporter": "python",
   "pygments_lexer": "ipython3",
   "version": "3.9.7"
  },
  "orig_nbformat": 4
 },
 "nbformat": 4,
 "nbformat_minor": 2
}
