{
 "cells": [
  {
   "cell_type": "code",
   "execution_count": 30,
   "metadata": {},
   "outputs": [],
   "source": [
    "import pandas as pd\n",
    "import numpy as np\n",
    "import matplotlib.pyplot as plt\n",
    "%matplotlib inline\n",
    "import plotly.express as px\n",
    "plt.style.use('default')"
   ]
  },
  {
   "cell_type": "code",
   "execution_count": 14,
   "metadata": {},
   "outputs": [],
   "source": [
    "df = pd.read_excel('VKU-60.xlsx')"
   ]
  },
  {
   "cell_type": "code",
   "execution_count": 15,
   "metadata": {},
   "outputs": [
    {
     "name": "stdout",
     "output_type": "stream",
     "text": [
      "<class 'pandas.core.frame.DataFrame'>\n",
      "RangeIndex: 192 entries, 0 to 191\n",
      "Data columns (total 6 columns):\n",
      " #   Column                Non-Null Count  Dtype  \n",
      "---  ------                --------------  -----  \n",
      " 0   Unnamed: 0            0 non-null      float64\n",
      " 1   сод.св-го             186 non-null    float64\n",
      " 2   толщина               192 non-null    float64\n",
      " 3   длина                 192 non-null    float64\n",
      " 4   ширина                192 non-null    float64\n",
      " 5   прочность при сдвиге  192 non-null    float64\n",
      "dtypes: float64(6)\n",
      "memory usage: 9.1 KB\n"
     ]
    }
   ],
   "source": [
    "df.info()"
   ]
  },
  {
   "cell_type": "code",
   "execution_count": 17,
   "metadata": {},
   "outputs": [
    {
     "data": {
      "text/html": [
       "<div>\n",
       "<style scoped>\n",
       "    .dataframe tbody tr th:only-of-type {\n",
       "        vertical-align: middle;\n",
       "    }\n",
       "\n",
       "    .dataframe tbody tr th {\n",
       "        vertical-align: top;\n",
       "    }\n",
       "\n",
       "    .dataframe thead th {\n",
       "        text-align: right;\n",
       "    }\n",
       "</style>\n",
       "<table border=\"1\" class=\"dataframe\">\n",
       "  <thead>\n",
       "    <tr style=\"text-align: right;\">\n",
       "      <th></th>\n",
       "      <th>Unnamed: 0</th>\n",
       "      <th>сод.св-го</th>\n",
       "      <th>толщина</th>\n",
       "      <th>длина</th>\n",
       "      <th>ширина</th>\n",
       "      <th>прочность при сдвиге</th>\n",
       "    </tr>\n",
       "  </thead>\n",
       "  <tbody>\n",
       "    <tr>\n",
       "      <th>0</th>\n",
       "      <td>NaN</td>\n",
       "      <td>33.7</td>\n",
       "      <td>2.62</td>\n",
       "      <td>20.02</td>\n",
       "      <td>6.04</td>\n",
       "      <td>77.0</td>\n",
       "    </tr>\n",
       "    <tr>\n",
       "      <th>1</th>\n",
       "      <td>NaN</td>\n",
       "      <td>33.7</td>\n",
       "      <td>2.60</td>\n",
       "      <td>20.02</td>\n",
       "      <td>5.97</td>\n",
       "      <td>76.0</td>\n",
       "    </tr>\n",
       "    <tr>\n",
       "      <th>2</th>\n",
       "      <td>NaN</td>\n",
       "      <td>33.7</td>\n",
       "      <td>2.59</td>\n",
       "      <td>20.04</td>\n",
       "      <td>6.02</td>\n",
       "      <td>76.0</td>\n",
       "    </tr>\n",
       "    <tr>\n",
       "      <th>3</th>\n",
       "      <td>NaN</td>\n",
       "      <td>33.7</td>\n",
       "      <td>2.60</td>\n",
       "      <td>20.05</td>\n",
       "      <td>6.03</td>\n",
       "      <td>75.0</td>\n",
       "    </tr>\n",
       "    <tr>\n",
       "      <th>4</th>\n",
       "      <td>NaN</td>\n",
       "      <td>33.7</td>\n",
       "      <td>2.60</td>\n",
       "      <td>20.04</td>\n",
       "      <td>6.03</td>\n",
       "      <td>77.0</td>\n",
       "    </tr>\n",
       "  </tbody>\n",
       "</table>\n",
       "</div>"
      ],
      "text/plain": [
       "   Unnamed: 0  сод.св-го  толщина  длина  ширина  прочность при сдвиге\n",
       "0         NaN       33.7     2.62  20.02    6.04                  77.0\n",
       "1         NaN       33.7     2.60  20.02    5.97                  76.0\n",
       "2         NaN       33.7     2.59  20.04    6.02                  76.0\n",
       "3         NaN       33.7     2.60  20.05    6.03                  75.0\n",
       "4         NaN       33.7     2.60  20.04    6.03                  77.0"
      ]
     },
     "execution_count": 17,
     "metadata": {},
     "output_type": "execute_result"
    }
   ],
   "source": [
    "df.head()"
   ]
  },
  {
   "cell_type": "code",
   "execution_count": 18,
   "metadata": {},
   "outputs": [],
   "source": [
    "df.drop(['Unnamed: 0'], axis=1, inplace=True)"
   ]
  },
  {
   "cell_type": "code",
   "execution_count": 19,
   "metadata": {},
   "outputs": [
    {
     "data": {
      "text/html": [
       "<div>\n",
       "<style scoped>\n",
       "    .dataframe tbody tr th:only-of-type {\n",
       "        vertical-align: middle;\n",
       "    }\n",
       "\n",
       "    .dataframe tbody tr th {\n",
       "        vertical-align: top;\n",
       "    }\n",
       "\n",
       "    .dataframe thead th {\n",
       "        text-align: right;\n",
       "    }\n",
       "</style>\n",
       "<table border=\"1\" class=\"dataframe\">\n",
       "  <thead>\n",
       "    <tr style=\"text-align: right;\">\n",
       "      <th></th>\n",
       "      <th>сод.св-го</th>\n",
       "      <th>толщина</th>\n",
       "      <th>длина</th>\n",
       "      <th>ширина</th>\n",
       "      <th>прочность при сдвиге</th>\n",
       "    </tr>\n",
       "  </thead>\n",
       "  <tbody>\n",
       "    <tr>\n",
       "      <th>0</th>\n",
       "      <td>33.7</td>\n",
       "      <td>2.62</td>\n",
       "      <td>20.02</td>\n",
       "      <td>6.04</td>\n",
       "      <td>77.0</td>\n",
       "    </tr>\n",
       "    <tr>\n",
       "      <th>1</th>\n",
       "      <td>33.7</td>\n",
       "      <td>2.60</td>\n",
       "      <td>20.02</td>\n",
       "      <td>5.97</td>\n",
       "      <td>76.0</td>\n",
       "    </tr>\n",
       "    <tr>\n",
       "      <th>2</th>\n",
       "      <td>33.7</td>\n",
       "      <td>2.59</td>\n",
       "      <td>20.04</td>\n",
       "      <td>6.02</td>\n",
       "      <td>76.0</td>\n",
       "    </tr>\n",
       "    <tr>\n",
       "      <th>3</th>\n",
       "      <td>33.7</td>\n",
       "      <td>2.60</td>\n",
       "      <td>20.05</td>\n",
       "      <td>6.03</td>\n",
       "      <td>75.0</td>\n",
       "    </tr>\n",
       "    <tr>\n",
       "      <th>4</th>\n",
       "      <td>33.7</td>\n",
       "      <td>2.60</td>\n",
       "      <td>20.04</td>\n",
       "      <td>6.03</td>\n",
       "      <td>77.0</td>\n",
       "    </tr>\n",
       "  </tbody>\n",
       "</table>\n",
       "</div>"
      ],
      "text/plain": [
       "   сод.св-го  толщина  длина  ширина  прочность при сдвиге\n",
       "0       33.7     2.62  20.02    6.04                  77.0\n",
       "1       33.7     2.60  20.02    5.97                  76.0\n",
       "2       33.7     2.59  20.04    6.02                  76.0\n",
       "3       33.7     2.60  20.05    6.03                  75.0\n",
       "4       33.7     2.60  20.04    6.03                  77.0"
      ]
     },
     "execution_count": 19,
     "metadata": {},
     "output_type": "execute_result"
    }
   ],
   "source": [
    "df.head()"
   ]
  },
  {
   "cell_type": "code",
   "execution_count": 20,
   "metadata": {},
   "outputs": [],
   "source": [
    "import seaborn as sns\n",
    "from matplotlib import pyplot as plt"
   ]
  },
  {
   "cell_type": "code",
   "execution_count": 21,
   "metadata": {},
   "outputs": [
    {
     "data": {
      "text/plain": [
       "<AxesSubplot:>"
      ]
     },
     "execution_count": 21,
     "metadata": {},
     "output_type": "execute_result"
    },
    {
     "data": {
      "image/png": "[encoded data removed]",
      "text/plain": [
       "<Figure size 1080x720 with 2 Axes>"
      ]
     },
     "metadata": {
      "needs_background": "light"
     },
     "output_type": "display_data"
    }
   ],
   "source": [
    "fig, ax = plt.subplots(figsize=(15,10))\n",
    "sns.heatmap(df.corr(), annot=True, linewidths=.5, ax=ax)"
   ]
  },
  {
   "cell_type": "code",
   "execution_count": 28,
   "metadata": {},
   "outputs": [
    {
     "data": {
      "image/png": "[encoded data removed]",
      "text/plain": [
       "<Figure size 640x480 with 6 Axes>"
      ]
     },
     "metadata": {},
     "output_type": "display_data"
    }
   ],
   "source": [
    "hist = df.hist()"
   ]
  },
  {
   "cell_type": "code",
   "execution_count": 37,
   "metadata": {},
   "outputs": [
    {
     "data": {
      "application/vnd.plotly.v1+json": {
       "config": {
        "plotlyServerURL": "https://plot.ly"
       },
       "data": [
        {
         "alignmentgroup": "True",
         "bingroup": "x",
         "hovertemplate": "variable=сод.св-го<br>value=%{x}<br>count=%{y}<extra></extra>",
         "legendgroup": "сод.св-го",
         "marker": {
          "color": "#636efa",
          "pattern": {
           "shape": ""
          }
         },
         "name": "сод.св-го",
         "offsetgroup": "сод.св-го",
         "orientation": "v",
         "showlegend": true,
         "type": "histogram",
         "x": [
          33.7,
          33.7,
          33.7,
          33.7,
          33.7,
          33.7,
          31.2,
          31.2,
          31.2,
          31.2,
          31.2,
          31.2,
          33.7,
          33.7,
          33.7,
          33.7,
          33.7,
          33.7,
          33.7,
          33.7,
          33.7,
          33.7,
          33.7,
          33.7,
          34.5,
          34.5,
          34.5,
          34.5,
          34.5,
          34.5,
          34.5,
          34.5,
          34.5,
          34.5,
          34.5,
          34.5,
          34.5,
          34.5,
          34.5,
          34.5,
          34.5,
          34.5,
          34.6,
          34.6,
          34.6,
          34.6,
          34.6,
          34.6,
          34.6,
          34.6,
          34.6,
          34.6,
          34.6,
          34.6,
          33.5,
          33.5,
          33.5,
          33.5,
          33.5,
          33.5,
          33.5,
          33.5,
          33.5,
          33.5,
          33.5,
          33.5,
          33.5,
          33.5,
          33.5,
          33.5,
          33.5,
          33.5,
          34.1,
          34.1,
          34.1,
          34.1,
          34.1,
          34.1,
          34.1,
          34.1,
          34.1,
          34.1,
          34.1,
          34.1,
          34.1,
          34.1,
          34.1,
          34.1,
          34.1,
          34.1,
          37.7,
          37.7,
          37.7,
          37.7,
          37.7,
          37.7,
          35,
          35,
          35,
          35,
          35,
          35,
          35,
          35,
          35,
          35,
          35,
          35,
          35,
          35,
          35,
          35,
          35,
          35,
          34.3,
          34.3,
          34.3,
          34.3,
          34.3,
          34.3,
          34.3,
          34.3,
          34.3,
          34.3,
          34.3,
          34.3,
          34.3,
          34.3,
          34.3,
          34.3,
          34.3,
          34.3,
          34.3,
          34.3,
          34.3,
          34.3,
          34.3,
          34.3,
          34.3,
          34.3,
          34.3,
          34.3,
          34.3,
          34.3,
          34.3,
          34.3,
          34.3,
          34.3,
          34.3,
          34.3,
          33,
          33,
          33,
          33,
          33,
          33,
          33,
          33,
          33,
          33,
          33,
          33,
          33,
          33,
          33,
          33,
          33,
          33,
          33,
          33,
          33,
          33,
          33,
          33,
          33,
          33,
          33,
          33,
          33,
          33,
          33,
          33,
          33,
          33,
          33,
          33,
          null,
          null,
          null,
          null,
          null,
          null
         ],
         "xaxis": "x",
         "yaxis": "y"
        },
        {
         "alignmentgroup": "True",
         "bingroup": "x",
         "hovertemplate": "variable=толщина<br>value=%{x}<br>count=%{y}<extra></extra>",
         "legendgroup": "толщина",
         "marker": {
          "color": "#EF553B",
          "pattern": {
           "shape": ""
          }
         },
         "name": "толщина",
         "offsetgroup": "толщина",
         "orientation": "v",
         "showlegend": true,
         "type": "histogram",
         "x": [
          2.62,
          2.6,
          2.59,
          2.6,
          2.6,
          2.62,
          2.54,
          2.56,
          2.6,
          2.6,
          2.58,
          2.57,
          2.64,
          2.59,
          2.6,
          2.61,
          2.63,
          2.62,
          2.6,
          2.62,
          2.64,
          2.6,
          2.63,
          2.62,
          2.61,
          2.62,
          2.59,
          2.57,
          2.59,
          2.6,
          2.57,
          2.63,
          2.62,
          2.59,
          2.62,
          2.63,
          2.63,
          2.64,
          2.6,
          2.63,
          2.62,
          2.58,
          2.62,
          2.6,
          2.58,
          2.59,
          2.58,
          2.57,
          2.6,
          2.58,
          2.6,
          2.58,
          2.6,
          2.59,
          2.64,
          2.64,
          2.64,
          2.64,
          2.63,
          2.63,
          2.62,
          2.61,
          2.59,
          2.6,
          2.62,
          2.62,
          2.59,
          2.62,
          2.6,
          2.62,
          2.6,
          2.6,
          2.63,
          2.68,
          2.65,
          2.66,
          2.64,
          2.64,
          2.61,
          2.63,
          2.62,
          2.6,
          2.59,
          2.61,
          2.62,
          2.62,
          2.61,
          2.62,
          2.6,
          2.64,
          2.81,
          2.8,
          2.81,
          2.81,
          2.81,
          2.78,
          2.64,
          2.66,
          2.63,
          2.72,
          2.69,
          2.66,
          2.65,
          2.65,
          2.66,
          2.66,
          2.66,
          2.65,
          2.6,
          2.61,
          2.62,
          2.62,
          2.62,
          2.6,
          2.64,
          2.64,
          2.64,
          2.59,
          2.56,
          2.59,
          2.54,
          2.59,
          2.58,
          2.61,
          2.59,
          2.57,
          2.71,
          2.69,
          2.68,
          2.65,
          2.69,
          2.67,
          2.69,
          2.68,
          2.67,
          2.67,
          2.74,
          2.67,
          2.66,
          2.68,
          2.65,
          2.73,
          2.63,
          2.69,
          2.67,
          2.7,
          2.67,
          2.7,
          2.63,
          2.7,
          2.48,
          2.48,
          2.46,
          2.48,
          2.49,
          2.47,
          2.49,
          2.45,
          2.45,
          2.51,
          2.45,
          2.45,
          2.53,
          2.53,
          2.52,
          2.57,
          2.53,
          2.57,
          2.53,
          2.51,
          2.51,
          2.51,
          2.52,
          2.53,
          2.52,
          2.56,
          2.53,
          2.54,
          2.58,
          2.52,
          2.54,
          2.54,
          2.52,
          2.53,
          2.55,
          2.53,
          2.52,
          2.52,
          2.52,
          2.52,
          2.55,
          2.57
         ],
         "xaxis": "x",
         "yaxis": "y"
        },
        {
         "alignmentgroup": "True",
         "bingroup": "x",
         "hovertemplate": "variable=длина<br>value=%{x}<br>count=%{y}<extra></extra>",
         "legendgroup": "длина",
         "marker": {
          "color": "#00cc96",
          "pattern": {
           "shape": ""
          }
         },
         "name": "длина",
         "offsetgroup": "длина",
         "orientation": "v",
         "showlegend": true,
         "type": "histogram",
         "x": [
          20.02,
          20.02,
          20.04,
          20.05,
          20.04,
          20.07,
          20.07,
          20.09,
          20.17,
          20.05,
          20.08,
          20.1,
          20.17,
          20.16,
          20.1,
          20.08,
          20.13,
          20.2,
          20.13,
          20.09,
          20.16,
          20.1,
          20.08,
          20.15,
          20.13,
          20.03,
          20.15,
          20.12,
          20.11,
          20.05,
          20.1,
          20.17,
          20.2,
          20.19,
          20.18,
          20.11,
          20.06,
          20.1,
          20.19,
          20.1,
          20.2,
          20.12,
          20.28,
          20.2,
          20.29,
          20.3,
          20.02,
          20.14,
          20.25,
          20.21,
          20.18,
          20.23,
          20.2,
          20.23,
          20.16,
          20.17,
          20.17,
          20.16,
          20.15,
          20.18,
          20.16,
          20.14,
          20.19,
          20.14,
          20.17,
          20.17,
          20.15,
          20.13,
          20.15,
          20.13,
          20.13,
          20.15,
          20.08,
          20.05,
          20.08,
          20.04,
          20.02,
          20.04,
          20,
          20.07,
          20.18,
          20.16,
          20.19,
          20.07,
          20.02,
          20.07,
          20.2,
          20.02,
          20,
          20.05,
          20.3,
          20.19,
          20.27,
          20.22,
          20.08,
          20.19,
          20,
          20,
          20,
          20,
          20,
          20,
          20,
          20,
          20,
          20,
          20,
          20,
          20,
          20,
          20,
          20,
          20,
          20,
          20.29,
          20.3,
          20.18,
          20.18,
          20.32,
          20.37,
          20.37,
          20.22,
          20.29,
          20.22,
          20.27,
          20.32,
          20.2,
          20.23,
          20.41,
          20.28,
          20.26,
          20.34,
          20.3,
          20.28,
          20.25,
          20.31,
          20.25,
          20.24,
          20.4,
          20.21,
          20.2,
          20,
          20.4,
          20.28,
          20.25,
          20.34,
          20.27,
          20.27,
          20.27,
          20.44,
          20.27,
          20.25,
          20.26,
          20.25,
          20.19,
          20.05,
          20.14,
          20.23,
          20.16,
          20.18,
          20.06,
          20.17,
          20.17,
          20.19,
          20.18,
          20.29,
          20.24,
          20.28,
          20.27,
          20.13,
          20.11,
          20.29,
          20.27,
          20.28,
          20.21,
          20.22,
          20.16,
          20.29,
          20.29,
          20.27,
          20.28,
          20.28,
          20.26,
          20,
          20.15,
          20.17,
          15.2,
          15.15,
          15.19,
          15.19,
          15.15,
          15.16
         ],
         "xaxis": "x",
         "yaxis": "y"
        },
        {
         "alignmentgroup": "True",
         "bingroup": "x",
         "hovertemplate": "variable=ширина<br>value=%{x}<br>count=%{y}<extra></extra>",
         "legendgroup": "ширина",
         "marker": {
          "color": "#ab63fa",
          "pattern": {
           "shape": ""
          }
         },
         "name": "ширина",
         "offsetgroup": "ширина",
         "orientation": "v",
         "showlegend": true,
         "type": "histogram",
         "x": [
          6.04,
          5.97,
          6.02,
          6.03,
          6.03,
          6.02,
          6.06,
          6.06,
          6.09,
          6.06,
          6.09,
          6.08,
          6.12,
          6.11,
          6.11,
          6.11,
          6.11,
          6.1,
          6.12,
          6.1,
          6.02,
          6.09,
          6.16,
          6.13,
          6.09,
          6.08,
          6.1,
          6.09,
          6.04,
          6.04,
          6.16,
          6.07,
          6.2,
          6.06,
          6.28,
          6.11,
          6.08,
          6.08,
          6.13,
          6.07,
          6.16,
          6.14,
          6.13,
          6.11,
          6.14,
          6.14,
          6.06,
          6.14,
          6.11,
          6.12,
          6.15,
          6.05,
          6.16,
          6.11,
          6.11,
          6.07,
          6.1,
          6.12,
          6.11,
          6.1,
          6.08,
          6.05,
          6.1,
          6.05,
          6.08,
          6.08,
          6,
          6.09,
          6.09,
          6.09,
          6.01,
          6.1,
          6.07,
          6.07,
          6.08,
          6.04,
          6.06,
          6.04,
          6.02,
          6.04,
          6.03,
          6,
          6.02,
          6.02,
          6.03,
          6.03,
          6.03,
          6.04,
          6.01,
          6.03,
          6.07,
          6.07,
          6.07,
          6.07,
          6.08,
          6.09,
          6.07,
          6.09,
          6.07,
          6.06,
          6.06,
          6.05,
          6.07,
          6.09,
          6.07,
          6.08,
          6.08,
          6.06,
          6.01,
          6.03,
          6.02,
          6.03,
          6.01,
          6.02,
          5.71,
          5.67,
          5.71,
          5.71,
          5.66,
          5.69,
          5.68,
          5.7,
          5.7,
          5.69,
          5.67,
          5.68,
          5.69,
          5.72,
          5.7,
          5.74,
          5.73,
          5.71,
          5.79,
          5.72,
          5.72,
          5.76,
          5.73,
          5.71,
          5.79,
          5.72,
          5.72,
          5.76,
          5.73,
          5.72,
          5.72,
          5.69,
          5.72,
          5.73,
          5.66,
          5.73,
          5.71,
          5.73,
          5.7,
          5.73,
          5.64,
          5.64,
          5.65,
          5.71,
          5.68,
          5.71,
          5.66,
          5.68,
          5.75,
          5.73,
          5.74,
          5.75,
          5.75,
          5.73,
          5.75,
          5.7,
          5.72,
          5.81,
          5.73,
          5.74,
          5.73,
          5.74,
          5.75,
          5.74,
          5.74,
          5.72,
          5.72,
          5.73,
          5.72,
          5.75,
          5.73,
          5.73,
          5,
          5.09,
          5.1,
          5.1,
          5.1,
          5.12
         ],
         "xaxis": "x",
         "yaxis": "y"
        },
        {
         "alignmentgroup": "True",
         "bingroup": "x",
         "hovertemplate": "variable=прочность при сдвиге<br>value=%{x}<br>count=%{y}<extra></extra>",
         "legendgroup": "прочность при сдвиге",
         "marker": {
          "color": "#FFA15A",
          "pattern": {
           "shape": ""
          }
         },
         "name": "прочность при сдвиге",
         "offsetgroup": "прочность при сдвиге",
         "orientation": "v",
         "showlegend": true,
         "type": "histogram",
         "x": [
          77,
          76,
          76,
          75,
          77,
          77,
          73.5,
          71,
          73,
          72,
          73.5,
          72.5,
          70,
          71.5,
          70,
          71,
          71,
          73,
          71,
          71,
          73.5,
          73,
          73.5,
          70,
          73,
          74.5,
          71.5,
          72.5,
          72.5,
          73,
          73.5,
          72.5,
          71.5,
          72,
          72.5,
          73.5,
          72,
          73.5,
          71,
          73,
          71.5,
          73,
          72,
          72,
          73,
          73,
          73,
          72,
          72,
          73,
          71,
          71,
          71,
          72,
          75,
          71,
          72,
          74,
          73,
          73,
          75.9,
          73.8,
          74.3,
          75,
          76.9,
          73.7,
          73.8,
          74.3,
          75,
          77.5,
          74.9,
          75.3,
          72,
          72,
          73,
          72,
          74,
          73,
          76.7,
          75.7,
          75.3,
          75.8,
          77.5,
          77.1,
          75.5,
          75.6,
          74.8,
          76.7,
          77.5,
          75.4,
          73,
          75,
          75,
          76,
          75,
          74,
          74.5,
          73,
          76,
          70.5,
          74.5,
          74.5,
          72.5,
          72.5,
          73,
          72.5,
          74,
          74,
          71.5,
          73.5,
          71.5,
          73,
          72,
          72,
          60,
          75,
          74,
          71,
          73,
          70,
          75,
          73,
          70,
          71,
          76,
          63,
          75,
          77,
          75,
          75,
          76,
          75,
          77,
          75,
          75,
          76,
          77,
          75,
          75,
          75,
          75,
          77,
          75,
          76,
          75,
          75,
          76,
          76,
          75,
          76,
          74,
          68,
          71,
          67,
          73,
          70,
          73,
          70,
          69,
          69,
          71,
          71,
          75,
          78,
          76,
          75,
          77,
          75,
          73,
          78,
          74,
          74,
          80,
          77,
          76,
          75,
          76,
          77,
          75,
          75,
          79,
          76,
          75,
          75,
          75,
          78,
          76,
          76,
          77,
          75,
          72,
          72
         ],
         "xaxis": "x",
         "yaxis": "y"
        }
       ],
       "layout": {
        "barmode": "relative",
        "legend": {
         "title": {
          "text": "variable"
         },
         "tracegroupgap": 0
        },
        "margin": {
         "t": 60
        },
        "template": {
         "data": {
          "bar": [
           {
            "error_x": {
             "color": "#2a3f5f"
            },
            "error_y": {
             "color": "#2a3f5f"
            },
            "marker": {
             "line": {
              "color": "#E5ECF6",
              "width": 0.5
             },
             "pattern": {
              "fillmode": "overlay",
              "size": 10,
              "solidity": 0.2
             }
            },
            "type": "bar"
           }
          ],
          "barpolar": [
           {
            "marker": {
             "line": {
              "color": "#E5ECF6",
              "width": 0.5
             },
             "pattern": {
              "fillmode": "overlay",
              "size": 10,
              "solidity": 0.2
             }
            },
            "type": "barpolar"
           }
          ],
          "carpet": [
           {
            "aaxis": {
             "endlinecolor": "#2a3f5f",
             "gridcolor": "white",
             "linecolor": "white",
             "minorgridcolor": "white",
             "startlinecolor": "#2a3f5f"
            },
            "baxis": {
             "endlinecolor": "#2a3f5f",
             "gridcolor": "white",
             "linecolor": "white",
             "minorgridcolor": "white",
             "startlinecolor": "#2a3f5f"
            },
            "type": "carpet"
           }
          ],
          "choropleth": [
           {
            "colorbar": {
             "outlinewidth": 0,
             "ticks": ""
            },
            "type": "choropleth"
           }
          ],
          "contour": [
           {
            "colorbar": {
             "outlinewidth": 0,
             "ticks": ""
            },
            "colorscale": [
             [
              0,
              "#0d0887"
             ],
             [
              0.1111111111111111,
              "#46039f"
             ],
             [
              0.2222222222222222,
              "#7201a8"
             ],
             [
              0.3333333333333333,
              "#9c179e"
             ],
             [
              0.4444444444444444,
              "#bd3786"
             ],
             [
              0.5555555555555556,
              "#d8576b"
             ],
             [
              0.6666666666666666,
              "#ed7953"
             ],
             [
              0.7777777777777778,
              "#fb9f3a"
             ],
             [
              0.8888888888888888,
              "#fdca26"
             ],
             [
              1,
              "#f0f921"
             ]
            ],
            "type": "contour"
           }
          ],
          "contourcarpet": [
           {
            "colorbar": {
             "outlinewidth": 0,
             "ticks": ""
            },
            "type": "contourcarpet"
           }
          ],
          "heatmap": [
           {
            "colorbar": {
             "outlinewidth": 0,
             "ticks": ""
            },
            "colorscale": [
             [
              0,
              "#0d0887"
             ],
             [
              0.1111111111111111,
              "#46039f"
             ],
             [
              0.2222222222222222,
              "#7201a8"
             ],
             [
              0.3333333333333333,
              "#9c179e"
             ],
             [
              0.4444444444444444,
              "#bd3786"
             ],
             [
              0.5555555555555556,
              "#d8576b"
             ],
             [
              0.6666666666666666,
              "#ed7953"
             ],
             [
              0.7777777777777778,
              "#fb9f3a"
             ],
             [
              0.8888888888888888,
              "#fdca26"
             ],
             [
              1,
              "#f0f921"
             ]
            ],
            "type": "heatmap"
           }
          ],
          "heatmapgl": [
           {
            "colorbar": {
             "outlinewidth": 0,
             "ticks": ""
            },
            "colorscale": [
             [
              0,
              "#0d0887"
             ],
             [
              0.1111111111111111,
              "#46039f"
             ],
             [
              0.2222222222222222,
              "#7201a8"
             ],
             [
              0.3333333333333333,
              "#9c179e"
             ],
             [
              0.4444444444444444,
              "#bd3786"
             ],
             [
              0.5555555555555556,
              "#d8576b"
             ],
             [
              0.6666666666666666,
              "#ed7953"
             ],
             [
              0.7777777777777778,
              "#fb9f3a"
             ],
             [
              0.8888888888888888,
              "#fdca26"
             ],
             [
              1,
              "#f0f921"
             ]
            ],
            "type": "heatmapgl"
           }
          ],
          "histogram": [
           {
            "marker": {
             "pattern": {
              "fillmode": "overlay",
              "size": 10,
              "solidity": 0.2
             }
            },
            "type": "histogram"
           }
          ],
          "histogram2d": [
           {
            "colorbar": {
             "outlinewidth": 0,
             "ticks": ""
            },
            "colorscale": [
             [
              0,
              "#0d0887"
             ],
             [
              0.1111111111111111,
              "#46039f"
             ],
             [
              0.2222222222222222,
              "#7201a8"
             ],
             [
              0.3333333333333333,
              "#9c179e"
             ],
             [
              0.4444444444444444,
              "#bd3786"
             ],
             [
              0.5555555555555556,
              "#d8576b"
             ],
             [
              0.6666666666666666,
              "#ed7953"
             ],
             [
              0.7777777777777778,
              "#fb9f3a"
             ],
             [
              0.8888888888888888,
              "#fdca26"
             ],
             [
              1,
              "#f0f921"
             ]
            ],
            "type": "histogram2d"
           }
          ],
          "histogram2dcontour": [
           {
            "colorbar": {
             "outlinewidth": 0,
             "ticks": ""
            },
            "colorscale": [
             [
              0,
              "#0d0887"
             ],
             [
              0.1111111111111111,
              "#46039f"
             ],
             [
              0.2222222222222222,
              "#7201a8"
             ],
             [
              0.3333333333333333,
              "#9c179e"
             ],
             [
              0.4444444444444444,
              "#bd3786"
             ],
             [
              0.5555555555555556,
              "#d8576b"
             ],
             [
              0.6666666666666666,
              "#ed7953"
             ],
             [
              0.7777777777777778,
              "#fb9f3a"
             ],
             [
              0.8888888888888888,
              "#fdca26"
             ],
             [
              1,
              "#f0f921"
             ]
            ],
            "type": "histogram2dcontour"
           }
          ],
          "mesh3d": [
           {
            "colorbar": {
             "outlinewidth": 0,
             "ticks": ""
            },
            "type": "mesh3d"
           }
          ],
          "parcoords": [
           {
            "line": {
             "colorbar": {
              "outlinewidth": 0,
              "ticks": ""
             }
            },
            "type": "parcoords"
           }
          ],
          "pie": [
           {
            "automargin": true,
            "type": "pie"
           }
          ],
          "scatter": [
           {
            "marker": {
             "colorbar": {
              "outlinewidth": 0,
              "ticks": ""
             }
            },
            "type": "scatter"
           }
          ],
          "scatter3d": [
           {
            "line": {
             "colorbar": {
              "outlinewidth": 0,
              "ticks": ""
             }
            },
            "marker": {
             "colorbar": {
              "outlinewidth": 0,
              "ticks": ""
             }
            },
            "type": "scatter3d"
           }
          ],
          "scattercarpet": [
           {
            "marker": {
             "colorbar": {
              "outlinewidth": 0,
              "ticks": ""
             }
            },
            "type": "scattercarpet"
           }
          ],
          "scattergeo": [
           {
            "marker": {
             "colorbar": {
              "outlinewidth": 0,
              "ticks": ""
             }
            },
            "type": "scattergeo"
           }
          ],
          "scattergl": [
           {
            "marker": {
             "colorbar": {
              "outlinewidth": 0,
              "ticks": ""
             }
            },
            "type": "scattergl"
           }
          ],
          "scattermapbox": [
           {
            "marker": {
             "colorbar": {
              "outlinewidth": 0,
              "ticks": ""
             }
            },
            "type": "scattermapbox"
           }
          ],
          "scatterpolar": [
           {
            "marker": {
             "colorbar": {
              "outlinewidth": 0,
              "ticks": ""
             }
            },
            "type": "scatterpolar"
           }
          ],
          "scatterpolargl": [
           {
            "marker": {
             "colorbar": {
              "outlinewidth": 0,
              "ticks": ""
             }
            },
            "type": "scatterpolargl"
           }
          ],
          "scatterternary": [
           {
            "marker": {
             "colorbar": {
              "outlinewidth": 0,
              "ticks": ""
             }
            },
            "type": "scatterternary"
           }
          ],
          "surface": [
           {
            "colorbar": {
             "outlinewidth": 0,
             "ticks": ""
            },
            "colorscale": [
             [
              0,
              "#0d0887"
             ],
             [
              0.1111111111111111,
              "#46039f"
             ],
             [
              0.2222222222222222,
              "#7201a8"
             ],
             [
              0.3333333333333333,
              "#9c179e"
             ],
             [
              0.4444444444444444,
              "#bd3786"
             ],
             [
              0.5555555555555556,
              "#d8576b"
             ],
             [
              0.6666666666666666,
              "#ed7953"
             ],
             [
              0.7777777777777778,
              "#fb9f3a"
             ],
             [
              0.8888888888888888,
              "#fdca26"
             ],
             [
              1,
              "#f0f921"
             ]
            ],
            "type": "surface"
           }
          ],
          "table": [
           {
            "cells": {
             "fill": {
              "color": "#EBF0F8"
             },
             "line": {
              "color": "white"
             }
            },
            "header": {
             "fill": {
              "color": "#C8D4E3"
             },
             "line": {
              "color": "white"
             }
            },
            "type": "table"
           }
          ]
         },
         "layout": {
          "annotationdefaults": {
           "arrowcolor": "#2a3f5f",
           "arrowhead": 0,
           "arrowwidth": 1
          },
          "autotypenumbers": "strict",
          "coloraxis": {
           "colorbar": {
            "outlinewidth": 0,
            "ticks": ""
           }
          },
          "colorscale": {
           "diverging": [
            [
             0,
             "#8e0152"
            ],
            [
             0.1,
             "#c51b7d"
            ],
            [
             0.2,
             "#de77ae"
            ],
            [
             0.3,
             "#f1b6da"
            ],
            [
             0.4,
             "#fde0ef"
            ],
            [
             0.5,
             "#f7f7f7"
            ],
            [
             0.6,
             "#e6f5d0"
            ],
            [
             0.7,
             "#b8e186"
            ],
            [
             0.8,
             "#7fbc41"
            ],
            [
             0.9,
             "#4d9221"
            ],
            [
             1,
             "#276419"
            ]
           ],
           "sequential": [
            [
             0,
             "#0d0887"
            ],
            [
             0.1111111111111111,
             "#46039f"
            ],
            [
             0.2222222222222222,
             "#7201a8"
            ],
            [
             0.3333333333333333,
             "#9c179e"
            ],
            [
             0.4444444444444444,
             "#bd3786"
            ],
            [
             0.5555555555555556,
             "#d8576b"
            ],
            [
             0.6666666666666666,
             "#ed7953"
            ],
            [
             0.7777777777777778,
             "#fb9f3a"
            ],
            [
             0.8888888888888888,
             "#fdca26"
            ],
            [
             1,
             "#f0f921"
            ]
           ],
           "sequentialminus": [
            [
             0,
             "#0d0887"
            ],
            [
             0.1111111111111111,
             "#46039f"
            ],
            [
             0.2222222222222222,
             "#7201a8"
            ],
            [
             0.3333333333333333,
             "#9c179e"
            ],
            [
             0.4444444444444444,
             "#bd3786"
            ],
            [
             0.5555555555555556,
             "#d8576b"
            ],
            [
             0.6666666666666666,
             "#ed7953"
            ],
            [
             0.7777777777777778,
             "#fb9f3a"
            ],
            [
             0.8888888888888888,
             "#fdca26"
            ],
            [
             1,
             "#f0f921"
            ]
           ]
          },
          "colorway": [
           "#636efa",
           "#EF553B",
           "#00cc96",
           "#ab63fa",
           "#FFA15A",
           "#19d3f3",
           "#FF6692",
           "#B6E880",
           "#FF97FF",
           "#FECB52"
          ],
          "font": {
           "color": "#2a3f5f"
          },
          "geo": {
           "bgcolor": "white",
           "lakecolor": "white",
           "landcolor": "#E5ECF6",
           "showlakes": true,
           "showland": true,
           "subunitcolor": "white"
          },
          "hoverlabel": {
           "align": "left"
          },
          "hovermode": "closest",
          "mapbox": {
           "style": "light"
          },
          "paper_bgcolor": "white",
          "plot_bgcolor": "#E5ECF6",
          "polar": {
           "angularaxis": {
            "gridcolor": "white",
            "linecolor": "white",
            "ticks": ""
           },
           "bgcolor": "#E5ECF6",
           "radialaxis": {
            "gridcolor": "white",
            "linecolor": "white",
            "ticks": ""
           }
          },
          "scene": {
           "xaxis": {
            "backgroundcolor": "#E5ECF6",
            "gridcolor": "white",
            "gridwidth": 2,
            "linecolor": "white",
            "showbackground": true,
            "ticks": "",
            "zerolinecolor": "white"
           },
           "yaxis": {
            "backgroundcolor": "#E5ECF6",
            "gridcolor": "white",
            "gridwidth": 2,
            "linecolor": "white",
            "showbackground": true,
            "ticks": "",
            "zerolinecolor": "white"
           },
           "zaxis": {
            "backgroundcolor": "#E5ECF6",
            "gridcolor": "white",
            "gridwidth": 2,
            "linecolor": "white",
            "showbackground": true,
            "ticks": "",
            "zerolinecolor": "white"
           }
          },
          "shapedefaults": {
           "line": {
            "color": "#2a3f5f"
           }
          },
          "ternary": {
           "aaxis": {
            "gridcolor": "white",
            "linecolor": "white",
            "ticks": ""
           },
           "baxis": {
            "gridcolor": "white",
            "linecolor": "white",
            "ticks": ""
           },
           "bgcolor": "#E5ECF6",
           "caxis": {
            "gridcolor": "white",
            "linecolor": "white",
            "ticks": ""
           }
          },
          "title": {
           "x": 0.05
          },
          "xaxis": {
           "automargin": true,
           "gridcolor": "white",
           "linecolor": "white",
           "ticks": "",
           "title": {
            "standoff": 15
           },
           "zerolinecolor": "white",
           "zerolinewidth": 2
          },
          "yaxis": {
           "automargin": true,
           "gridcolor": "white",
           "linecolor": "white",
           "ticks": "",
           "title": {
            "standoff": 15
           },
           "zerolinecolor": "white",
           "zerolinewidth": 2
          }
         }
        },
        "xaxis": {
         "anchor": "y",
         "domain": [
          0,
          1
         ],
         "title": {
          "text": "value"
         }
        },
        "yaxis": {
         "anchor": "x",
         "domain": [
          0,
          1
         ],
         "title": {
          "text": "count"
         }
        }
       }
      }
     },
     "metadata": {},
     "output_type": "display_data"
    }
   ],
   "source": [
    "hist_2 = px.histogram(data_frame=df)\n",
    "hist_2.show()"
   ]
  },
  {
   "cell_type": "code",
   "execution_count": 32,
   "metadata": {},
   "outputs": [
    {
     "data": {
      "application/vnd.plotly.v1+json": {
       "config": {
        "plotlyServerURL": "https://plot.ly"
       },
       "data": [
        {
         "alignmentgroup": "True",
         "bingroup": "x",
         "histnorm": "percent",
         "hovertemplate": "прочность при сдвиге=%{x}<br>percent=%{y}<extra></extra>",
         "legendgroup": "",
         "marker": {
          "color": "#636efa",
          "pattern": {
           "shape": ""
          }
         },
         "name": "",
         "offsetgroup": "",
         "orientation": "v",
         "showlegend": false,
         "type": "histogram",
         "x": [
          77,
          76,
          76,
          75,
          77,
          77,
          73.5,
          71,
          73,
          72,
          73.5,
          72.5,
          70,
          71.5,
          70,
          71,
          71,
          73,
          71,
          71,
          73.5,
          73,
          73.5,
          70,
          73,
          74.5,
          71.5,
          72.5,
          72.5,
          73,
          73.5,
          72.5,
          71.5,
          72,
          72.5,
          73.5,
          72,
          73.5,
          71,
          73,
          71.5,
          73,
          72,
          72,
          73,
          73,
          73,
          72,
          72,
          73,
          71,
          71,
          71,
          72,
          75,
          71,
          72,
          74,
          73,
          73,
          75.9,
          73.8,
          74.3,
          75,
          76.9,
          73.7,
          73.8,
          74.3,
          75,
          77.5,
          74.9,
          75.3,
          72,
          72,
          73,
          72,
          74,
          73,
          76.7,
          75.7,
          75.3,
          75.8,
          77.5,
          77.1,
          75.5,
          75.6,
          74.8,
          76.7,
          77.5,
          75.4,
          73,
          75,
          75,
          76,
          75,
          74,
          74.5,
          73,
          76,
          70.5,
          74.5,
          74.5,
          72.5,
          72.5,
          73,
          72.5,
          74,
          74,
          71.5,
          73.5,
          71.5,
          73,
          72,
          72,
          60,
          75,
          74,
          71,
          73,
          70,
          75,
          73,
          70,
          71,
          76,
          63,
          75,
          77,
          75,
          75,
          76,
          75,
          77,
          75,
          75,
          76,
          77,
          75,
          75,
          75,
          75,
          77,
          75,
          76,
          75,
          75,
          76,
          76,
          75,
          76,
          74,
          68,
          71,
          67,
          73,
          70,
          73,
          70,
          69,
          69,
          71,
          71,
          75,
          78,
          76,
          75,
          77,
          75,
          73,
          78,
          74,
          74,
          80,
          77,
          76,
          75,
          76,
          77,
          75,
          75,
          79,
          76,
          75,
          75,
          75,
          78,
          76,
          76,
          77,
          75,
          72,
          72
         ],
         "xaxis": "x",
         "yaxis": "y"
        },
        {
         "alignmentgroup": "True",
         "hovertemplate": "прочность при сдвиге=%{x}<extra></extra>",
         "legendgroup": "",
         "marker": {
          "color": "#636efa"
         },
         "name": "",
         "notched": true,
         "offsetgroup": "",
         "showlegend": false,
         "type": "box",
         "x": [
          77,
          76,
          76,
          75,
          77,
          77,
          73.5,
          71,
          73,
          72,
          73.5,
          72.5,
          70,
          71.5,
          70,
          71,
          71,
          73,
          71,
          71,
          73.5,
          73,
          73.5,
          70,
          73,
          74.5,
          71.5,
          72.5,
          72.5,
          73,
          73.5,
          72.5,
          71.5,
          72,
          72.5,
          73.5,
          72,
          73.5,
          71,
          73,
          71.5,
          73,
          72,
          72,
          73,
          73,
          73,
          72,
          72,
          73,
          71,
          71,
          71,
          72,
          75,
          71,
          72,
          74,
          73,
          73,
          75.9,
          73.8,
          74.3,
          75,
          76.9,
          73.7,
          73.8,
          74.3,
          75,
          77.5,
          74.9,
          75.3,
          72,
          72,
          73,
          72,
          74,
          73,
          76.7,
          75.7,
          75.3,
          75.8,
          77.5,
          77.1,
          75.5,
          75.6,
          74.8,
          76.7,
          77.5,
          75.4,
          73,
          75,
          75,
          76,
          75,
          74,
          74.5,
          73,
          76,
          70.5,
          74.5,
          74.5,
          72.5,
          72.5,
          73,
          72.5,
          74,
          74,
          71.5,
          73.5,
          71.5,
          73,
          72,
          72,
          60,
          75,
          74,
          71,
          73,
          70,
          75,
          73,
          70,
          71,
          76,
          63,
          75,
          77,
          75,
          75,
          76,
          75,
          77,
          75,
          75,
          76,
          77,
          75,
          75,
          75,
          75,
          77,
          75,
          76,
          75,
          75,
          76,
          76,
          75,
          76,
          74,
          68,
          71,
          67,
          73,
          70,
          73,
          70,
          69,
          69,
          71,
          71,
          75,
          78,
          76,
          75,
          77,
          75,
          73,
          78,
          74,
          74,
          80,
          77,
          76,
          75,
          76,
          77,
          75,
          75,
          79,
          76,
          75,
          75,
          75,
          78,
          76,
          76,
          77,
          75,
          72,
          72
         ],
         "xaxis": "x2",
         "yaxis": "y2"
        }
       ],
       "layout": {
        "barmode": "relative",
        "height": 500,
        "legend": {
         "tracegroupgap": 0
        },
        "template": {
         "data": {
          "bar": [
           {
            "error_x": {
             "color": "#2a3f5f"
            },
            "error_y": {
             "color": "#2a3f5f"
            },
            "marker": {
             "line": {
              "color": "#E5ECF6",
              "width": 0.5
             },
             "pattern": {
              "fillmode": "overlay",
              "size": 10,
              "solidity": 0.2
             }
            },
            "type": "bar"
           }
          ],
          "barpolar": [
           {
            "marker": {
             "line": {
              "color": "#E5ECF6",
              "width": 0.5
             },
             "pattern": {
              "fillmode": "overlay",
              "size": 10,
              "solidity": 0.2
             }
            },
            "type": "barpolar"
           }
          ],
          "carpet": [
           {
            "aaxis": {
             "endlinecolor": "#2a3f5f",
             "gridcolor": "white",
             "linecolor": "white",
             "minorgridcolor": "white",
             "startlinecolor": "#2a3f5f"
            },
            "baxis": {
             "endlinecolor": "#2a3f5f",
             "gridcolor": "white",
             "linecolor": "white",
             "minorgridcolor": "white",
             "startlinecolor": "#2a3f5f"
            },
            "type": "carpet"
           }
          ],
          "choropleth": [
           {
            "colorbar": {
             "outlinewidth": 0,
             "ticks": ""
            },
            "type": "choropleth"
           }
          ],
          "contour": [
           {
            "colorbar": {
             "outlinewidth": 0,
             "ticks": ""
            },
            "colorscale": [
             [
              0,
              "#0d0887"
             ],
             [
              0.1111111111111111,
              "#46039f"
             ],
             [
              0.2222222222222222,
              "#7201a8"
             ],
             [
              0.3333333333333333,
              "#9c179e"
             ],
             [
              0.4444444444444444,
              "#bd3786"
             ],
             [
              0.5555555555555556,
              "#d8576b"
             ],
             [
              0.6666666666666666,
              "#ed7953"
             ],
             [
              0.7777777777777778,
              "#fb9f3a"
             ],
             [
              0.8888888888888888,
              "#fdca26"
             ],
             [
              1,
              "#f0f921"
             ]
            ],
            "type": "contour"
           }
          ],
          "contourcarpet": [
           {
            "colorbar": {
             "outlinewidth": 0,
             "ticks": ""
            },
            "type": "contourcarpet"
           }
          ],
          "heatmap": [
           {
            "colorbar": {
             "outlinewidth": 0,
             "ticks": ""
            },
            "colorscale": [
             [
              0,
              "#0d0887"
             ],
             [
              0.1111111111111111,
              "#46039f"
             ],
             [
              0.2222222222222222,
              "#7201a8"
             ],
             [
              0.3333333333333333,
              "#9c179e"
             ],
             [
              0.4444444444444444,
              "#bd3786"
             ],
             [
              0.5555555555555556,
              "#d8576b"
             ],
             [
              0.6666666666666666,
              "#ed7953"
             ],
             [
              0.7777777777777778,
              "#fb9f3a"
             ],
             [
              0.8888888888888888,
              "#fdca26"
             ],
             [
              1,
              "#f0f921"
             ]
            ],
            "type": "heatmap"
           }
          ],
          "heatmapgl": [
           {
            "colorbar": {
             "outlinewidth": 0,
             "ticks": ""
            },
            "colorscale": [
             [
              0,
              "#0d0887"
             ],
             [
              0.1111111111111111,
              "#46039f"
             ],
             [
              0.2222222222222222,
              "#7201a8"
             ],
             [
              0.3333333333333333,
              "#9c179e"
             ],
             [
              0.4444444444444444,
              "#bd3786"
             ],
             [
              0.5555555555555556,
              "#d8576b"
             ],
             [
              0.6666666666666666,
              "#ed7953"
             ],
             [
              0.7777777777777778,
              "#fb9f3a"
             ],
             [
              0.8888888888888888,
              "#fdca26"
             ],
             [
              1,
              "#f0f921"
             ]
            ],
            "type": "heatmapgl"
           }
          ],
          "histogram": [
           {
            "marker": {
             "pattern": {
              "fillmode": "overlay",
              "size": 10,
              "solidity": 0.2
             }
            },
            "type": "histogram"
           }
          ],
          "histogram2d": [
           {
            "colorbar": {
             "outlinewidth": 0,
             "ticks": ""
            },
            "colorscale": [
             [
              0,
              "#0d0887"
             ],
             [
              0.1111111111111111,
              "#46039f"
             ],
             [
              0.2222222222222222,
              "#7201a8"
             ],
             [
              0.3333333333333333,
              "#9c179e"
             ],
             [
              0.4444444444444444,
              "#bd3786"
             ],
             [
              0.5555555555555556,
              "#d8576b"
             ],
             [
              0.6666666666666666,
              "#ed7953"
             ],
             [
              0.7777777777777778,
              "#fb9f3a"
             ],
             [
              0.8888888888888888,
              "#fdca26"
             ],
             [
              1,
              "#f0f921"
             ]
            ],
            "type": "histogram2d"
           }
          ],
          "histogram2dcontour": [
           {
            "colorbar": {
             "outlinewidth": 0,
             "ticks": ""
            },
            "colorscale": [
             [
              0,
              "#0d0887"
             ],
             [
              0.1111111111111111,
              "#46039f"
             ],
             [
              0.2222222222222222,
              "#7201a8"
             ],
             [
              0.3333333333333333,
              "#9c179e"
             ],
             [
              0.4444444444444444,
              "#bd3786"
             ],
             [
              0.5555555555555556,
              "#d8576b"
             ],
             [
              0.6666666666666666,
              "#ed7953"
             ],
             [
              0.7777777777777778,
              "#fb9f3a"
             ],
             [
              0.8888888888888888,
              "#fdca26"
             ],
             [
              1,
              "#f0f921"
             ]
            ],
            "type": "histogram2dcontour"
           }
          ],
          "mesh3d": [
           {
            "colorbar": {
             "outlinewidth": 0,
             "ticks": ""
            },
            "type": "mesh3d"
           }
          ],
          "parcoords": [
           {
            "line": {
             "colorbar": {
              "outlinewidth": 0,
              "ticks": ""
             }
            },
            "type": "parcoords"
           }
          ],
          "pie": [
           {
            "automargin": true,
            "type": "pie"
           }
          ],
          "scatter": [
           {
            "marker": {
             "colorbar": {
              "outlinewidth": 0,
              "ticks": ""
             }
            },
            "type": "scatter"
           }
          ],
          "scatter3d": [
           {
            "line": {
             "colorbar": {
              "outlinewidth": 0,
              "ticks": ""
             }
            },
            "marker": {
             "colorbar": {
              "outlinewidth": 0,
              "ticks": ""
             }
            },
            "type": "scatter3d"
           }
          ],
          "scattercarpet": [
           {
            "marker": {
             "colorbar": {
              "outlinewidth": 0,
              "ticks": ""
             }
            },
            "type": "scattercarpet"
           }
          ],
          "scattergeo": [
           {
            "marker": {
             "colorbar": {
              "outlinewidth": 0,
              "ticks": ""
             }
            },
            "type": "scattergeo"
           }
          ],
          "scattergl": [
           {
            "marker": {
             "colorbar": {
              "outlinewidth": 0,
              "ticks": ""
             }
            },
            "type": "scattergl"
           }
          ],
          "scattermapbox": [
           {
            "marker": {
             "colorbar": {
              "outlinewidth": 0,
              "ticks": ""
             }
            },
            "type": "scattermapbox"
           }
          ],
          "scatterpolar": [
           {
            "marker": {
             "colorbar": {
              "outlinewidth": 0,
              "ticks": ""
             }
            },
            "type": "scatterpolar"
           }
          ],
          "scatterpolargl": [
           {
            "marker": {
             "colorbar": {
              "outlinewidth": 0,
              "ticks": ""
             }
            },
            "type": "scatterpolargl"
           }
          ],
          "scatterternary": [
           {
            "marker": {
             "colorbar": {
              "outlinewidth": 0,
              "ticks": ""
             }
            },
            "type": "scatterternary"
           }
          ],
          "surface": [
           {
            "colorbar": {
             "outlinewidth": 0,
             "ticks": ""
            },
            "colorscale": [
             [
              0,
              "#0d0887"
             ],
             [
              0.1111111111111111,
              "#46039f"
             ],
             [
              0.2222222222222222,
              "#7201a8"
             ],
             [
              0.3333333333333333,
              "#9c179e"
             ],
             [
              0.4444444444444444,
              "#bd3786"
             ],
             [
              0.5555555555555556,
              "#d8576b"
             ],
             [
              0.6666666666666666,
              "#ed7953"
             ],
             [
              0.7777777777777778,
              "#fb9f3a"
             ],
             [
              0.8888888888888888,
              "#fdca26"
             ],
             [
              1,
              "#f0f921"
             ]
            ],
            "type": "surface"
           }
          ],
          "table": [
           {
            "cells": {
             "fill": {
              "color": "#EBF0F8"
             },
             "line": {
              "color": "white"
             }
            },
            "header": {
             "fill": {
              "color": "#C8D4E3"
             },
             "line": {
              "color": "white"
             }
            },
            "type": "table"
           }
          ]
         },
         "layout": {
          "annotationdefaults": {
           "arrowcolor": "#2a3f5f",
           "arrowhead": 0,
           "arrowwidth": 1
          },
          "autotypenumbers": "strict",
          "coloraxis": {
           "colorbar": {
            "outlinewidth": 0,
            "ticks": ""
           }
          },
          "colorscale": {
           "diverging": [
            [
             0,
             "#8e0152"
            ],
            [
             0.1,
             "#c51b7d"
            ],
            [
             0.2,
             "#de77ae"
            ],
            [
             0.3,
             "#f1b6da"
            ],
            [
             0.4,
             "#fde0ef"
            ],
            [
             0.5,
             "#f7f7f7"
            ],
            [
             0.6,
             "#e6f5d0"
            ],
            [
             0.7,
             "#b8e186"
            ],
            [
             0.8,
             "#7fbc41"
            ],
            [
             0.9,
             "#4d9221"
            ],
            [
             1,
             "#276419"
            ]
           ],
           "sequential": [
            [
             0,
             "#0d0887"
            ],
            [
             0.1111111111111111,
             "#46039f"
            ],
            [
             0.2222222222222222,
             "#7201a8"
            ],
            [
             0.3333333333333333,
             "#9c179e"
            ],
            [
             0.4444444444444444,
             "#bd3786"
            ],
            [
             0.5555555555555556,
             "#d8576b"
            ],
            [
             0.6666666666666666,
             "#ed7953"
            ],
            [
             0.7777777777777778,
             "#fb9f3a"
            ],
            [
             0.8888888888888888,
             "#fdca26"
            ],
            [
             1,
             "#f0f921"
            ]
           ],
           "sequentialminus": [
            [
             0,
             "#0d0887"
            ],
            [
             0.1111111111111111,
             "#46039f"
            ],
            [
             0.2222222222222222,
             "#7201a8"
            ],
            [
             0.3333333333333333,
             "#9c179e"
            ],
            [
             0.4444444444444444,
             "#bd3786"
            ],
            [
             0.5555555555555556,
             "#d8576b"
            ],
            [
             0.6666666666666666,
             "#ed7953"
            ],
            [
             0.7777777777777778,
             "#fb9f3a"
            ],
            [
             0.8888888888888888,
             "#fdca26"
            ],
            [
             1,
             "#f0f921"
            ]
           ]
          },
          "colorway": [
           "#636efa",
           "#EF553B",
           "#00cc96",
           "#ab63fa",
           "#FFA15A",
           "#19d3f3",
           "#FF6692",
           "#B6E880",
           "#FF97FF",
           "#FECB52"
          ],
          "font": {
           "color": "#2a3f5f"
          },
          "geo": {
           "bgcolor": "white",
           "lakecolor": "white",
           "landcolor": "#E5ECF6",
           "showlakes": true,
           "showland": true,
           "subunitcolor": "white"
          },
          "hoverlabel": {
           "align": "left"
          },
          "hovermode": "closest",
          "mapbox": {
           "style": "light"
          },
          "paper_bgcolor": "white",
          "plot_bgcolor": "#E5ECF6",
          "polar": {
           "angularaxis": {
            "gridcolor": "white",
            "linecolor": "white",
            "ticks": ""
           },
           "bgcolor": "#E5ECF6",
           "radialaxis": {
            "gridcolor": "white",
            "linecolor": "white",
            "ticks": ""
           }
          },
          "scene": {
           "xaxis": {
            "backgroundcolor": "#E5ECF6",
            "gridcolor": "white",
            "gridwidth": 2,
            "linecolor": "white",
            "showbackground": true,
            "ticks": "",
            "zerolinecolor": "white"
           },
           "yaxis": {
            "backgroundcolor": "#E5ECF6",
            "gridcolor": "white",
            "gridwidth": 2,
            "linecolor": "white",
            "showbackground": true,
            "ticks": "",
            "zerolinecolor": "white"
           },
           "zaxis": {
            "backgroundcolor": "#E5ECF6",
            "gridcolor": "white",
            "gridwidth": 2,
            "linecolor": "white",
            "showbackground": true,
            "ticks": "",
            "zerolinecolor": "white"
           }
          },
          "shapedefaults": {
           "line": {
            "color": "#2a3f5f"
           }
          },
          "ternary": {
           "aaxis": {
            "gridcolor": "white",
            "linecolor": "white",
            "ticks": ""
           },
           "baxis": {
            "gridcolor": "white",
            "linecolor": "white",
            "ticks": ""
           },
           "bgcolor": "#E5ECF6",
           "caxis": {
            "gridcolor": "white",
            "linecolor": "white",
            "ticks": ""
           }
          },
          "title": {
           "x": 0.05
          },
          "xaxis": {
           "automargin": true,
           "gridcolor": "white",
           "linecolor": "white",
           "ticks": "",
           "title": {
            "standoff": 15
           },
           "zerolinecolor": "white",
           "zerolinewidth": 2
          },
          "yaxis": {
           "automargin": true,
           "gridcolor": "white",
           "linecolor": "white",
           "ticks": "",
           "title": {
            "standoff": 15
           },
           "zerolinecolor": "white",
           "zerolinewidth": 2
          }
         }
        },
        "title": {
         "text": "Распределение возраста соискателей"
        },
        "width": 1000,
        "xaxis": {
         "anchor": "y",
         "domain": [
          0,
          1
         ],
         "title": {
          "text": "прочность при сдвиге"
         }
        },
        "xaxis2": {
         "anchor": "y2",
         "domain": [
          0,
          1
         ],
         "matches": "x",
         "showgrid": true,
         "showticklabels": false
        },
        "yaxis": {
         "anchor": "x",
         "domain": [
          0,
          0.8316
         ],
         "title": {
          "text": "percent"
         }
        },
        "yaxis2": {
         "anchor": "x2",
         "domain": [
          0.8416,
          1
         ],
         "matches": "y2",
         "showgrid": false,
         "showline": false,
         "showticklabels": false,
         "ticks": ""
        }
       }
      }
     },
     "metadata": {},
     "output_type": "display_data"
    }
   ],
   "source": [
    "fig = px.histogram(\n",
    "    data_frame=df,\n",
    "    x='прочность при сдвиге',\n",
    "    title='Распределение возраста соискателей',\n",
    "    histnorm='percent',\n",
    "    height = 500,\n",
    "    width = 1000,\n",
    "    marginal='box',\n",
    ")\n",
    "fig.show()"
   ]
  },
  {
   "cell_type": "code",
   "execution_count": 35,
   "metadata": {},
   "outputs": [
    {
     "data": {
      "application/vnd.plotly.v1+json": {
       "config": {
        "plotlyServerURL": "https://plot.ly"
       },
       "data": [
        {
         "hovertemplate": "толщина=%{marker.color}<br>прочность при сдвиге=%{y}<extra></extra>",
         "legendgroup": "",
         "marker": {
          "color": [
           2.62,
           2.6,
           2.59,
           2.6,
           2.6,
           2.62,
           2.54,
           2.56,
           2.6,
           2.6,
           2.58,
           2.57,
           2.64,
           2.59,
           2.6,
           2.61,
           2.63,
           2.62,
           2.6,
           2.62,
           2.64,
           2.6,
           2.63,
           2.62,
           2.61,
           2.62,
           2.59,
           2.57,
           2.59,
           2.6,
           2.57,
           2.63,
           2.62,
           2.59,
           2.62,
           2.63,
           2.63,
           2.64,
           2.6,
           2.63,
           2.62,
           2.58,
           2.62,
           2.6,
           2.58,
           2.59,
           2.58,
           2.57,
           2.6,
           2.58,
           2.6,
           2.58,
           2.6,
           2.59,
           2.64,
           2.64,
           2.64,
           2.64,
           2.63,
           2.63,
           2.62,
           2.61,
           2.59,
           2.6,
           2.62,
           2.62,
           2.59,
           2.62,
           2.6,
           2.62,
           2.6,
           2.6,
           2.63,
           2.68,
           2.65,
           2.66,
           2.64,
           2.64,
           2.61,
           2.63,
           2.62,
           2.6,
           2.59,
           2.61,
           2.62,
           2.62,
           2.61,
           2.62,
           2.6,
           2.64,
           2.81,
           2.8,
           2.81,
           2.81,
           2.81,
           2.78,
           2.64,
           2.66,
           2.63,
           2.72,
           2.69,
           2.66,
           2.65,
           2.65,
           2.66,
           2.66,
           2.66,
           2.65,
           2.6,
           2.61,
           2.62,
           2.62,
           2.62,
           2.6,
           2.64,
           2.64,
           2.64,
           2.59,
           2.56,
           2.59,
           2.54,
           2.59,
           2.58,
           2.61,
           2.59,
           2.57,
           2.71,
           2.69,
           2.68,
           2.65,
           2.69,
           2.67,
           2.69,
           2.68,
           2.67,
           2.67,
           2.74,
           2.67,
           2.66,
           2.68,
           2.65,
           2.73,
           2.63,
           2.69,
           2.67,
           2.7,
           2.67,
           2.7,
           2.63,
           2.7,
           2.48,
           2.48,
           2.46,
           2.48,
           2.49,
           2.47,
           2.49,
           2.45,
           2.45,
           2.51,
           2.45,
           2.45,
           2.53,
           2.53,
           2.52,
           2.57,
           2.53,
           2.57,
           2.53,
           2.51,
           2.51,
           2.51,
           2.52,
           2.53,
           2.52,
           2.56,
           2.53,
           2.54,
           2.58,
           2.52,
           2.54,
           2.54,
           2.52,
           2.53,
           2.55,
           2.53,
           2.52,
           2.52,
           2.52,
           2.52,
           2.55,
           2.57
          ],
          "coloraxis": "coloraxis",
          "symbol": "circle"
         },
         "mode": "markers",
         "name": "",
         "orientation": "v",
         "showlegend": false,
         "type": "scatter",
         "x": [
          2.62,
          2.6,
          2.59,
          2.6,
          2.6,
          2.62,
          2.54,
          2.56,
          2.6,
          2.6,
          2.58,
          2.57,
          2.64,
          2.59,
          2.6,
          2.61,
          2.63,
          2.62,
          2.6,
          2.62,
          2.64,
          2.6,
          2.63,
          2.62,
          2.61,
          2.62,
          2.59,
          2.57,
          2.59,
          2.6,
          2.57,
          2.63,
          2.62,
          2.59,
          2.62,
          2.63,
          2.63,
          2.64,
          2.6,
          2.63,
          2.62,
          2.58,
          2.62,
          2.6,
          2.58,
          2.59,
          2.58,
          2.57,
          2.6,
          2.58,
          2.6,
          2.58,
          2.6,
          2.59,
          2.64,
          2.64,
          2.64,
          2.64,
          2.63,
          2.63,
          2.62,
          2.61,
          2.59,
          2.6,
          2.62,
          2.62,
          2.59,
          2.62,
          2.6,
          2.62,
          2.6,
          2.6,
          2.63,
          2.68,
          2.65,
          2.66,
          2.64,
          2.64,
          2.61,
          2.63,
          2.62,
          2.6,
          2.59,
          2.61,
          2.62,
          2.62,
          2.61,
          2.62,
          2.6,
          2.64,
          2.81,
          2.8,
          2.81,
          2.81,
          2.81,
          2.78,
          2.64,
          2.66,
          2.63,
          2.72,
          2.69,
          2.66,
          2.65,
          2.65,
          2.66,
          2.66,
          2.66,
          2.65,
          2.6,
          2.61,
          2.62,
          2.62,
          2.62,
          2.6,
          2.64,
          2.64,
          2.64,
          2.59,
          2.56,
          2.59,
          2.54,
          2.59,
          2.58,
          2.61,
          2.59,
          2.57,
          2.71,
          2.69,
          2.68,
          2.65,
          2.69,
          2.67,
          2.69,
          2.68,
          2.67,
          2.67,
          2.74,
          2.67,
          2.66,
          2.68,
          2.65,
          2.73,
          2.63,
          2.69,
          2.67,
          2.7,
          2.67,
          2.7,
          2.63,
          2.7,
          2.48,
          2.48,
          2.46,
          2.48,
          2.49,
          2.47,
          2.49,
          2.45,
          2.45,
          2.51,
          2.45,
          2.45,
          2.53,
          2.53,
          2.52,
          2.57,
          2.53,
          2.57,
          2.53,
          2.51,
          2.51,
          2.51,
          2.52,
          2.53,
          2.52,
          2.56,
          2.53,
          2.54,
          2.58,
          2.52,
          2.54,
          2.54,
          2.52,
          2.53,
          2.55,
          2.53,
          2.52,
          2.52,
          2.52,
          2.52,
          2.55,
          2.57
         ],
         "xaxis": "x",
         "y": [
          77,
          76,
          76,
          75,
          77,
          77,
          73.5,
          71,
          73,
          72,
          73.5,
          72.5,
          70,
          71.5,
          70,
          71,
          71,
          73,
          71,
          71,
          73.5,
          73,
          73.5,
          70,
          73,
          74.5,
          71.5,
          72.5,
          72.5,
          73,
          73.5,
          72.5,
          71.5,
          72,
          72.5,
          73.5,
          72,
          73.5,
          71,
          73,
          71.5,
          73,
          72,
          72,
          73,
          73,
          73,
          72,
          72,
          73,
          71,
          71,
          71,
          72,
          75,
          71,
          72,
          74,
          73,
          73,
          75.9,
          73.8,
          74.3,
          75,
          76.9,
          73.7,
          73.8,
          74.3,
          75,
          77.5,
          74.9,
          75.3,
          72,
          72,
          73,
          72,
          74,
          73,
          76.7,
          75.7,
          75.3,
          75.8,
          77.5,
          77.1,
          75.5,
          75.6,
          74.8,
          76.7,
          77.5,
          75.4,
          73,
          75,
          75,
          76,
          75,
          74,
          74.5,
          73,
          76,
          70.5,
          74.5,
          74.5,
          72.5,
          72.5,
          73,
          72.5,
          74,
          74,
          71.5,
          73.5,
          71.5,
          73,
          72,
          72,
          60,
          75,
          74,
          71,
          73,
          70,
          75,
          73,
          70,
          71,
          76,
          63,
          75,
          77,
          75,
          75,
          76,
          75,
          77,
          75,
          75,
          76,
          77,
          75,
          75,
          75,
          75,
          77,
          75,
          76,
          75,
          75,
          76,
          76,
          75,
          76,
          74,
          68,
          71,
          67,
          73,
          70,
          73,
          70,
          69,
          69,
          71,
          71,
          75,
          78,
          76,
          75,
          77,
          75,
          73,
          78,
          74,
          74,
          80,
          77,
          76,
          75,
          76,
          77,
          75,
          75,
          79,
          76,
          75,
          75,
          75,
          78,
          76,
          76,
          77,
          75,
          72,
          72
         ],
         "yaxis": "y"
        }
       ],
       "layout": {
        "coloraxis": {
         "colorbar": {
          "title": {
           "text": "толщина"
          }
         },
         "colorscale": [
          [
           0,
           "#0d0887"
          ],
          [
           0.1111111111111111,
           "#46039f"
          ],
          [
           0.2222222222222222,
           "#7201a8"
          ],
          [
           0.3333333333333333,
           "#9c179e"
          ],
          [
           0.4444444444444444,
           "#bd3786"
          ],
          [
           0.5555555555555556,
           "#d8576b"
          ],
          [
           0.6666666666666666,
           "#ed7953"
          ],
          [
           0.7777777777777778,
           "#fb9f3a"
          ],
          [
           0.8888888888888888,
           "#fdca26"
          ],
          [
           1,
           "#f0f921"
          ]
         ]
        },
        "legend": {
         "tracegroupgap": 0
        },
        "margin": {
         "t": 60
        },
        "template": {
         "data": {
          "bar": [
           {
            "error_x": {
             "color": "#2a3f5f"
            },
            "error_y": {
             "color": "#2a3f5f"
            },
            "marker": {
             "line": {
              "color": "#E5ECF6",
              "width": 0.5
             },
             "pattern": {
              "fillmode": "overlay",
              "size": 10,
              "solidity": 0.2
             }
            },
            "type": "bar"
           }
          ],
          "barpolar": [
           {
            "marker": {
             "line": {
              "color": "#E5ECF6",
              "width": 0.5
             },
             "pattern": {
              "fillmode": "overlay",
              "size": 10,
              "solidity": 0.2
             }
            },
            "type": "barpolar"
           }
          ],
          "carpet": [
           {
            "aaxis": {
             "endlinecolor": "#2a3f5f",
             "gridcolor": "white",
             "linecolor": "white",
             "minorgridcolor": "white",
             "startlinecolor": "#2a3f5f"
            },
            "baxis": {
             "endlinecolor": "#2a3f5f",
             "gridcolor": "white",
             "linecolor": "white",
             "minorgridcolor": "white",
             "startlinecolor": "#2a3f5f"
            },
            "type": "carpet"
           }
          ],
          "choropleth": [
           {
            "colorbar": {
             "outlinewidth": 0,
             "ticks": ""
            },
            "type": "choropleth"
           }
          ],
          "contour": [
           {
            "colorbar": {
             "outlinewidth": 0,
             "ticks": ""
            },
            "colorscale": [
             [
              0,
              "#0d0887"
             ],
             [
              0.1111111111111111,
              "#46039f"
             ],
             [
              0.2222222222222222,
              "#7201a8"
             ],
             [
              0.3333333333333333,
              "#9c179e"
             ],
             [
              0.4444444444444444,
              "#bd3786"
             ],
             [
              0.5555555555555556,
              "#d8576b"
             ],
             [
              0.6666666666666666,
              "#ed7953"
             ],
             [
              0.7777777777777778,
              "#fb9f3a"
             ],
             [
              0.8888888888888888,
              "#fdca26"
             ],
             [
              1,
              "#f0f921"
             ]
            ],
            "type": "contour"
           }
          ],
          "contourcarpet": [
           {
            "colorbar": {
             "outlinewidth": 0,
             "ticks": ""
            },
            "type": "contourcarpet"
           }
          ],
          "heatmap": [
           {
            "colorbar": {
             "outlinewidth": 0,
             "ticks": ""
            },
            "colorscale": [
             [
              0,
              "#0d0887"
             ],
             [
              0.1111111111111111,
              "#46039f"
             ],
             [
              0.2222222222222222,
              "#7201a8"
             ],
             [
              0.3333333333333333,
              "#9c179e"
             ],
             [
              0.4444444444444444,
              "#bd3786"
             ],
             [
              0.5555555555555556,
              "#d8576b"
             ],
             [
              0.6666666666666666,
              "#ed7953"
             ],
             [
              0.7777777777777778,
              "#fb9f3a"
             ],
             [
              0.8888888888888888,
              "#fdca26"
             ],
             [
              1,
              "#f0f921"
             ]
            ],
            "type": "heatmap"
           }
          ],
          "heatmapgl": [
           {
            "colorbar": {
             "outlinewidth": 0,
             "ticks": ""
            },
            "colorscale": [
             [
              0,
              "#0d0887"
             ],
             [
              0.1111111111111111,
              "#46039f"
             ],
             [
              0.2222222222222222,
              "#7201a8"
             ],
             [
              0.3333333333333333,
              "#9c179e"
             ],
             [
              0.4444444444444444,
              "#bd3786"
             ],
             [
              0.5555555555555556,
              "#d8576b"
             ],
             [
              0.6666666666666666,
              "#ed7953"
             ],
             [
              0.7777777777777778,
              "#fb9f3a"
             ],
             [
              0.8888888888888888,
              "#fdca26"
             ],
             [
              1,
              "#f0f921"
             ]
            ],
            "type": "heatmapgl"
           }
          ],
          "histogram": [
           {
            "marker": {
             "pattern": {
              "fillmode": "overlay",
              "size": 10,
              "solidity": 0.2
             }
            },
            "type": "histogram"
           }
          ],
          "histogram2d": [
           {
            "colorbar": {
             "outlinewidth": 0,
             "ticks": ""
            },
            "colorscale": [
             [
              0,
              "#0d0887"
             ],
             [
              0.1111111111111111,
              "#46039f"
             ],
             [
              0.2222222222222222,
              "#7201a8"
             ],
             [
              0.3333333333333333,
              "#9c179e"
             ],
             [
              0.4444444444444444,
              "#bd3786"
             ],
             [
              0.5555555555555556,
              "#d8576b"
             ],
             [
              0.6666666666666666,
              "#ed7953"
             ],
             [
              0.7777777777777778,
              "#fb9f3a"
             ],
             [
              0.8888888888888888,
              "#fdca26"
             ],
             [
              1,
              "#f0f921"
             ]
            ],
            "type": "histogram2d"
           }
          ],
          "histogram2dcontour": [
           {
            "colorbar": {
             "outlinewidth": 0,
             "ticks": ""
            },
            "colorscale": [
             [
              0,
              "#0d0887"
             ],
             [
              0.1111111111111111,
              "#46039f"
             ],
             [
              0.2222222222222222,
              "#7201a8"
             ],
             [
              0.3333333333333333,
              "#9c179e"
             ],
             [
              0.4444444444444444,
              "#bd3786"
             ],
             [
              0.5555555555555556,
              "#d8576b"
             ],
             [
              0.6666666666666666,
              "#ed7953"
             ],
             [
              0.7777777777777778,
              "#fb9f3a"
             ],
             [
              0.8888888888888888,
              "#fdca26"
             ],
             [
              1,
              "#f0f921"
             ]
            ],
            "type": "histogram2dcontour"
           }
          ],
          "mesh3d": [
           {
            "colorbar": {
             "outlinewidth": 0,
             "ticks": ""
            },
            "type": "mesh3d"
           }
          ],
          "parcoords": [
           {
            "line": {
             "colorbar": {
              "outlinewidth": 0,
              "ticks": ""
             }
            },
            "type": "parcoords"
           }
          ],
          "pie": [
           {
            "automargin": true,
            "type": "pie"
           }
          ],
          "scatter": [
           {
            "marker": {
             "colorbar": {
              "outlinewidth": 0,
              "ticks": ""
             }
            },
            "type": "scatter"
           }
          ],
          "scatter3d": [
           {
            "line": {
             "colorbar": {
              "outlinewidth": 0,
              "ticks": ""
             }
            },
            "marker": {
             "colorbar": {
              "outlinewidth": 0,
              "ticks": ""
             }
            },
            "type": "scatter3d"
           }
          ],
          "scattercarpet": [
           {
            "marker": {
             "colorbar": {
              "outlinewidth": 0,
              "ticks": ""
             }
            },
            "type": "scattercarpet"
           }
          ],
          "scattergeo": [
           {
            "marker": {
             "colorbar": {
              "outlinewidth": 0,
              "ticks": ""
             }
            },
            "type": "scattergeo"
           }
          ],
          "scattergl": [
           {
            "marker": {
             "colorbar": {
              "outlinewidth": 0,
              "ticks": ""
             }
            },
            "type": "scattergl"
           }
          ],
          "scattermapbox": [
           {
            "marker": {
             "colorbar": {
              "outlinewidth": 0,
              "ticks": ""
             }
            },
            "type": "scattermapbox"
           }
          ],
          "scatterpolar": [
           {
            "marker": {
             "colorbar": {
              "outlinewidth": 0,
              "ticks": ""
             }
            },
            "type": "scatterpolar"
           }
          ],
          "scatterpolargl": [
           {
            "marker": {
             "colorbar": {
              "outlinewidth": 0,
              "ticks": ""
             }
            },
            "type": "scatterpolargl"
           }
          ],
          "scatterternary": [
           {
            "marker": {
             "colorbar": {
              "outlinewidth": 0,
              "ticks": ""
             }
            },
            "type": "scatterternary"
           }
          ],
          "surface": [
           {
            "colorbar": {
             "outlinewidth": 0,
             "ticks": ""
            },
            "colorscale": [
             [
              0,
              "#0d0887"
             ],
             [
              0.1111111111111111,
              "#46039f"
             ],
             [
              0.2222222222222222,
              "#7201a8"
             ],
             [
              0.3333333333333333,
              "#9c179e"
             ],
             [
              0.4444444444444444,
              "#bd3786"
             ],
             [
              0.5555555555555556,
              "#d8576b"
             ],
             [
              0.6666666666666666,
              "#ed7953"
             ],
             [
              0.7777777777777778,
              "#fb9f3a"
             ],
             [
              0.8888888888888888,
              "#fdca26"
             ],
             [
              1,
              "#f0f921"
             ]
            ],
            "type": "surface"
           }
          ],
          "table": [
           {
            "cells": {
             "fill": {
              "color": "#EBF0F8"
             },
             "line": {
              "color": "white"
             }
            },
            "header": {
             "fill": {
              "color": "#C8D4E3"
             },
             "line": {
              "color": "white"
             }
            },
            "type": "table"
           }
          ]
         },
         "layout": {
          "annotationdefaults": {
           "arrowcolor": "#2a3f5f",
           "arrowhead": 0,
           "arrowwidth": 1
          },
          "autotypenumbers": "strict",
          "coloraxis": {
           "colorbar": {
            "outlinewidth": 0,
            "ticks": ""
           }
          },
          "colorscale": {
           "diverging": [
            [
             0,
             "#8e0152"
            ],
            [
             0.1,
             "#c51b7d"
            ],
            [
             0.2,
             "#de77ae"
            ],
            [
             0.3,
             "#f1b6da"
            ],
            [
             0.4,
             "#fde0ef"
            ],
            [
             0.5,
             "#f7f7f7"
            ],
            [
             0.6,
             "#e6f5d0"
            ],
            [
             0.7,
             "#b8e186"
            ],
            [
             0.8,
             "#7fbc41"
            ],
            [
             0.9,
             "#4d9221"
            ],
            [
             1,
             "#276419"
            ]
           ],
           "sequential": [
            [
             0,
             "#0d0887"
            ],
            [
             0.1111111111111111,
             "#46039f"
            ],
            [
             0.2222222222222222,
             "#7201a8"
            ],
            [
             0.3333333333333333,
             "#9c179e"
            ],
            [
             0.4444444444444444,
             "#bd3786"
            ],
            [
             0.5555555555555556,
             "#d8576b"
            ],
            [
             0.6666666666666666,
             "#ed7953"
            ],
            [
             0.7777777777777778,
             "#fb9f3a"
            ],
            [
             0.8888888888888888,
             "#fdca26"
            ],
            [
             1,
             "#f0f921"
            ]
           ],
           "sequentialminus": [
            [
             0,
             "#0d0887"
            ],
            [
             0.1111111111111111,
             "#46039f"
            ],
            [
             0.2222222222222222,
             "#7201a8"
            ],
            [
             0.3333333333333333,
             "#9c179e"
            ],
            [
             0.4444444444444444,
             "#bd3786"
            ],
            [
             0.5555555555555556,
             "#d8576b"
            ],
            [
             0.6666666666666666,
             "#ed7953"
            ],
            [
             0.7777777777777778,
             "#fb9f3a"
            ],
            [
             0.8888888888888888,
             "#fdca26"
            ],
            [
             1,
             "#f0f921"
            ]
           ]
          },
          "colorway": [
           "#636efa",
           "#EF553B",
           "#00cc96",
           "#ab63fa",
           "#FFA15A",
           "#19d3f3",
           "#FF6692",
           "#B6E880",
           "#FF97FF",
           "#FECB52"
          ],
          "font": {
           "color": "#2a3f5f"
          },
          "geo": {
           "bgcolor": "white",
           "lakecolor": "white",
           "landcolor": "#E5ECF6",
           "showlakes": true,
           "showland": true,
           "subunitcolor": "white"
          },
          "hoverlabel": {
           "align": "left"
          },
          "hovermode": "closest",
          "mapbox": {
           "style": "light"
          },
          "paper_bgcolor": "white",
          "plot_bgcolor": "#E5ECF6",
          "polar": {
           "angularaxis": {
            "gridcolor": "white",
            "linecolor": "white",
            "ticks": ""
           },
           "bgcolor": "#E5ECF6",
           "radialaxis": {
            "gridcolor": "white",
            "linecolor": "white",
            "ticks": ""
           }
          },
          "scene": {
           "xaxis": {
            "backgroundcolor": "#E5ECF6",
            "gridcolor": "white",
            "gridwidth": 2,
            "linecolor": "white",
            "showbackground": true,
            "ticks": "",
            "zerolinecolor": "white"
           },
           "yaxis": {
            "backgroundcolor": "#E5ECF6",
            "gridcolor": "white",
            "gridwidth": 2,
            "linecolor": "white",
            "showbackground": true,
            "ticks": "",
            "zerolinecolor": "white"
           },
           "zaxis": {
            "backgroundcolor": "#E5ECF6",
            "gridcolor": "white",
            "gridwidth": 2,
            "linecolor": "white",
            "showbackground": true,
            "ticks": "",
            "zerolinecolor": "white"
           }
          },
          "shapedefaults": {
           "line": {
            "color": "#2a3f5f"
           }
          },
          "ternary": {
           "aaxis": {
            "gridcolor": "white",
            "linecolor": "white",
            "ticks": ""
           },
           "baxis": {
            "gridcolor": "white",
            "linecolor": "white",
            "ticks": ""
           },
           "bgcolor": "#E5ECF6",
           "caxis": {
            "gridcolor": "white",
            "linecolor": "white",
            "ticks": ""
           }
          },
          "title": {
           "x": 0.05
          },
          "xaxis": {
           "automargin": true,
           "gridcolor": "white",
           "linecolor": "white",
           "ticks": "",
           "title": {
            "standoff": 15
           },
           "zerolinecolor": "white",
           "zerolinewidth": 2
          },
          "yaxis": {
           "automargin": true,
           "gridcolor": "white",
           "linecolor": "white",
           "ticks": "",
           "title": {
            "standoff": 15
           },
           "zerolinecolor": "white",
           "zerolinewidth": 2
          }
         }
        },
        "xaxis": {
         "anchor": "y",
         "domain": [
          0,
          1
         ],
         "title": {
          "text": "толщина"
         }
        },
        "yaxis": {
         "anchor": "x",
         "domain": [
          0,
          1
         ],
         "title": {
          "text": "прочность при сдвиге"
         }
        }
       }
      }
     },
     "metadata": {},
     "output_type": "display_data"
    }
   ],
   "source": [
    "fig = px.scatter(\n",
    "    data_frame=df, \n",
    "    x='толщина',\n",
    "    y='прочность при сдвиге',\n",
    "    color='толщина'\n",
    ")\n",
    "fig.show()"
   ]
  }
 ],
 "metadata": {
  "kernelspec": {
   "display_name": "Python 3.9.7 ('Sf')",
   "language": "python",
   "name": "python3"
  },
  "language_info": {
   "codemirror_mode": {
    "name": "ipython",
    "version": 3
   },
   "file_extension": ".py",
   "mimetype": "text/x-python",
   "name": "python",
   "nbconvert_exporter": "python",
   "pygments_lexer": "ipython3",
   "version": "3.9.7"
  },
  "orig_nbformat": 4,
  "vscode": {
   "interpreter": {
    "hash": "8a2e06fd7f529cb6a81f6759db4b9e7468a1bc2e94fb3e4406aba6e8ef7af0a9"
   }
  }
 },
 "nbformat": 4,
 "nbformat_minor": 2
}
