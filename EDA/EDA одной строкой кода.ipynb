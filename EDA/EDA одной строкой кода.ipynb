{
 "cells": [
  {
   "cell_type": "markdown",
   "metadata": {},
   "source": [
    "# БОНУС. EDA одной строкой кода\n",
    "\n",
    "В реальной жизни большую часть работы над моделью занимает разведывательный анализ данных. С целью решения подобной проблемы появились инструменты автоматической визуализации и представления датасета.\n",
    "\n",
    "К таким инструментам можно отнести следующие библиотеки Python, которые могут выполнять EDA всего одной строкой кода:\n",
    "\n",
    "    d-tale; \n",
    "    pandas-profiling;\n",
    "    sweetviz.\n",
    "\n",
    "### Pandas-profiling — \n",
    "\n",
    "это библиотека с открытым исходным кодом, которая создаёт подробный отчёт по данным. Pandas-profiling можно легко использовать для больших наборов данных: отчёты создаются всего за несколько секунд.\n",
    "\n",
    "Установка:\n",
    "\n",
    "pip install pandas-profiling\n",
    "\n",
    "Работа с Pandas-profiling на примере винных обзоров\n",
    "\n",
    "Начните свою работу с загрузки датасета винных обзоров, с которым мы познакомились в Юните 5. Проверка.\n",
    "\n",
    "import pandas as pd\n",
    "from pandas_profiling import ProfileReport\n",
    "\n",
    "df = pd.read_csv('wine.csv')\n",
    "\n",
    "Сгенерируйте отчёт одной строкой.\n",
    "\n",
    "profile = ProfileReport(df, title=\"Wine Pandas Profiling Report\")\n",
    "profile\n",
    "\n",
    "Результат отчёта pandas-profiling можно использовать для первичной визуализации набора данных, числового и статистического анализа переменных, с которым вы познакомитесь в следующих моделях по статистике. Также отчёт используется для вывода корреляции переменных, выявления пропущенных значений, а также для просмотра первых и последних строк набора данных."
   ]
  },
  {
   "cell_type": "code",
   "execution_count": 9,
   "metadata": {},
   "outputs": [],
   "source": [
    "import pandas as pd\n",
    "from pandas_profiling import ProfileReport\n"
   ]
  },
  {
   "cell_type": "code",
   "execution_count": 4,
   "metadata": {},
   "outputs": [],
   "source": [
    "df = pd.read_csv('data/wine.csv')\n",
    "df_cleared = pd.read_csv('wine_cleared.csv')"
   ]
  },
  {
   "cell_type": "code",
   "execution_count": null,
   "metadata": {},
   "outputs": [],
   "source": [
    "profile = ProfileReport(df, title=\"Wine Pandas Profiling Report\")\n",
    "profile"
   ]
  },
  {
   "cell_type": "code",
   "execution_count": null,
   "metadata": {},
   "outputs": [],
   "source": [
    "profile_cl = ProfileReport(df_cleared, title=\"Wine Pandas Profiling Report\")\n",
    "profile_cl"
   ]
  },
  {
   "cell_type": "markdown",
   "metadata": {},
   "source": [
    "### Sweetviz\n",
    "\n",
    "Sweetviz — это библиотека автоматического анализа с открытым исходным кодом. Sweetviz также можно использовать для сравнения нескольких наборов данных и выводов по ним. Это может быть удобно, когда необходимо сравнить обучающий и тестовый наборы данных. Об этом вы узнаете далее в модулях про машинное обучение.\n",
    "\n",
    "Установка:\n",
    "\n",
    "pip install sweetviz\n",
    "\n",
    "Работа со Sweetviz на примере винных обзоров\n",
    "\n",
    "Начните свою работу с загрузки датасета винных обзоров.\n",
    "\n",
    "import pandas as pd\n",
    "import sweetviz as sv\n",
    "\n",
    "df = pd.read_csv('wine.csv')\n",
    "\n",
    "Чтобы проанализировать набор данных, просто используйте функцию analyze(), а затем — show_html():\n",
    "\n",
    "report = sv.analyze(my_dataframe)\n",
    "report.show_html()\n",
    "\n"
   ]
  },
  {
   "cell_type": "code",
   "execution_count": null,
   "metadata": {},
   "outputs": [],
   "source": [
    "import pandas as pd\n",
    "import sweetviz as sv\n",
    "\n",
    "report = sv.analyze(df)\n",
    "report.show_html()"
   ]
  },
  {
   "cell_type": "markdown",
   "metadata": {},
   "source": [
    "### D-Tale\n",
    "D-Tale — это библиотека с открытым исходным кодом. D-Tale делает подробный разведывательный анализ набора данных. Интересная особенность: библиотека предоставляет функцию экспорта кода для каждого графика или элемента анализа в отчёте.\n",
    "\n",
    "Установка:\n",
    "\n",
    "pip install dtale\n",
    "\n",
    "Работа с D-Tale на примере винных обзоров\n",
    "\n",
    "Начните свою работу с загрузки датасета винных обзоров.\n",
    "\n",
    "import pandas as pd\n",
    "import dtale\n",
    "\n",
    "df = pd.read_csv('wine.csv')\n",
    "\n",
    "Сгенерируйте отчёт одной строкой.\n",
    "\n",
    "d = dtale.show(df)\n",
    "d"
   ]
  },
  {
   "cell_type": "code",
   "execution_count": 13,
   "metadata": {},
   "outputs": [],
   "source": [
    "import dtale"
   ]
  },
  {
   "cell_type": "code",
   "execution_count": null,
   "metadata": {},
   "outputs": [],
   "source": [
    "d = dtale.show(df)\n",
    "d"
   ]
  }
 ],
 "metadata": {
  "interpreter": {
   "hash": "8a2e06fd7f529cb6a81f6759db4b9e7468a1bc2e94fb3e4406aba6e8ef7af0a9"
  },
  "kernelspec": {
   "display_name": "Python 3.9.7 ('Sf')",
   "language": "python",
   "name": "python3"
  },
  "language_info": {
   "codemirror_mode": {
    "name": "ipython",
    "version": 3
   },
   "file_extension": ".py",
   "mimetype": "text/x-python",
   "name": "python",
   "nbconvert_exporter": "python",
   "pygments_lexer": "ipython3",
   "version": "3.9.7"
  },
  "orig_nbformat": 4
 },
 "nbformat": 4,
 "nbformat_minor": 2
}
