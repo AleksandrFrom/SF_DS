{
 "cells": [
  {
   "cell_type": "markdown",
   "metadata": {},
   "source": [
    "# EDA-1. Алгоритмы и методы EDA"
   ]
  },
  {
   "cell_type": "markdown",
   "metadata": {},
   "source": [
    "## 1. Введение\n",
    "\n",
    "EDA (Exploratory Data Analysis) — разведывательный анализ данных. Этот этап дата-сайентисты проводят перед построением самой модели. Цель этого этапа — понять, что нам могут дать данные, и как признаки могут быть взаимосвязаны между собой. Понимание изначальных признаков позволит создать новые, более сильные признаки и повысить качество модели. \n",
    "\n",
    "Качественная модель способна выдавать правильные результаты на любых новых данных, которые никогда не участвовали в обучении. \n",
    "\n"
   ]
  },
  {
   "cell_type": "markdown",
   "metadata": {},
   "source": [
    "## 2. Жизненный цикл ML-модели и роль EDA в машинном обучении\n",
    "\n",
    "Тот, кто занимается машинным обучением, обычно проходит следующие этапы: формулировка бизнес-проблемы, сбор данных и их очистка, разведывательный анализ данных, разработка и построение модели, внедрение модели в продакшен.\n",
    "\n",
    "Всё это называется жизненным циклом модели машинного обучения.\n"
   ]
  },
  {
   "cell_type": "markdown",
   "metadata": {},
   "source": [
    "### 0. Постановка проблемы\n",
    "\n",
    "Жизненный цикл нашей модели начинается с определения проблемы для бизнеса. Мы будем рассматривать все этапы цикла на одном примере.\n",
    "\n",
    "Микрокредитная организация решила автоматизировать процесс выдачи кредитов и обратилась за помощью к специалистам по машинному обучению. Вместе с аналитиками компания выяснила, что им необходима прогностическая модель, которая определяла бы по данным клиента его дефолтность.\n",
    "\n",
    "Дефолт — невыполнение обязательств договора займа, например неоплата процентов или основного долга в установленный период.\n",
    "\n",
    "После того как задача была поставлена, начинается процесс построения модели."
   ]
  },
  {
   "cell_type": "markdown",
   "metadata": {},
   "source": [
    "### 1. Сбор данных\n",
    "\n",
    "Модель машинного обучения напрямую зависит от количества и качества передаваемых в неё данных. Чтобы получить в итоговой модели более качественные данные, на этапе сбора нам необходимо собрать максимальное их количество.\n",
    "\n",
    "Дата-аналитики микрокредитной организации запросили у сотового оператора информацию о перемещениях клиента. Так компания сможет проверить, верно ли клиент указал место проживания и работы или предоставил ложную информацию, что, по мнению аналитиков, может стать полезным признаком."
   ]
  },
  {
   "cell_type": "markdown",
   "metadata": {},
   "source": [
    "### 2. Очистка данных\n",
    "\n",
    "После сбора данных мы должны избавиться от «мусора» (некачественных данных), и именно от этого этапа будет зависеть качество финальной модели машинного обучения. \n",
    "\n",
    "Garbage in — garbage out (GIGO), в пер. с англ. «мусор на входе — мусор на выходе».\n",
    "\n",
    "На этапе очистки данных мы определяем пропущенные значения, аномалии и выбросы в данных. \n",
    "\n",
    "Данные с пропусками в большинстве случаев нельзя передать в модель.\n",
    "\n",
    "В случае с микрокредитной организацией на ранних этапах работы компании в анкете клиента не заполнялся регион проживания. Аналитики пытаются по адресу заполнить значения, а там, где это невозможно, просто проставляют значение ‘unknown’, как делали это вы в модуле PYTHON-14. Очистка данных.\n",
    "\n",
    "Дублирующиеся данные и выбросы, аномальные значения не приносят пользу алгоритму. \n",
    "\n",
    "Слишком высокие значения зарплат чаще всего являются ложной информацией среди заемщиков и могут сбивать алгоритмы с толку, поэтому для таких признаков проводят обработку выбросов. Эти действия вы выполняли в модуле PYTHON-14. Очистка данных, тем самым подготавливая почву для последующего анализа данных.\n"
   ]
  },
  {
   "cell_type": "markdown",
   "metadata": {},
   "source": [
    "### 3. Разведывательный анализ данных \n",
    "\n",
    "Данные ценны не сами по себе, а только если приносят пользу. Разведывательный анализ данных похож на работу детектива: имея под рукой данные, вы ищете подсказки и идеи для извлечения из них полезной информации для бизнес-задачи, которую вы пытаетесь решить. Вы исследуете одну переменную, затем две переменные вместе, а затем сразу несколько переменных. Если ваша модель показывает неудовлетворительные результаты, то почти всегда виновником является набор обучающих данных, содержащий ошибки. Они и создают потолок качества для вашей модели.\n",
    "\n",
    "Дата-сайентисты обнаружили, что очень важным параметром является балл из кредитной истории заёмщика. Он действительно содержит в себе очень много информации о поведении заёмщика в предыдущих кредитах. Такая информация будет скорее всего полезна модели. Специалисты по данным приняли решение раскрыть этот важный признак на несколько составляющих, поскольку полагают, что новые, более сильные признаки сделают модель лучше."
   ]
  },
  {
   "cell_type": "markdown",
   "metadata": {},
   "source": [
    "### 4. Этап моделирования и вывода модели в продакшен \n",
    "\n",
    "❗️ Важно! На самом деле цикл машинного обучения редко имеет линейную структуру. Он представляют собой повторяющийся цикл улучшения данных и модели. В любой момент мы можем вернуться на этап разведывательного анализа данных или даже на этап формулирования бизнес-проблемы, если качество модели неудовлетворительное.\n",
    "\n",
    "1.Дата-аналитики проводят предварительный анализ данных и их очистку, ищут закономерности в данных и ответы на запросы бизнеса.\n",
    "\n",
    "Предварительный анализ и очистку данных вы выполняли в модуле PYTHON-14. Очистка данных и в модулях и PYTHON-11-12. Базовые и продвинутые приёмы работы с данными в Pandas. Определению проблем бизнеса вы научитесь позже в курсе в блоках машинного обучения в бизнесе.\n",
    "\n",
    "2.Дата-сайентист работает с большими объёмами данных, создаёт рекомендательные алгоритмы и прогнозные модели. Эти этапы вы будете подробно изучать далее в курсе в блоках по машинному обучению.\n",
    "\n",
    "3.Дата-инженер обеспечивает сбор и хранение данных. Дата-инженер также занимается внедрением финальной модели машинного обучения в работающую систему."
   ]
  },
  {
   "cell_type": "markdown",
   "metadata": {},
   "source": [
    "## 3. Алгоритм и методы EDA\n",
    "\n",
    "### Метод Feature Engineering (проектирование признаков)\n",
    "\n",
    "Это процесс создания новых признаков для повышения качества прогнозной модели. Для генерации новых признаков мы можем использовать внешние источники данных или конструировать признаки из имеющихся признаков в наборе данных. \n",
    "\n",
    "Цель этого метода — создать новые, более сильные признаки для обучения модели.\n",
    "\n",
    "### Метод Feature Selection (отбор признаков)\n",
    "\n",
    "Это процесс выбора признаков из общего набора данных признаков, больше всего влияющих на качество модели.\n",
    "\n",
    "Проверить это помогают различные статистические тесты значимости, которые мы подробно будем изучать далее в модулях про разведывательный анализ данных.\n",
    "\n",
    "### Метод кодирования признаков\n",
    "\n",
    "Чаще всего в кодировании нуждаются категориальные признаки. Вы с ними познакомились в PYTHON-11. Базовые приемы работы с данными в Pandas Юнит 5. Тип данных Category. Они представлены обычно в строковом формате, а большинство алгоритмов машинного обучения требуют численного формата. \n",
    "\n",
    "У нас есть признак, говорящий о том, к какой кухне мира относят ресторан, например к средиземноморской. \n",
    "\n",
    "В таком виде мы не можем передать данные в модель, поэтому закодируем их таким образом:\n",
    "\n",
    "1 — средиземноморская кухня\n",
    "\n",
    "2  — китайская\n",
    "\n",
    "3 — грузинская\n",
    "\n",
    "Есть и другое кодирование: когда мы переходим от численного признака к категории за счёт кодирования интервалов одним значением. Например, средний чек в ресторане мы можем закодировать как:\n",
    "\n",
    "1 — до 1 000 руб.\n",
    "\n",
    "2 — от 1 000 руб. до 3 000 руб.\n",
    "\n",
    "3 — от 3 000 руб. и выше.\n",
    "\n",
    "Такое кодирование помогает отнести ресторан к определённому ценовому сегменту. Мы можем предположить, что рестораны из высокого ценового сегмента (значение 3) скорее получат высокий рейтинг. Однако, чтобы проверить эту гипотезу, нам необходимы знания математической статистики.\n",
    "\n",
    "Проверка статистических гипотез — также один из важных методов разведывательного анализа данных.\n",
    "\n"
   ]
  },
  {
   "cell_type": "markdown",
   "metadata": {},
   "source": [
    "## 4. Знакомство с данными: винные обзоры\n",
    "\n",
    "Определив бизнес-задачу, вы перешли к сбору данных для обучения модели. После нескольких недель парсинга сайта WineEnthusiast вам удалось собрать около 130 тысяч строк обзоров вин для анализа и обучения.\n",
    "\n",
    "Вот какие признаки вам удалось собрать:\n",
    "\n",
    "country — страна-производитель вина.\n",
    "\n",
    "description — подробное описание.\n",
    "\n",
    "designation — название виноградника, где выращивают виноград для вина.\n",
    "\n",
    "points — баллы, которыми WineEnthusiast оценил вино по шкале от 1 до 100.\n",
    "\n",
    "price — стоимость бутылки вина.\n",
    "\n",
    "province — провинция или штат.\n",
    "\n",
    "region_1 — винодельческий район в провинции или штате (например Напа).\n",
    "\n",
    "region_2 — конкретный регион. Иногда в пределах винодельческой зоны указываются более конкретные регионы (например Резерфорд в долине Напа), но это значение может быть пустым.\n",
    "\n",
    "taster_name — имя сомелье.\n",
    "\n",
    "taster_twitter_handle — твиттер сомелье.\n",
    "\n",
    "title — название вина, которое часто содержит год и другую подробную информацию.\n",
    "\n",
    "variety — сорт винограда, из которого изготовлено вино (например Пино Нуар).\n",
    "\n",
    "winery — винодельня, которая производила вино.\n"
   ]
  },
  {
   "cell_type": "code",
   "execution_count": null,
   "metadata": {},
   "outputs": [],
   "source": [
    "# импортируем необходимые пакеты\n",
    "\n",
    "import pandas as pd\n",
    "import seaborn as sns\n",
    "\n",
    "data = pd.read_csv('data/wine.csv')\n",
    "data.info()"
   ]
  },
  {
   "cell_type": "code",
   "execution_count": 7,
   "metadata": {},
   "outputs": [
    {
     "name": "stdout",
     "output_type": "stream",
     "text": [
      "19\n",
      "3300.0\n"
     ]
    }
   ],
   "source": [
    "print(data['taster_name'].nunique())\n",
    "print(data['price'].max())"
   ]
  },
  {
   "cell_type": "code",
   "execution_count": 18,
   "metadata": {},
   "outputs": [
    {
     "name": "stdout",
     "output_type": "stream",
     "text": [
      "country                      43\n",
      "description              119955\n",
      "designation               37979\n",
      "points                       21\n",
      "price                       390\n",
      "province                    425\n",
      "region_1                   1229\n",
      "region_2                     17\n",
      "taster_name                  19\n",
      "taster_twitter_handle        15\n",
      "title                    118840\n",
      "variety                     707\n",
      "winery                    16757\n",
      "dtype: int64\n",
      "0         False\n",
      "1         False\n",
      "2         False\n",
      "3         False\n",
      "4         False\n",
      "          ...  \n",
      "129966    False\n",
      "129967    False\n",
      "129968    False\n",
      "129969    False\n",
      "129970    False\n",
      "Name: description, Length: 129971, dtype: bool\n"
     ]
    }
   ],
   "source": [
    "print(data.nunique())\n",
    "data['description'].nunique() == data.shape[0]\n",
    "print(data['description'].duplicated())\n"
   ]
  },
  {
   "cell_type": "code",
   "execution_count": 12,
   "metadata": {},
   "outputs": [
    {
     "name": "stdout",
     "output_type": "stream",
     "text": [
      "Число найденных дубликатов: 9983\n"
     ]
    }
   ],
   "source": [
    "dupl_columns = list(data.columns)\n",
    "#dupl_columns.remove('id')\n",
    "\n",
    "mask = data.duplicated(subset=dupl_columns)\n",
    "data_duplicates = data[mask]\n",
    "print(f'Число найденных дубликатов: {data_duplicates.shape[0]}')"
   ]
  },
  {
   "cell_type": "code",
   "execution_count": null,
   "metadata": {},
   "outputs": [],
   "source": [
    "cols_null_percent = data.isnull().mean() * 100\n",
    "cols_with_null = cols_null_percent[cols_null_percent>0].sort_values(ascending=False)\n",
    "display(cols_with_null)"
   ]
  },
  {
   "cell_type": "code",
   "execution_count": 14,
   "metadata": {},
   "outputs": [
    {
     "data": {
      "text/plain": [
       "country                  0.0\n",
       "description              0.0\n",
       "designation              0.0\n",
       "points                   0.0\n",
       "price                    0.0\n",
       "province                 0.0\n",
       "region_1                 0.0\n",
       "taster_name              0.0\n",
       "taster_twitter_handle    0.0\n",
       "title                    0.0\n",
       "variety                  0.0\n",
       "winery                   0.0\n",
       "dtype: float64"
      ]
     },
     "execution_count": 14,
     "metadata": {},
     "output_type": "execute_result"
    }
   ],
   "source": [
    "#создаем копию исходной таблицы\n",
    "drop_data = data.copy()\n",
    "#задаем минимальный порог: вычисляем 70% от числа строк\n",
    "thresh = drop_data.shape[0]*0.7\n",
    "#удаляем столбцы, в которых более 30% (100-70) пропусков\n",
    "drop_data = drop_data.dropna(how='any', thresh=thresh, axis=1)\n",
    "#удаляем записи, в которых есть хотя бы 1 пропуск\n",
    "drop_data = drop_data.dropna(how='any', axis=0)\n",
    "#отображаем результирующую долю пропусков\n",
    "drop_data.isnull().mean()"
   ]
  },
  {
   "cell_type": "code",
   "execution_count": 19,
   "metadata": {},
   "outputs": [
    {
     "data": {
      "text/plain": [
       "array([[<AxesSubplot:title={'center':'points'}>,\n",
       "        <AxesSubplot:title={'center':'price'}>]], dtype=object)"
      ]
     },
     "execution_count": 19,
     "metadata": {},
     "output_type": "execute_result"
    },
    {
     "data": {
      "image/png": "[encoded data removed]",
      "text/plain": [
       "<Figure size 432x288 with 2 Axes>"
      ]
     },
     "metadata": {
      "needs_background": "light"
     },
     "output_type": "display_data"
    }
   ],
   "source": [
    "# построим распеределение всех возможных признаков быстрой просто визуализацией\n",
    "hist = data.hist()\n",
    "hist"
   ]
  },
  {
   "cell_type": "code",
   "execution_count": 21,
   "metadata": {},
   "outputs": [
    {
     "data": {
      "text/plain": [
       "<AxesSubplot:>"
      ]
     },
     "execution_count": 21,
     "metadata": {},
     "output_type": "execute_result"
    },
    {
     "data": {
      "image/png": "[encoded data removed]",
      "text/plain": [
       "<Figure size 432x288 with 2 Axes>"
      ]
     },
     "metadata": {
      "needs_background": "light"
     },
     "output_type": "display_data"
    }
   ],
   "source": [
    "sns.heatmap(data.isnull())"
   ]
  },
  {
   "cell_type": "code",
   "execution_count": 22,
   "metadata": {},
   "outputs": [],
   "source": [
    "data = data.drop(['region_2'], axis=1) # имеет порядка 60% пропусков, лучше избавиться от такого признака"
   ]
  },
  {
   "cell_type": "code",
   "execution_count": 25,
   "metadata": {},
   "outputs": [
    {
     "data": {
      "text/plain": [
       "country                  0.0\n",
       "description              0.0\n",
       "designation              0.0\n",
       "points                   0.0\n",
       "price                    0.0\n",
       "province                 0.0\n",
       "region_1                 0.0\n",
       "taster_name              0.0\n",
       "taster_twitter_handle    0.0\n",
       "title                    0.0\n",
       "variety                  0.0\n",
       "winery                   0.0\n",
       "dtype: float64"
      ]
     },
     "execution_count": 25,
     "metadata": {},
     "output_type": "execute_result"
    }
   ],
   "source": [
    "# обрабатываем пропуски в категориальных признаках самым простым вариантом, замена на unknown\n",
    "df = data.copy()\n",
    "df['designation'] = df['designation'].fillna('unknown')\n",
    "df['region_1'] = df['region_1'].fillna('unknown')\n",
    "df['taster_name'] = df['taster_name'].fillna('unknown')\n",
    "df['taster_twitter_handle'] = df['taster_twitter_handle'].fillna('unknown')\n",
    "\n",
    "# признаки с маленьким количеством пропусков заменим на самые частовречающиеся значения\n",
    "df['country'] = df['country'].fillna('US')\n",
    "df['price'] = df['price'].fillna(df['price'].mean())\n",
    "df['province'] = df['province'].fillna('California')\n",
    "df['variety'] = df['variety'].fillna('Pinot Noir')\n",
    "\n",
    "#выводим результирующую долю пропусков\n",
    "df.isnull().mean()"
   ]
  },
  {
   "cell_type": "code",
   "execution_count": 26,
   "metadata": {},
   "outputs": [
    {
     "name": "stdout",
     "output_type": "stream",
     "text": [
      "<class 'pandas.core.frame.DataFrame'>\n",
      "RangeIndex: 129971 entries, 0 to 129970\n",
      "Data columns (total 12 columns):\n",
      " #   Column                 Non-Null Count   Dtype  \n",
      "---  ------                 --------------   -----  \n",
      " 0   country                129971 non-null  object \n",
      " 1   description            129971 non-null  object \n",
      " 2   designation            129971 non-null  object \n",
      " 3   points                 129971 non-null  int64  \n",
      " 4   price                  129971 non-null  float64\n",
      " 5   province               129971 non-null  object \n",
      " 6   region_1               129971 non-null  object \n",
      " 7   taster_name            129971 non-null  object \n",
      " 8   taster_twitter_handle  129971 non-null  object \n",
      " 9   title                  129971 non-null  object \n",
      " 10  variety                129971 non-null  object \n",
      " 11  winery                 129971 non-null  object \n",
      "dtypes: float64(1), int64(1), object(10)\n",
      "memory usage: 11.9+ MB\n"
     ]
    }
   ],
   "source": [
    "df.info()"
   ]
  },
  {
   "cell_type": "code",
   "execution_count": 27,
   "metadata": {},
   "outputs": [],
   "source": [
    "# в числовом признаке выберем метод замены средним значением\n",
    "df['price'] = df['price'].fillna(df['price'].mean())"
   ]
  },
  {
   "cell_type": "code",
   "execution_count": 28,
   "metadata": {},
   "outputs": [
    {
     "data": {
      "text/plain": [
       "<AxesSubplot:>"
      ]
     },
     "execution_count": 28,
     "metadata": {},
     "output_type": "execute_result"
    },
    {
     "data": {
      "image/png": "[encoded data removed]",
      "text/plain": [
       "<Figure size 432x288 with 2 Axes>"
      ]
     },
     "metadata": {
      "needs_background": "light"
     },
     "output_type": "display_data"
    }
   ],
   "source": [
    "sns.heatmap(df.isnull()) # убеждаемся, что датасет без пропусков"
   ]
  },
  {
   "cell_type": "code",
   "execution_count": 29,
   "metadata": {},
   "outputs": [],
   "source": [
    "df = df.to_csv('wine_cleared.csv', index=False) # сохраняем очищенный датасет для дальнейшей работы"
   ]
  }
 ],
 "metadata": {
  "interpreter": {
   "hash": "8a2e06fd7f529cb6a81f6759db4b9e7468a1bc2e94fb3e4406aba6e8ef7af0a9"
  },
  "kernelspec": {
   "display_name": "Python 3.9.7 ('Sf')",
   "language": "python",
   "name": "python3"
  },
  "language_info": {
   "codemirror_mode": {
    "name": "ipython",
    "version": 3
   },
   "file_extension": ".py",
   "mimetype": "text/x-python",
   "name": "python",
   "nbconvert_exporter": "python",
   "pygments_lexer": "ipython3",
   "version": "3.9.7"
  },
  "orig_nbformat": 4
 },
 "nbformat": 4,
 "nbformat_minor": 2
}
