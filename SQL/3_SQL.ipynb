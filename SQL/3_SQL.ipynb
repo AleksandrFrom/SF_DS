{
 "cells": [
  {
   "cell_type": "markdown",
   "metadata": {},
   "source": [
    "# Соединение таблиц\n",
    "\n",
    "## 1. Знакомимся с данными\n",
    "\n",
    "Таблица teams с данными о командах\n",
    "Название столбца\n",
    "\t\n",
    "Содержимое столбца\n",
    "id \tid команды\n",
    "api_id \tключ на таблицу matches\n",
    "long_name \tполное название команды\n",
    "short_name \tсокращённое название команды\n",
    "\n",
    "\n",
    "Таблица matches с данными о матчах\n",
    "Название столбца\n",
    "\t\n",
    "Содержимое столбца\n",
    "id \tid матча\n",
    "season \tсезон\n",
    "date \tдата матча\n",
    "home_team_api_id \tapi_id домашней команды, ключ на таблицу teams\n",
    "away_team_api_id \tapi_id гостевой команды, ключ на таблицу teams\n",
    "home_team_goals \tколичество голов домашней команды\n",
    "away_team_goals \tколичество голов гостевой команды\n",
    "\n",
    "Напишите запрос, который выведет сезон (season), общее количество забитых мячей домашними (total_home_goals) и гостевыми (total_away_goals) командами.\n",
    "Отсортируйте по столбцу с сезоном в порядке возрастания.\n",
    "\n",
    "select \n",
    "season,\n",
    "sum(home_team_goals) as total_home_goals,\n",
    "sum(away_team_goals) as total_away_goals\n",
    "from sql.matches\n",
    "group by season\n",
    "order by season asc\n",
    "\n"
   ]
  },
  {
   "cell_type": "markdown",
   "metadata": {},
   "source": [
    "## 2. Соединение таблиц по ключу"
   ]
  }
 ],
 "metadata": {
  "language_info": {
   "name": "python"
  },
  "orig_nbformat": 4
 },
 "nbformat": 4,
 "nbformat_minor": 2
}
